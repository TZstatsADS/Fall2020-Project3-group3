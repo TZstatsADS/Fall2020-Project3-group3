{
  "nbformat": 4,
  "nbformat_minor": 0,
  "metadata": {
    "colab": {
      "name": "Autoencoder_YueLiang.ipynb",
      "provenance": [],
      "collapsed_sections": []
    },
    "kernelspec": {
      "name": "python3",
      "display_name": "Python 3"
    }
  },
  "cells": [
    {
      "cell_type": "markdown",
      "metadata": {
        "id": "6_NHMkvjfHzt"
      },
      "source": [
        "# **Import Required Packages**"
      ]
    },
    {
      "cell_type": "code",
      "metadata": {
        "id": "Sul9PJjDfFlb"
      },
      "source": [
        "import numpy as np\n",
        "import scipy.io\n",
        "import sklearn.metrics\n",
        "import sklearn \n",
        "import os\n",
        "import random\n",
        "import pandas as pd\n",
        "import time\n",
        "from sklearn.preprocessing import StandardScaler,MinMaxScaler\n",
        "from sklearn.model_selection import train_test_split\n",
        "from keras import Sequential\n",
        "\n",
        "from keras import initializers\n",
        "from keras.optimizers import Adam\n",
        "import matplotlib.pyplot as plt\n",
        "import sklearn.model_selection\n",
        "import tensorflow as tf"
      ],
      "execution_count": 1,
      "outputs": []
    },
    {
      "cell_type": "markdown",
      "metadata": {
        "id": "Og9fOZc5Bzo9"
      },
      "source": [
        "## **In this model, we will be using the coordinates of the fiducial points only. And view the coordinates as the unsupervised learning to learn the pattern first using autoencoder combining encoder and decoder. Then map the coordinates with the label using softmax dense layers.** "
      ]
    },
    {
      "cell_type": "markdown",
      "metadata": {
        "id": "Bsorsa-ab9Rk"
      },
      "source": [
        "# **Read the files**\n"
      ]
    },
    {
      "cell_type": "code",
      "metadata": {
        "id": "vo0Y0ZFFDt1d"
      },
      "source": [
        "# When using Colab, you can upload train_set.zip in the content folder and run this kernel.\n",
        "!unzip -qq /content/train_set.zip "
      ],
      "execution_count": 6,
      "outputs": []
    },
    {
      "cell_type": "code",
      "metadata": {
        "id": "ATOI6215Lz59"
      },
      "source": [
        "# Set your directory to read the data, default is the directory in colab.\n",
        "unzipped_folder_path = '/content/train_set'"
      ],
      "execution_count": 7,
      "outputs": []
    },
    {
      "cell_type": "code",
      "metadata": {
        "id": "_J2UVY-rUVwY"
      },
      "source": [
        "def read_data_cords(unzipped_folder_path):\n",
        "  \n",
        "  # read labels\n",
        "  labels = pd.read_csv(unzipped_folder_path+'/label.csv')\n",
        "  y= labels['label'].to_numpy()\n",
        "\n",
        "  # read points\n",
        "  n = 3000\n",
        "  for i in range(1,n+1):\n",
        "    p_path = str(i).zfill(4)+'.mat'\n",
        "    points_path = os.path.join('/content/train_set/points/', p_path)\n",
        "    mat = scipy.io.loadmat(points_path)\n",
        "    if 'faceCoordinatesUnwarped' in mat:\n",
        "      cords = mat['faceCoordinatesUnwarped'] \n",
        "    else:\n",
        "      cords = mat['faceCoordinates2']\n",
        "    \n",
        "    scaler = MinMaxScaler()  \n",
        "    scaler.fit(cords)\n",
        "    cords = scaler.transform(cords)\n",
        "\n",
        "      # Because the coordinates are absolute postion to the images,\n",
        "      # but we would like to consider the relative position \n",
        "      # of the coordinates to the faces. \n",
        "      # So, we take the minmaxscaler to scale the cords.\n",
        "\n",
        "    if i==1:\n",
        "      cords_all = np.mat(cords.flatten())\n",
        "    else:\n",
        "      cords_all = np.append(cords_all, np.mat(cords.flatten()), axis = 0)\n",
        "  \n",
        "  return (cords_all, y)\n"
      ],
      "execution_count": 8,
      "outputs": []
    },
    {
      "cell_type": "code",
      "metadata": {
        "id": "j3sddESRgvbO",
        "outputId": "c37c3131-2050-47a8-e1ed-638ab397bd1c",
        "colab": {
          "base_uri": "https://localhost:8080/"
        }
      },
      "source": [
        "read_time_start=time.time()\n",
        "Cord_Ori_X, Ori_Y = read_data_cords(unzipped_folder_path)\n",
        "print(\"Read the original dataset takes %s seconds\" % round((time.time() - read_time_start),3))"
      ],
      "execution_count": 9,
      "outputs": [
        {
          "output_type": "stream",
          "text": [
            "Read the original dataset takes 2.735 seconds\n"
          ],
          "name": "stdout"
        }
      ]
    },
    {
      "cell_type": "code",
      "metadata": {
        "id": "sjbBlHljls8Q",
        "outputId": "d62959bd-583c-4fcb-908a-b452f1307657",
        "colab": {
          "base_uri": "https://localhost:8080/"
        }
      },
      "source": [
        "Cord_Ori_X.shape, Ori_Y.shape \n",
        "# should be (3000,156) and (3000,) \n",
        "# which means 3000 number of cases \n",
        "# and 156 numbers of two corrdinates \n",
        "# of 78 fiducial points. \n",
        "# 156 = 78*2"
      ],
      "execution_count": 10,
      "outputs": [
        {
          "output_type": "execute_result",
          "data": {
            "text/plain": [
              "((3000, 156), (3000,))"
            ]
          },
          "metadata": {
            "tags": []
          },
          "execution_count": 10
        }
      ]
    },
    {
      "cell_type": "markdown",
      "metadata": {
        "id": "wUfrQ1rTjBHs"
      },
      "source": [
        "# **Data Preprocessing For the Imbalanced Dataset & Generate New Data to Improve Learning Accuracy** \n",
        "## From the following analysis, we found that the Original Dataset is unbalanced. So we decided to generate new data for the class with smaller number of original samples. By generating new data, we not only balanced the data with equal number of samples in different class, but also create new data to help improve the learning accuracy.\n",
        "\n",
        "* Because the number of Class 1 samples is less than the number of Class 0 samples, we decided to add more data in Class 1.\n",
        "* The way we generate more data is that we randomly select two original cordinates of fiducial points in Class 1 and average them to generate new data of fiducial points and give it the label of 1. \n",
        "* It would make sense cause our models believe that the fiducial points in the same class will generate similar patterns of the points."
      ]
    },
    {
      "cell_type": "code",
      "metadata": {
        "id": "Ef2jCi9po8Kn",
        "outputId": "b195c83f-d860-4111-f2de-698b09b4853e",
        "colab": {
          "base_uri": "https://localhost:8080/"
        }
      },
      "source": [
        "# Analyzing the data\n",
        "n = Ori_Y.shape[0]\n",
        "print('The number of class 0 is ' + str(n-sum(Ori_Y)))\n",
        "print('The number of class 1 is ' + str(sum(Ori_Y)))\n",
        "print('Only %.2f'% (sum(Ori_Y)/n*100) + '% of total dataset are class 1.')\n",
        "print('So, it is an unbalanced dataset, we need to do some data preprocessing.')\n",
        "print('Here, we are using oversampling to generate more class 1 datasets.')"
      ],
      "execution_count": 11,
      "outputs": [
        {
          "output_type": "stream",
          "text": [
            "The number of class 0 is 2402\n",
            "The number of class 1 is 598\n",
            "Only 19.93% of total dataset are class 1.\n",
            "So, it is an unbalanced dataset, we need to do some data preprocessing.\n",
            "Here, we are using oversampling to generate more class 1 datasets.\n"
          ],
          "name": "stdout"
        }
      ]
    },
    {
      "cell_type": "code",
      "metadata": {
        "id": "XZU3iWqS_XoL"
      },
      "source": [
        "def data_preprocessing(Ori_X, Ori_Y, unzipped_folder_path):\n",
        "\n",
        "  # data preprocessing\n",
        "\n",
        "  cords_all = Ori_X\n",
        "  y = Ori_Y\n",
        "\n",
        "  n = y.shape[0]\n",
        "  mat_1 = np.add(np.where(y == 1),1)\n",
        "  n_oversample = (n-sum(y))-sum(y) \n",
        "    # how many samples do we need to generate\n",
        "\n",
        "  for i in range(n_oversample):\n",
        "    samples_index = random.sample(list(list(mat_1)[0]), 2)\n",
        "      # pick two random index of class 1 samples. \n",
        "\n",
        "    p_path = str(samples_index[0]).zfill(4)+'.mat'\n",
        "    mat = scipy.io.loadmat(unzipped_folder_path+'/points/'+p_path)\n",
        "    if 'faceCoordinatesUnwarped' in mat:\n",
        "      cords_0 = mat['faceCoordinatesUnwarped'] \n",
        "    else:\n",
        "      cords_0 = mat['faceCoordinates2']\n",
        "\n",
        "    p_path = str(samples_index[1]).zfill(4)+'.mat'\n",
        "    mat = scipy.io.loadmat(unzipped_folder_path+'/points/'+p_path)\n",
        "    if 'faceCoordinatesUnwarped' in mat:\n",
        "      cords_1 = mat['faceCoordinatesUnwarped'] \n",
        "    else:\n",
        "      cords_1 = mat['faceCoordinates2']\n",
        "    \n",
        "    cords_new = (cords_0 + cords_1) / 2\n",
        "        # averaging two sets of cordinates to generate new set of cordinates\n",
        "        \n",
        "        # Because the coordinates are absolute postion to the images,\n",
        "        # but we would like to consider the relative position \n",
        "        # of the coordinates to the faces. \n",
        "        # So, we take the minmaxscaler to scale the cords.\n",
        "    scaler = MinMaxScaler()\n",
        "    scaler.fit(cords_new)\n",
        "    cords_new = scaler.transform(cords_new)\n",
        "\n",
        "    cords_all = np.append(cords_all, np.mat(cords_new.flatten()), axis = 0)\n",
        "    y = np.append(y,np.array(1))\n",
        "      # Append new data to the original dataset\n",
        "\n",
        "  return (cords_all, y) \n"
      ],
      "execution_count": 12,
      "outputs": []
    },
    {
      "cell_type": "code",
      "metadata": {
        "id": "djYkTjG_HV7P"
      },
      "source": [
        "Cord_Balanced_X, Balanced_Y = data_preprocessing(Cord_Ori_X, Ori_Y, unzipped_folder_path)"
      ],
      "execution_count": 13,
      "outputs": []
    },
    {
      "cell_type": "code",
      "metadata": {
        "id": "Yf_f6RceSCAd",
        "outputId": "de04b0d7-b938-4047-c67b-027164f6c17c",
        "colab": {
          "base_uri": "https://localhost:8080/"
        }
      },
      "source": [
        "Cord_Balanced_X.shape,Balanced_Y.shape"
      ],
      "execution_count": 14,
      "outputs": [
        {
          "output_type": "execute_result",
          "data": {
            "text/plain": [
              "((4804, 156), (4804,))"
            ]
          },
          "metadata": {
            "tags": []
          },
          "execution_count": 14
        }
      ]
    },
    {
      "cell_type": "markdown",
      "metadata": {
        "id": "ZGpn1fclMdv7"
      },
      "source": [
        "# Data Scaling and Train Test Split"
      ]
    },
    {
      "cell_type": "code",
      "metadata": {
        "id": "a6seoVZCP0-F"
      },
      "source": [
        "X_train, X_test, y_train, y_test = sklearn.model_selection.train_test_split(Cord_Balanced_X, Balanced_Y,\n",
        "                                                                            test_size=0.2,\n",
        "                                                                            random_state=123)"
      ],
      "execution_count": 15,
      "outputs": []
    },
    {
      "cell_type": "markdown",
      "metadata": {
        "id": "vXc64wQVI47m"
      },
      "source": [
        "# Build The Autoencoder Model To learn The Pattern Of Fiducial Points "
      ]
    },
    {
      "cell_type": "code",
      "metadata": {
        "id": "wDfjwiGNQBRu"
      },
      "source": [
        "# build the autoencoder\n",
        "encoder = tf.keras.models.Sequential([\n",
        "      tf.keras.layers.Dense(128, activation='relu'),                                \n",
        "      tf.keras.layers.Dense(64, activation='relu'),\n",
        "      tf.keras.layers.Dense(32, activation='relu')\n",
        "      ])\n",
        "decoder = tf.keras.models.Sequential([\n",
        "      tf.keras.layers.Dense(64, activation='relu'), \n",
        "      tf.keras.layers.Dense(128, activation='relu'),\n",
        "      tf.keras.layers.Dense(156, activation='sigmoid')\n",
        "      ])\n",
        "autoencoder = tf.keras.models.Sequential([\n",
        "      encoder,\n",
        "      decoder\n",
        "      ])"
      ],
      "execution_count": 16,
      "outputs": []
    },
    {
      "cell_type": "code",
      "metadata": {
        "id": "Yz02JaJ9txBp"
      },
      "source": [
        "def rounded_accuracy(y_true, y_pred):\n",
        "  return tf.keras.metrics.binary_accuracy(tf.round(y_true), tf.round(y_pred))"
      ],
      "execution_count": 17,
      "outputs": []
    },
    {
      "cell_type": "code",
      "metadata": {
        "id": "7TkOIr3ZPtN3"
      },
      "source": [
        "autoencoder.compile(optimizer=tf.keras.optimizers.SGD(1.5),\n",
        "                    loss=tf.keras.losses.BinaryCrossentropy(),\n",
        "                    metrics=[rounded_accuracy])"
      ],
      "execution_count": 18,
      "outputs": []
    },
    {
      "cell_type": "code",
      "metadata": {
        "id": "xkFgwiLHPu6t"
      },
      "source": [
        "early_stopping_cb = tf.keras.callbacks.EarlyStopping(patience=3,restore_best_weights=True)"
      ],
      "execution_count": 19,
      "outputs": []
    },
    {
      "cell_type": "markdown",
      "metadata": {
        "id": "wTiRd97vJBG-"
      },
      "source": [
        "# Train The Model"
      ]
    },
    {
      "cell_type": "code",
      "metadata": {
        "id": "fvHKsUb9PxCF",
        "outputId": "74c0ee07-b93f-4b66-9923-0b7ef6a72f1f",
        "colab": {
          "base_uri": "https://localhost:8080/"
        }
      },
      "source": [
        "start_time = time.time()\n",
        "history = autoencoder.fit(X_train, X_train, batch_size=32, epochs=100, \n",
        "                          validation_data = (X_test, X_test),\n",
        "                          callbacks=[early_stopping_cb])\n",
        "print(\"Training the autoencoder model takes %s seconds\" % round((time.time() - start_time),3))"
      ],
      "execution_count": 20,
      "outputs": [
        {
          "output_type": "stream",
          "text": [
            "Epoch 1/100\n",
            "121/121 [==============================] - 0s 4ms/step - loss: 0.5291 - rounded_accuracy: 0.9389 - val_loss: 0.5124 - val_rounded_accuracy: 0.9704\n",
            "Epoch 2/100\n",
            "121/121 [==============================] - 0s 2ms/step - loss: 0.5106 - rounded_accuracy: 0.9713 - val_loss: 0.5120 - val_rounded_accuracy: 0.9667\n",
            "Epoch 3/100\n",
            "121/121 [==============================] - 0s 2ms/step - loss: 0.5105 - rounded_accuracy: 0.9713 - val_loss: 0.5116 - val_rounded_accuracy: 0.9533\n",
            "Epoch 4/100\n",
            "121/121 [==============================] - 0s 2ms/step - loss: 0.5105 - rounded_accuracy: 0.9712 - val_loss: 0.5115 - val_rounded_accuracy: 0.9704\n",
            "Epoch 5/100\n",
            "121/121 [==============================] - 0s 2ms/step - loss: 0.5105 - rounded_accuracy: 0.9715 - val_loss: 0.5114 - val_rounded_accuracy: 0.9706\n",
            "Epoch 6/100\n",
            "121/121 [==============================] - 0s 2ms/step - loss: 0.5105 - rounded_accuracy: 0.9714 - val_loss: 0.5113 - val_rounded_accuracy: 0.9679\n",
            "Epoch 7/100\n",
            "121/121 [==============================] - 0s 2ms/step - loss: 0.5105 - rounded_accuracy: 0.9717 - val_loss: 0.5113 - val_rounded_accuracy: 0.9704\n",
            "Epoch 8/100\n",
            "121/121 [==============================] - 0s 2ms/step - loss: 0.5105 - rounded_accuracy: 0.9716 - val_loss: 0.5112 - val_rounded_accuracy: 0.9714\n",
            "Epoch 9/100\n",
            "121/121 [==============================] - 0s 2ms/step - loss: 0.5105 - rounded_accuracy: 0.9716 - val_loss: 0.5118 - val_rounded_accuracy: 0.9622\n",
            "Epoch 10/100\n",
            "121/121 [==============================] - 0s 2ms/step - loss: 0.5104 - rounded_accuracy: 0.9716 - val_loss: 0.5112 - val_rounded_accuracy: 0.9670\n",
            "Epoch 11/100\n",
            "121/121 [==============================] - 0s 2ms/step - loss: 0.5104 - rounded_accuracy: 0.9718 - val_loss: 0.5114 - val_rounded_accuracy: 0.9673\n",
            "Epoch 12/100\n",
            "121/121 [==============================] - 0s 2ms/step - loss: 0.5104 - rounded_accuracy: 0.9717 - val_loss: 0.5113 - val_rounded_accuracy: 0.9714\n",
            "Epoch 13/100\n",
            "121/121 [==============================] - 0s 2ms/step - loss: 0.5104 - rounded_accuracy: 0.9717 - val_loss: 0.5114 - val_rounded_accuracy: 0.9639\n",
            "Training the autoencoder model takes 4.503 seconds\n"
          ],
          "name": "stdout"
        }
      ]
    },
    {
      "cell_type": "markdown",
      "metadata": {
        "id": "SdnK6nAtI36_"
      },
      "source": [
        "# Plot The History Of Training"
      ]
    },
    {
      "cell_type": "code",
      "metadata": {
        "id": "znnByl-WQ3PY",
        "outputId": "2b908fcd-a2a9-4546-ca8e-a62fcb55aec7",
        "colab": {
          "base_uri": "https://localhost:8080/",
          "height": 282
        }
      },
      "source": [
        "his_plot = pd.DataFrame(history.history)\n",
        "plt.plot(his_plot['rounded_accuracy'],label = 'train_accuracy')\n",
        "plt.plot(his_plot['val_rounded_accuracy'], label = 'val_accuracy')\n",
        "plt.legend()"
      ],
      "execution_count": 21,
      "outputs": [
        {
          "output_type": "execute_result",
          "data": {
            "text/plain": [
              "<matplotlib.legend.Legend at 0x7f1c60fca048>"
            ]
          },
          "metadata": {
            "tags": []
          },
          "execution_count": 21
        },
        {
          "output_type": "display_data",
          "data": {
            "image/png": "[encoded data removed]",
            "text/plain": [
              "<Figure size 432x288 with 1 Axes>"
            ]
          },
          "metadata": {
            "tags": [],
            "needs_background": "light"
          }
        }
      ]
    },
    {
      "cell_type": "markdown",
      "metadata": {
        "id": "lAuGku6VJZVo"
      },
      "source": [
        "# Build The Model Of Classification To Map The Learned Pattern To The Catagories."
      ]
    },
    {
      "cell_type": "code",
      "metadata": {
        "id": "uAAVeT9iRE-W"
      },
      "source": [
        "classification = tf.keras.Sequential([\n",
        "        encoder,\n",
        "        tf.keras.layers.Dense(30, activation='relu'),\n",
        "        tf.keras.layers.Dense(2, activation='softmax')\n",
        "])\n",
        "encoder.trainable = False # set pretrained encoder to be fixed."
      ],
      "execution_count": 22,
      "outputs": []
    },
    {
      "cell_type": "markdown",
      "metadata": {
        "id": "ACv_lEwNKXzI"
      },
      "source": [
        "# Train The Model Of Classification"
      ]
    },
    {
      "cell_type": "code",
      "metadata": {
        "id": "RTvcF-QDRJd9",
        "outputId": "19ecf694-e793-4e0b-d490-0076e2f2f90b",
        "colab": {
          "base_uri": "https://localhost:8080/"
        }
      },
      "source": [
        "y_train_class = tf.one_hot(y_train, depth=2)\n",
        "y_test_class = tf.one_hot(y_test, depth=2)\n",
        "\n",
        "classification.compile(optimizer = tf.keras.optimizers.Adam(learning_rate = 0.001),\n",
        "                    loss=tf.keras.losses.BinaryCrossentropy(),\n",
        "                    metrics=[tf.keras.metrics.AUC()])\n",
        "\n",
        "start_time = time.time()\n",
        "history_class = classification.fit(X_train, y_train_class, batch_size=8, epochs=100, \n",
        "                          validation_data = (X_test, y_test_class),\n",
        "                          callbacks=[early_stopping_cb])\n",
        "print(\"Training the classification model takes %s seconds\" % round((time.time() - start_time),3))"
      ],
      "execution_count": 26,
      "outputs": [
        {
          "output_type": "stream",
          "text": [
            "Epoch 1/100\n",
            "481/481 [==============================] - 1s 2ms/step - loss: 0.6944 - auc_2: 0.4992 - val_loss: 0.6935 - val_auc_2: 0.5038\n",
            "Epoch 2/100\n",
            "481/481 [==============================] - 1s 1ms/step - loss: 0.6938 - auc_2: 0.5004 - val_loss: 0.6923 - val_auc_2: 0.5233\n",
            "Epoch 3/100\n",
            "481/481 [==============================] - 1s 1ms/step - loss: 0.6933 - auc_2: 0.5093 - val_loss: 0.6925 - val_auc_2: 0.5162\n",
            "Epoch 4/100\n",
            "481/481 [==============================] - 1s 1ms/step - loss: 0.6937 - auc_2: 0.4890 - val_loss: 0.6932 - val_auc_2: 0.5308\n",
            "Epoch 5/100\n",
            "481/481 [==============================] - 1s 2ms/step - loss: 0.6934 - auc_2: 0.5010 - val_loss: 0.6953 - val_auc_2: 0.4762\n",
            "Training the classification model takes 4.472 seconds\n"
          ],
          "name": "stdout"
        }
      ]
    },
    {
      "cell_type": "markdown",
      "metadata": {
        "id": "3KGGsiraKy_I"
      },
      "source": [
        "# Plot The History of Training"
      ]
    },
    {
      "cell_type": "code",
      "metadata": {
        "id": "nfjclArlTTcv",
        "outputId": "65eba946-a51e-44c7-dbf3-63e719cdb1be",
        "colab": {
          "base_uri": "https://localhost:8080/",
          "height": 282
        }
      },
      "source": [
        "import pandas as pd\n",
        "import matplotlib.pyplot as plt\n",
        "his_plot = pd.DataFrame(history_class.history)\n",
        "plt.plot(his_plot['loss'],label = 'loss')\n",
        "plt.plot(his_plot['val_loss'], label = 'val_loss')\n",
        "plt.legend()"
      ],
      "execution_count": 27,
      "outputs": [
        {
          "output_type": "execute_result",
          "data": {
            "text/plain": [
              "<matplotlib.legend.Legend at 0x7f1c5d235668>"
            ]
          },
          "metadata": {
            "tags": []
          },
          "execution_count": 27
        },
        {
          "output_type": "display_data",
          "data": {
            "image/png": "[encoded data removed]",
            "text/plain": [
              "<Figure size 432x288 with 1 Axes>"
            ]
          },
          "metadata": {
            "tags": [],
            "needs_background": "light"
          }
        }
      ]
    },
    {
      "cell_type": "code",
      "metadata": {
        "id": "TDgI_1RqTpyY",
        "outputId": "6b7b227b-d126-4155-dc09-71acfc74f725",
        "colab": {
          "base_uri": "https://localhost:8080/",
          "height": 282
        }
      },
      "source": [
        "import pandas as pd\n",
        "import matplotlib.pyplot as plt\n",
        "his_plot = pd.DataFrame(history_class.history)\n",
        "plt.plot(his_plot['auc_2'],label = 'auc')\n",
        "plt.plot(his_plot['val_auc_2'], label = 'val_auc')\n",
        "plt.legend()"
      ],
      "execution_count": 29,
      "outputs": [
        {
          "output_type": "execute_result",
          "data": {
            "text/plain": [
              "<matplotlib.legend.Legend at 0x7f1c5d0cb2b0>"
            ]
          },
          "metadata": {
            "tags": []
          },
          "execution_count": 29
        },
        {
          "output_type": "display_data",
          "data": {
            "image/png": "[encoded data removed]",
            "text/plain": [
              "<Figure size 432x288 with 1 Axes>"
            ]
          },
          "metadata": {
            "tags": [],
            "needs_background": "light"
          }
        }
      ]
    },
    {
      "cell_type": "markdown",
      "metadata": {
        "id": "9Fcc8_E8NsCh"
      },
      "source": [
        "# Evaluate The Model"
      ]
    },
    {
      "cell_type": "code",
      "metadata": {
        "id": "NtAEc-AiNwed",
        "outputId": "3068aa00-0aed-4f79-a563-e2c52d579760",
        "colab": {
          "base_uri": "https://localhost:8080/"
        }
      },
      "source": [
        "# Test on the balanced dataset\n",
        "start_time = time.time()\n",
        "y_fitprob = classification.predict(X_train)\n",
        "y_fit = np.argmax(y_fitprob, axis=-1)\n",
        "print(\"Testing classification on train_dataset takes %s seconds\" % round((time.time() - start_time),3))\n",
        "\n",
        "start_time = time.time()\n",
        "y_predprob = classification.predict(X_test)\n",
        "y_pred = np.argmax(y_predprob, axis=-1)\n",
        "print(\"Testing classification on test_dataset takes %s seconds\" % round((time.time() - start_time),3))\n",
        "\n",
        "print(\"Train dataset -- Accuracy:  %.2f\" % sklearn.metrics.accuracy_score(y_train, y_fit))\n",
        "print(\"Train dataset -- AUC:  %.2f\" % sklearn.metrics.roc_auc_score(y_train_class, y_fitprob))\n",
        "print(\"Test dataset -- Accuracy:  %.2f\" % sklearn.metrics.accuracy_score(y_test,y_pred))\n",
        "print(\"Test dataset -- AUC:  %.2f\" % sklearn.metrics.roc_auc_score(y_test_class, y_predprob))"
      ],
      "execution_count": 30,
      "outputs": [
        {
          "output_type": "stream",
          "text": [
            "Testing classification on train_dataset takes 0.188 seconds\n",
            "Testing classification on test_dataset takes 0.053 seconds\n",
            "Train dataset -- Accuracy:  0.50\n",
            "Train dataset -- AUC:  0.56\n",
            "Test dataset -- Accuracy:  0.52\n",
            "Test dataset -- AUC:  0.55\n"
          ],
          "name": "stdout"
        }
      ]
    },
    {
      "cell_type": "markdown",
      "metadata": {
        "id": "FPs0lVfWNXBJ"
      },
      "source": [
        "The autoencoder only shows slightly over 0.5. So this is not a good model for the project."
      ]
    }
  ]
}