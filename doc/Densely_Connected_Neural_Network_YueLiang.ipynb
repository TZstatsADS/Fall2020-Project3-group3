{
  "nbformat": 4,
  "nbformat_minor": 0,
  "metadata": {
    "colab": {
      "name": "Densely_Connected_Neural_Network_YueLiang.ipynb",
      "provenance": [],
      "collapsed_sections": []
    },
    "kernelspec": {
      "name": "python3",
      "display_name": "Python 3"
    }
  },
  "cells": [
    {
      "cell_type": "markdown",
      "metadata": {
        "id": "6_NHMkvjfHzt"
      },
      "source": [
        "# **Import Required Packages**"
      ]
    },
    {
      "cell_type": "code",
      "metadata": {
        "id": "Sul9PJjDfFlb"
      },
      "source": [
        "import numpy as np\n",
        "import scipy.io\n",
        "import sklearn.metrics\n",
        "import sklearn \n",
        "import os\n",
        "import random\n",
        "import pandas as pd\n",
        "import time\n",
        "from sklearn.preprocessing import StandardScaler\n",
        "from sklearn.model_selection import train_test_split\n",
        "from keras import Sequential\n",
        "from keras.layers import Dense, Activation, Flatten, Input, Dropout, BatchNormalization\n",
        "from keras.models import Model\n",
        "from keras import initializers\n",
        "from keras.optimizers import Adam\n",
        "import matplotlib.pyplot as plt\n"
      ],
      "execution_count": 28,
      "outputs": []
    },
    {
      "cell_type": "markdown",
      "metadata": {
        "id": "Bsorsa-ab9Rk"
      },
      "source": [
        "# **Read the files**"
      ]
    },
    {
      "cell_type": "code",
      "metadata": {
        "id": "vo0Y0ZFFDt1d"
      },
      "source": [
        "# When using Colab, you can upload train_set.zip in the content folder and run this kernel.\n",
        "!unzip -qq /content/train_set.zip "
      ],
      "execution_count": 1,
      "outputs": []
    },
    {
      "cell_type": "code",
      "metadata": {
        "id": "ATOI6215Lz59"
      },
      "source": [
        "# Set your directory to read the data, default is the directory in colab.\n",
        "unzipped_folder_path = '/content/train_set'"
      ],
      "execution_count": 9,
      "outputs": []
    },
    {
      "cell_type": "code",
      "metadata": {
        "id": "_J2UVY-rUVwY"
      },
      "source": [
        "def read_data(unzipped_folder_path):\n",
        "  \n",
        "  # read labels\n",
        "  labels = pd.read_csv(unzipped_folder_path+'/label.csv')\n",
        "  y= labels['label'].to_numpy()\n",
        "\n",
        "  # read points\n",
        "  n = 3000\n",
        "  for i in range(1,n+1):\n",
        "    p_path = str(i).zfill(4)+'.mat'\n",
        "    mat = scipy.io.loadmat(unzipped_folder_path+'/points/'+p_path)\n",
        "    if 'faceCoordinatesUnwarped' in mat:\n",
        "      cords = mat['faceCoordinatesUnwarped'] \n",
        "    else:\n",
        "      cords = mat['faceCoordinates2']\n",
        "\n",
        "    distance = sklearn.metrics.pairwise_distances(cords)       \n",
        "          # compute the pairwise distances in each mat\n",
        "    flatten_distance = distance[np.triu_indices(len(cords[:,0]), k = 1)]    \n",
        "          # stretch the upper triangle of the symmetric matrix \n",
        "          # to a long array with dimension 3003\n",
        "          # 3003 = (1+77)*78/2\n",
        "    if i==1:\n",
        "      distances = np.mat([flatten_distance])\n",
        "    else:\n",
        "      distances = np.append(distances, np.mat([flatten_distance]), axis = 0)\n",
        "  return (distances, y)\n"
      ],
      "execution_count": 10,
      "outputs": []
    },
    {
      "cell_type": "code",
      "metadata": {
        "id": "j3sddESRgvbO",
        "outputId": "8e394177-dc58-43d1-85fe-abc1084311c2",
        "colab": {
          "base_uri": "https://localhost:8080/"
        }
      },
      "source": [
        "read_time_start=time.time()\n",
        "Ori_X, Ori_Y = read_data(unzipped_folder_path)\n",
        "print(\"Read the original dataset takes %s seconds\" % round((time.time() - read_time_start),3))"
      ],
      "execution_count": 11,
      "outputs": [
        {
          "output_type": "stream",
          "text": [
            "Read the original dataset takes 21.791 seconds\n"
          ],
          "name": "stdout"
        }
      ]
    },
    {
      "cell_type": "code",
      "metadata": {
        "id": "sjbBlHljls8Q",
        "outputId": "478d7b22-57e2-440a-8bbf-e115c6d5c821",
        "colab": {
          "base_uri": "https://localhost:8080/"
        }
      },
      "source": [
        "Ori_X.shape, Ori_Y.shape \n",
        "# should be (3000,3003) and (3000,) \n",
        "# which means 3000 number of cases \n",
        "# and 3003 numbers of pairwise distances\n",
        "# of 78 fiducial points. \n",
        "# 3003 = (1+77)*78/2"
      ],
      "execution_count": 12,
      "outputs": [
        {
          "output_type": "execute_result",
          "data": {
            "text/plain": [
              "((3000, 3003), (3000,))"
            ]
          },
          "metadata": {
            "tags": []
          },
          "execution_count": 12
        }
      ]
    },
    {
      "cell_type": "markdown",
      "metadata": {
        "id": "wUfrQ1rTjBHs"
      },
      "source": [
        "# **Data Preprocessing For the Imbalanced Dataset & Generate New Data to Improve Learning Accuracy** \n",
        "## From the following analysis, we found that the Original Dataset is unbalanced. So we decided to generate new data for the class with smaller number of original samples. By generating new data, we not only balanced the data with equal number of samples in different class, but also create new data to help improve the learning accuracy.\n",
        "\n",
        "* Because the number of Class 1 samples is less than the number of Class 0 samples, we decided to add more data in Class 1.\n",
        "* The way we generate more data is that we randomly select two original cordinates of fiducial points in Class 1 and average them to generate new data of fiducial points and then calculate its pairwise distances and give it the label of 1. \n",
        "* It would make sense cause our models believe that the fiducial points in the same class will generate similar distribution in pairwise distances."
      ]
    },
    {
      "cell_type": "code",
      "metadata": {
        "id": "Ef2jCi9po8Kn",
        "outputId": "0ff37d53-655c-4847-afc3-cd5f6fd9e2ef",
        "colab": {
          "base_uri": "https://localhost:8080/"
        }
      },
      "source": [
        "# Analyzing the data\n",
        "n = Ori_Y.shape[0]\n",
        "print('The number of class 0 is ' + str(n-sum(Ori_Y)))\n",
        "print('The number of class 1 is ' + str(sum(Ori_Y)))\n",
        "print('Only %.2f'% (sum(Ori_Y)/n*100) + '% of total dataset are class 1. ')\n",
        "print('So, it is an unbalanced dataset, we need to do some data preprocessing.')\n",
        "print('Here, we are using oversampling to generate more class 1 datasets.')"
      ],
      "execution_count": 13,
      "outputs": [
        {
          "output_type": "stream",
          "text": [
            "The number of class 0 is 2402\n",
            "The number of class 1 is 598\n",
            "Only 19.93% of total dataset are class 1. \n",
            "So, it is an unbalanced dataset, we need to do some data preprocessing.\n",
            "Here, we are using oversampling to generate more class 1 datasets.\n"
          ],
          "name": "stdout"
        }
      ]
    },
    {
      "cell_type": "code",
      "metadata": {
        "id": "XZU3iWqS_XoL"
      },
      "source": [
        "def data_preprocessing(Ori_X, Ori_Y, unzipped_folder_path):\n",
        "\n",
        "  # data preprocessing\n",
        "\n",
        "  distances = Ori_X\n",
        "  y = Ori_Y\n",
        "\n",
        "  n = y.shape[0]\n",
        "  mat_1 = np.add(np.where(y == 1),1)\n",
        "  n_oversample = (n-sum(y))-sum(y) \n",
        "    # how many samples do we need to generate\n",
        "\n",
        "  for i in range(n_oversample):\n",
        "    samples_index = random.sample(list(list(mat_1)[0]), 2)\n",
        "      # pick two random index of class 1 samples. \n",
        "\n",
        "    p_path = str(samples_index[0]).zfill(4)+'.mat'\n",
        "    mat = scipy.io.loadmat(unzipped_folder_path+'/points/'+p_path)\n",
        "    if 'faceCoordinatesUnwarped' in mat:\n",
        "      cords_0 = mat['faceCoordinatesUnwarped'] \n",
        "    else:\n",
        "      cords_0 = mat['faceCoordinates2']\n",
        "    \n",
        "    p_path = str(samples_index[1]).zfill(4)+'.mat'\n",
        "    mat = scipy.io.loadmat(unzipped_folder_path+'/points/'+p_path)\n",
        "    if 'faceCoordinatesUnwarped' in mat:\n",
        "      cords_1 = mat['faceCoordinatesUnwarped'] \n",
        "    else:\n",
        "      cords_1 = mat['faceCoordinates2']\n",
        "\n",
        "    cords_new = (cords_0 + cords_1) / 2 \n",
        "        # averaging two sets of cordinates to generate new set of cordinates\n",
        "    distance = sklearn.metrics.pairwise_distances(cords_new)\n",
        "        # compute the pairwise distances in each mat\n",
        "    flatten_distance = distance[np.triu_indices(len(cords_new[:,0]), k = 1)]\n",
        "        # stretch the upper triangle of the symmetric matrix \n",
        "        # to a long array with dimension 3003\n",
        "        # 3003 = (1+77)*78/2\n",
        "    \n",
        "    distances = np.append(distances, np.mat([flatten_distance]), axis = 0)\n",
        "    y = np.append(y,np.array(1))\n",
        "        # Append new data to the original dataset\n",
        "\n",
        "  return (distances, y) \n"
      ],
      "execution_count": 15,
      "outputs": []
    },
    {
      "cell_type": "code",
      "metadata": {
        "id": "YVZH9NK0xfIc"
      },
      "source": [
        "Balanced_X, Blanced_Y = data_preprocessing(Ori_X, Ori_Y, unzipped_folder_path)"
      ],
      "execution_count": 16,
      "outputs": []
    },
    {
      "cell_type": "code",
      "metadata": {
        "id": "EiKZwvM84VmY",
        "outputId": "11408430-1f22-4b99-addd-47a400d6efd0",
        "colab": {
          "base_uri": "https://localhost:8080/"
        }
      },
      "source": [
        "Balanced_X.shape, Blanced_Y.shape"
      ],
      "execution_count": 17,
      "outputs": [
        {
          "output_type": "execute_result",
          "data": {
            "text/plain": [
              "((4804, 3003), (4804,))"
            ]
          },
          "metadata": {
            "tags": []
          },
          "execution_count": 17
        }
      ]
    },
    {
      "cell_type": "markdown",
      "metadata": {
        "id": "ZGpn1fclMdv7"
      },
      "source": [
        "# Data Scaling and Train Test Split"
      ]
    },
    {
      "cell_type": "code",
      "metadata": {
        "id": "-Pa96PqUMc4b"
      },
      "source": [
        "scaler = StandardScaler()\n",
        "scaler.fit(Balanced_X)\n",
        "distances_scale = scaler.transform(Balanced_X)"
      ],
      "execution_count": 19,
      "outputs": []
    },
    {
      "cell_type": "code",
      "metadata": {
        "id": "_Z3L1zUZUR36"
      },
      "source": [
        "X_train, X_test, y_train, y_test = sklearn.model_selection.train_test_split(distances_scale, Blanced_Y, random_state=123)"
      ],
      "execution_count": 26,
      "outputs": []
    },
    {
      "cell_type": "code",
      "metadata": {
        "id": "NW9pAhpqM4Gy"
      },
      "source": [
        "one_hot_test=tf.one_hot(y_test,depth=2)\n",
        "one_hot_train=tf.one_hot(y_train,depth=2)"
      ],
      "execution_count": 31,
      "outputs": []
    },
    {
      "cell_type": "markdown",
      "metadata": {
        "id": "Uny2vgwmNDxf"
      },
      "source": [
        "# Densely Connected Neural Network\n",
        "* Based on the paper [Densely Connected Convolutional Networks](https://arxiv.org/abs/1608.06993) ,  Desely Connected Convolutional Neural Networks is a good model for image classification. With the improved data -- fiducial points, we will get a better accuracy and auc."
      ]
    },
    {
      "cell_type": "code",
      "metadata": {
        "id": "Px2SDjEzaDQg"
      },
      "source": [
        "model = tf.keras.Sequential([\n",
        "        Input([3003]),\n",
        "        BatchNormalization(),\n",
        "        Dense(600,activation='relu',kernel_initializer=initializers.glorot_normal(seed=4)),\n",
        "        Dropout(0.25),\n",
        "        BatchNormalization(),\n",
        "        Dense(300,activation='relu',kernel_initializer=initializers.glorot_normal(seed=4)),\n",
        "        Dropout(0.25),\n",
        "        Dense(150,activation='relu',kernel_initializer=initializers.glorot_normal(seed=4)),\n",
        "        Dropout(0.25),\n",
        "        Dense(50,activation='relu',kernel_initializer=initializers.glorot_normal(seed=4)),\n",
        "        Dense(2,activation='softmax',kernel_initializer=initializers.glorot_normal(seed=4))\n",
        "])"
      ],
      "execution_count": 36,
      "outputs": []
    },
    {
      "cell_type": "code",
      "metadata": {
        "id": "GqjraIOHa-lp",
        "outputId": "ee851942-8937-4ce8-92b7-e1f44182d72a",
        "colab": {
          "base_uri": "https://localhost:8080/"
        }
      },
      "source": [
        "model.summary()"
      ],
      "execution_count": 40,
      "outputs": [
        {
          "output_type": "stream",
          "text": [
            "Model: \"sequential\"\n",
            "_________________________________________________________________\n",
            "Layer (type)                 Output Shape              Param #   \n",
            "=================================================================\n",
            "batch_normalization_4 (Batch (None, 3003)              12012     \n",
            "_________________________________________________________________\n",
            "dense_10 (Dense)             (None, 600)               1802400   \n",
            "_________________________________________________________________\n",
            "dropout_6 (Dropout)          (None, 600)               0         \n",
            "_________________________________________________________________\n",
            "batch_normalization_5 (Batch (None, 600)               2400      \n",
            "_________________________________________________________________\n",
            "dense_11 (Dense)             (None, 300)               180300    \n",
            "_________________________________________________________________\n",
            "dropout_7 (Dropout)          (None, 300)               0         \n",
            "_________________________________________________________________\n",
            "dense_12 (Dense)             (None, 150)               45150     \n",
            "_________________________________________________________________\n",
            "dropout_8 (Dropout)          (None, 150)               0         \n",
            "_________________________________________________________________\n",
            "dense_13 (Dense)             (None, 50)                7550      \n",
            "_________________________________________________________________\n",
            "dense_14 (Dense)             (None, 2)                 102       \n",
            "=================================================================\n",
            "Total params: 2,049,914\n",
            "Trainable params: 2,042,708\n",
            "Non-trainable params: 7,206\n",
            "_________________________________________________________________\n"
          ],
          "name": "stdout"
        }
      ]
    },
    {
      "cell_type": "code",
      "metadata": {
        "id": "suzTZpjGGAu6",
        "outputId": "8cf491e9-91b9-4a66-9923-ed7dd413b099",
        "colab": {
          "base_uri": "https://localhost:8080/"
        }
      },
      "source": [
        "start_time = time.time()\n",
        "model.compile(loss='binary_crossentropy',optimizer = Adam(lr=0.001),metrics=['accuracy'])\n",
        "model_history = model.fit(X_train,one_hot_train,epochs = 80)\n",
        "print(\"training  model takes %s seconds\" % round((time.time() - start_time),3))"
      ],
      "execution_count": 37,
      "outputs": [
        {
          "output_type": "stream",
          "text": [
            "Epoch 1/80\n",
            "113/113 [==============================] - 2s 18ms/step - loss: 0.6702 - accuracy: 0.6339\n",
            "Epoch 2/80\n",
            "113/113 [==============================] - 2s 18ms/step - loss: 0.5847 - accuracy: 0.7047\n",
            "Epoch 3/80\n",
            "113/113 [==============================] - 2s 18ms/step - loss: 0.5263 - accuracy: 0.7416\n",
            "Epoch 4/80\n",
            "113/113 [==============================] - 2s 20ms/step - loss: 0.4775 - accuracy: 0.7727\n",
            "Epoch 5/80\n",
            "113/113 [==============================] - 2s 18ms/step - loss: 0.4530 - accuracy: 0.7893\n",
            "Epoch 6/80\n",
            "113/113 [==============================] - 2s 18ms/step - loss: 0.4289 - accuracy: 0.7916\n",
            "Epoch 7/80\n",
            "113/113 [==============================] - 2s 18ms/step - loss: 0.4032 - accuracy: 0.8152\n",
            "Epoch 8/80\n",
            "113/113 [==============================] - 2s 18ms/step - loss: 0.3993 - accuracy: 0.8179\n",
            "Epoch 9/80\n",
            "113/113 [==============================] - 2s 18ms/step - loss: 0.3715 - accuracy: 0.8246\n",
            "Epoch 10/80\n",
            "113/113 [==============================] - 2s 18ms/step - loss: 0.3580 - accuracy: 0.8368\n",
            "Epoch 11/80\n",
            "113/113 [==============================] - 2s 18ms/step - loss: 0.3385 - accuracy: 0.8446\n",
            "Epoch 12/80\n",
            "113/113 [==============================] - 2s 18ms/step - loss: 0.3424 - accuracy: 0.8443\n",
            "Epoch 13/80\n",
            "113/113 [==============================] - 2s 18ms/step - loss: 0.3300 - accuracy: 0.8487\n",
            "Epoch 14/80\n",
            "113/113 [==============================] - 2s 18ms/step - loss: 0.3434 - accuracy: 0.8404\n",
            "Epoch 15/80\n",
            "113/113 [==============================] - 2s 18ms/step - loss: 0.3040 - accuracy: 0.8582\n",
            "Epoch 16/80\n",
            "113/113 [==============================] - 2s 18ms/step - loss: 0.3109 - accuracy: 0.8615\n",
            "Epoch 17/80\n",
            "113/113 [==============================] - 2s 18ms/step - loss: 0.2914 - accuracy: 0.8732\n",
            "Epoch 18/80\n",
            "113/113 [==============================] - 2s 18ms/step - loss: 0.3081 - accuracy: 0.8562\n",
            "Epoch 19/80\n",
            "113/113 [==============================] - 2s 18ms/step - loss: 0.2815 - accuracy: 0.8745\n",
            "Epoch 20/80\n",
            "113/113 [==============================] - 2s 18ms/step - loss: 0.2639 - accuracy: 0.8812\n",
            "Epoch 21/80\n",
            "113/113 [==============================] - 2s 18ms/step - loss: 0.2639 - accuracy: 0.8843\n",
            "Epoch 22/80\n",
            "113/113 [==============================] - 2s 18ms/step - loss: 0.2570 - accuracy: 0.8929\n",
            "Epoch 23/80\n",
            "113/113 [==============================] - 2s 18ms/step - loss: 0.2720 - accuracy: 0.8784\n",
            "Epoch 24/80\n",
            "113/113 [==============================] - 2s 18ms/step - loss: 0.2576 - accuracy: 0.8876\n",
            "Epoch 25/80\n",
            "113/113 [==============================] - 2s 18ms/step - loss: 0.2497 - accuracy: 0.8915\n",
            "Epoch 26/80\n",
            "113/113 [==============================] - 2s 18ms/step - loss: 0.2399 - accuracy: 0.8918\n",
            "Epoch 27/80\n",
            "113/113 [==============================] - 2s 19ms/step - loss: 0.2370 - accuracy: 0.9020\n",
            "Epoch 28/80\n",
            "113/113 [==============================] - 2s 19ms/step - loss: 0.2429 - accuracy: 0.8965\n",
            "Epoch 29/80\n",
            "113/113 [==============================] - 2s 18ms/step - loss: 0.2393 - accuracy: 0.9015\n",
            "Epoch 30/80\n",
            "113/113 [==============================] - 2s 19ms/step - loss: 0.2291 - accuracy: 0.8998\n",
            "Epoch 31/80\n",
            "113/113 [==============================] - 2s 18ms/step - loss: 0.2190 - accuracy: 0.9015\n",
            "Epoch 32/80\n",
            "113/113 [==============================] - 2s 18ms/step - loss: 0.2194 - accuracy: 0.9009\n",
            "Epoch 33/80\n",
            "113/113 [==============================] - 2s 17ms/step - loss: 0.2092 - accuracy: 0.9073\n",
            "Epoch 34/80\n",
            "113/113 [==============================] - 2s 18ms/step - loss: 0.2002 - accuracy: 0.9159\n",
            "Epoch 35/80\n",
            "113/113 [==============================] - 2s 18ms/step - loss: 0.2063 - accuracy: 0.9098\n",
            "Epoch 36/80\n",
            "113/113 [==============================] - 2s 17ms/step - loss: 0.2042 - accuracy: 0.9126\n",
            "Epoch 37/80\n",
            "113/113 [==============================] - 2s 18ms/step - loss: 0.1984 - accuracy: 0.9153\n",
            "Epoch 38/80\n",
            "113/113 [==============================] - 2s 18ms/step - loss: 0.1997 - accuracy: 0.9170\n",
            "Epoch 39/80\n",
            "113/113 [==============================] - 2s 18ms/step - loss: 0.1892 - accuracy: 0.9223\n",
            "Epoch 40/80\n",
            "113/113 [==============================] - 2s 18ms/step - loss: 0.1891 - accuracy: 0.9131\n",
            "Epoch 41/80\n",
            "113/113 [==============================] - 2s 18ms/step - loss: 0.1835 - accuracy: 0.9201\n",
            "Epoch 42/80\n",
            "113/113 [==============================] - 2s 18ms/step - loss: 0.1773 - accuracy: 0.9273\n",
            "Epoch 43/80\n",
            "113/113 [==============================] - 2s 18ms/step - loss: 0.1853 - accuracy: 0.9240\n",
            "Epoch 44/80\n",
            "113/113 [==============================] - 2s 19ms/step - loss: 0.1653 - accuracy: 0.9287\n",
            "Epoch 45/80\n",
            "113/113 [==============================] - 2s 18ms/step - loss: 0.1739 - accuracy: 0.9242\n",
            "Epoch 46/80\n",
            "113/113 [==============================] - 2s 18ms/step - loss: 0.1821 - accuracy: 0.9228\n",
            "Epoch 47/80\n",
            "113/113 [==============================] - 2s 18ms/step - loss: 0.1981 - accuracy: 0.9131\n",
            "Epoch 48/80\n",
            "113/113 [==============================] - 2s 18ms/step - loss: 0.1765 - accuracy: 0.9276\n",
            "Epoch 49/80\n",
            "113/113 [==============================] - 2s 19ms/step - loss: 0.1727 - accuracy: 0.9270\n",
            "Epoch 50/80\n",
            "113/113 [==============================] - 2s 19ms/step - loss: 0.1640 - accuracy: 0.9314\n",
            "Epoch 51/80\n",
            "113/113 [==============================] - 2s 20ms/step - loss: 0.1680 - accuracy: 0.9298\n",
            "Epoch 52/80\n",
            "113/113 [==============================] - 2s 19ms/step - loss: 0.1648 - accuracy: 0.9289\n",
            "Epoch 53/80\n",
            "113/113 [==============================] - 2s 19ms/step - loss: 0.1756 - accuracy: 0.9323\n",
            "Epoch 54/80\n",
            "113/113 [==============================] - 2s 19ms/step - loss: 0.1562 - accuracy: 0.9378\n",
            "Epoch 55/80\n",
            "113/113 [==============================] - 2s 19ms/step - loss: 0.1582 - accuracy: 0.9378\n",
            "Epoch 56/80\n",
            "113/113 [==============================] - 2s 18ms/step - loss: 0.1446 - accuracy: 0.9406\n",
            "Epoch 57/80\n",
            "113/113 [==============================] - 2s 19ms/step - loss: 0.1526 - accuracy: 0.9323\n",
            "Epoch 58/80\n",
            "113/113 [==============================] - 2s 18ms/step - loss: 0.1461 - accuracy: 0.9384\n",
            "Epoch 59/80\n",
            "113/113 [==============================] - 2s 18ms/step - loss: 0.1383 - accuracy: 0.9414\n",
            "Epoch 60/80\n",
            "113/113 [==============================] - 2s 18ms/step - loss: 0.1284 - accuracy: 0.9448\n",
            "Epoch 61/80\n",
            "113/113 [==============================] - 2s 19ms/step - loss: 0.1514 - accuracy: 0.9356\n",
            "Epoch 62/80\n",
            "113/113 [==============================] - 2s 19ms/step - loss: 0.1447 - accuracy: 0.9403\n",
            "Epoch 63/80\n",
            "113/113 [==============================] - 2s 19ms/step - loss: 0.1458 - accuracy: 0.9425\n",
            "Epoch 64/80\n",
            "113/113 [==============================] - 2s 19ms/step - loss: 0.1234 - accuracy: 0.9473\n",
            "Epoch 65/80\n",
            "113/113 [==============================] - 2s 18ms/step - loss: 0.1488 - accuracy: 0.9362\n",
            "Epoch 66/80\n",
            "113/113 [==============================] - 2s 18ms/step - loss: 0.1345 - accuracy: 0.9448\n",
            "Epoch 67/80\n",
            "113/113 [==============================] - 2s 19ms/step - loss: 0.1340 - accuracy: 0.9439\n",
            "Epoch 68/80\n",
            "113/113 [==============================] - 2s 19ms/step - loss: 0.1256 - accuracy: 0.9475\n",
            "Epoch 69/80\n",
            "113/113 [==============================] - 2s 18ms/step - loss: 0.1321 - accuracy: 0.9478\n",
            "Epoch 70/80\n",
            "113/113 [==============================] - 2s 19ms/step - loss: 0.1380 - accuracy: 0.9417\n",
            "Epoch 71/80\n",
            "113/113 [==============================] - 2s 19ms/step - loss: 0.1239 - accuracy: 0.9509\n",
            "Epoch 72/80\n",
            "113/113 [==============================] - 2s 19ms/step - loss: 0.1107 - accuracy: 0.9573\n",
            "Epoch 73/80\n",
            "113/113 [==============================] - 2s 19ms/step - loss: 0.1308 - accuracy: 0.9478\n",
            "Epoch 74/80\n",
            "113/113 [==============================] - 2s 19ms/step - loss: 0.1241 - accuracy: 0.9487\n",
            "Epoch 75/80\n",
            "113/113 [==============================] - 2s 18ms/step - loss: 0.1141 - accuracy: 0.9553\n",
            "Epoch 76/80\n",
            "113/113 [==============================] - 2s 18ms/step - loss: 0.1174 - accuracy: 0.9553\n",
            "Epoch 77/80\n",
            "113/113 [==============================] - 2s 19ms/step - loss: 0.1012 - accuracy: 0.9609\n",
            "Epoch 78/80\n",
            "113/113 [==============================] - 2s 18ms/step - loss: 0.1121 - accuracy: 0.9545\n",
            "Epoch 79/80\n",
            "113/113 [==============================] - 2s 19ms/step - loss: 0.1071 - accuracy: 0.9564\n",
            "Epoch 80/80\n",
            "113/113 [==============================] - 2s 19ms/step - loss: 0.1136 - accuracy: 0.9542\n",
            "training  model takes 169.091 seconds\n"
          ],
          "name": "stdout"
        }
      ]
    },
    {
      "cell_type": "code",
      "metadata": {
        "id": "NdVqiKQOq4EK",
        "outputId": "3148727d-e9f4-4862-8161-41736a36ba7b",
        "colab": {
          "base_uri": "https://localhost:8080/",
          "height": 282
        }
      },
      "source": [
        "his_plot = pd.DataFrame(model_history.history)\n",
        "plt.plot(his_plot['accuracy'],label = 'Accuracy')\n",
        "plt.legend()"
      ],
      "execution_count": 54,
      "outputs": [
        {
          "output_type": "execute_result",
          "data": {
            "text/plain": [
              "<matplotlib.legend.Legend at 0x7fede4c105c0>"
            ]
          },
          "metadata": {
            "tags": []
          },
          "execution_count": 54
        },
        {
          "output_type": "display_data",
          "data": {
            "image/png": "[encoded data removed]",
            "text/plain": [
              "<Figure size 432x288 with 1 Axes>"
            ]
          },
          "metadata": {
            "tags": [],
            "needs_background": "light"
          }
        }
      ]
    },
    {
      "cell_type": "code",
      "metadata": {
        "id": "nJ7tV86PrGGc",
        "outputId": "fa460ead-35b3-4573-e7d7-6f6d107e9827",
        "colab": {
          "base_uri": "https://localhost:8080/",
          "height": 282
        }
      },
      "source": [
        "plt.plot(his_plot['loss'],label = 'loss')\n",
        "plt.legend()"
      ],
      "execution_count": 55,
      "outputs": [
        {
          "output_type": "execute_result",
          "data": {
            "text/plain": [
              "<matplotlib.legend.Legend at 0x7fede4c10748>"
            ]
          },
          "metadata": {
            "tags": []
          },
          "execution_count": 55
        },
        {
          "output_type": "display_data",
          "data": {
            "image/png": "[encoded data removed]",
            "text/plain": [
              "<Figure size 432x288 with 1 Axes>"
            ]
          },
          "metadata": {
            "tags": [],
            "needs_background": "light"
          }
        }
      ]
    },
    {
      "cell_type": "code",
      "metadata": {
        "id": "kXf3zJ0pUNCh",
        "outputId": "78779f76-ca72-4418-cdb7-8bc58f46a395",
        "colab": {
          "base_uri": "https://localhost:8080/"
        }
      },
      "source": [
        "# Test on the balanced dataset\n",
        "start_time = time.time()\n",
        "y_fitprob = model.predict(X_train)\n",
        "y_fit = np.argmax(y_fitprob, axis=-1)\n",
        "print(\"Testing model on train_dataset takes %s seconds\" % round((time.time() - start_time),3))\n",
        "\n",
        "start_time = time.time()\n",
        "y_predprob = model.predict(X_test)\n",
        "y_pred = np.argmax(y_predprob, axis=-1)\n",
        "print(\"Testing model on test_dataset takes %s seconds\" % round((time.time() - start_time),3))\n",
        "\n",
        "print(\"Train dataset -- Accuracy:  %.2f\" % sklearn.metrics.accuracy_score(y_train, y_fit))\n",
        "print(\"Train dataset -- AUC:  %.2f\" % sklearn.metrics.roc_auc_score(one_hot_train, y_fitprob))\n",
        "print(\"Test dataset -- Accuracy:  %.2f\" % sklearn.metrics.accuracy_score(y_test,y_pred))\n",
        "print(\"Test dataset -- AUC:  %.2f\" % sklearn.metrics.roc_auc_score(one_hot_test, y_predprob))"
      ],
      "execution_count": 58,
      "outputs": [
        {
          "output_type": "stream",
          "text": [
            "Testing model on train_dataset takes 0.542 seconds\n",
            "Testing model on test_dataset takes 0.205 seconds\n",
            "Train dataset -- Accuracy:  0.99\n",
            "Train dataset -- AUC:  1.00\n",
            "Test dataset -- Accuracy:  0.91\n",
            "Test dataset -- AUC:  0.98\n"
          ],
          "name": "stdout"
        }
      ]
    },
    {
      "cell_type": "code",
      "metadata": {
        "id": "_ATMSr4UiQLj",
        "outputId": "5e5bce36-6d7f-49f3-c3d0-f7e4979b93d8",
        "colab": {
          "base_uri": "https://localhost:8080/"
        }
      },
      "source": [
        "# Test on the original dataset\n",
        "\n",
        "scaler = StandardScaler()\n",
        "scaler.fit(Ori_X)\n",
        "ori_scale = scaler.transform(Ori_X)\n",
        "one_hot_o = tf.one_hot(Ori_Y,depth=2)\n",
        "\n",
        "start_time = time.time()\n",
        "y_fitprob_o = model.predict(ori_scale)\n",
        "y_fit = np.argmax(y_fitprob_o, axis=-1)\n",
        "print(\"Testing model on original dataset takes %s seconds\" % round((time.time() - start_time),3))\n",
        "\n",
        "print(\"Original dataset -- Accuracy:  %.2f\" % sklearn.metrics.accuracy_score(Ori_Y, y_fit))\n",
        "print(\"Original datase -- AUC:  %.2f\" % sklearn.metrics.roc_auc_score(one_hot_o, y_fitprob_o))"
      ],
      "execution_count": 59,
      "outputs": [
        {
          "output_type": "stream",
          "text": [
            "Testing model on original dataset takes 0.448 seconds\n",
            "Original dataset -- Accuracy:  0.90\n",
            "Original datase -- AUC:  0.98\n"
          ],
          "name": "stdout"
        }
      ]
    },
    {
      "cell_type": "code",
      "metadata": {
        "id": "r0TfKYg7mV77",
        "outputId": "a19c891c-ef42-49df-c043-7aeddd6a0726",
        "colab": {
          "base_uri": "https://localhost:8080/"
        }
      },
      "source": [
        "# Save the model\n",
        "model.save(\"DNN\")\n",
        "\n",
        "# Load the model\n",
        "predict_model = keras.models.load_model(\"DNN\")"
      ],
      "execution_count": 57,
      "outputs": [
        {
          "output_type": "stream",
          "text": [
            "INFO:tensorflow:Assets written to: DNN/assets\n"
          ],
          "name": "stdout"
        }
      ]
    },
    {
      "cell_type": "markdown",
      "metadata": {
        "id": "JsQ3i8mglW78"
      },
      "source": [
        "## Densely Connected Neural Network works well on both balanced dataset and imbalanced dataset, showing high Accuracy and AUC."
      ]
    }
  ]
}