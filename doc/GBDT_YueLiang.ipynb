{
  "nbformat": 4,
  "nbformat_minor": 0,
  "metadata": {
    "colab": {
      "name": "GBDT.ipynb",
      "provenance": [],
      "collapsed_sections": []
    },
    "kernelspec": {
      "name": "python3",
      "display_name": "Python 3"
    }
  },
  "cells": [
    {
      "cell_type": "markdown",
      "metadata": {
        "id": "6_NHMkvjfHzt"
      },
      "source": [
        "# **Import Required Packages**"
      ]
    },
    {
      "cell_type": "code",
      "metadata": {
        "id": "Sul9PJjDfFlb"
      },
      "source": [
        "import numpy as np\n",
        "import scipy.io\n",
        "import sklearn.metrics\n",
        "import sklearn \n",
        "import os\n",
        "import random\n",
        "import pandas as pd\n",
        "import time\n",
        "from sklearn.preprocessing import StandardScaler\n",
        "from sklearn.model_selection import train_test_split\n",
        "from sklearn.ensemble import GradientBoostingClassifier\n",
        "from sklearn.linear_model import LogisticRegression\n",
        "from sklearn.model_selection import GridSearchCV\n",
        "import matplotlib.pyplot as plt\n",
        "import tensorflow as tf"
      ],
      "execution_count": 14,
      "outputs": []
    },
    {
      "cell_type": "markdown",
      "metadata": {
        "id": "Bsorsa-ab9Rk"
      },
      "source": [
        "# **Read the files**"
      ]
    },
    {
      "cell_type": "code",
      "metadata": {
        "id": "vo0Y0ZFFDt1d"
      },
      "source": [
        "# When using Colab, you can upload train_set.zip in the content folder and run this kernel.\n",
        "!unzip -qq /content/train_set.zip "
      ],
      "execution_count": 2,
      "outputs": []
    },
    {
      "cell_type": "code",
      "metadata": {
        "id": "ATOI6215Lz59"
      },
      "source": [
        "# Set your directory to read the data, default is the directory in colab.\n",
        "unzipped_folder_path = '/content/train_set'"
      ],
      "execution_count": 3,
      "outputs": []
    },
    {
      "cell_type": "code",
      "metadata": {
        "id": "_J2UVY-rUVwY"
      },
      "source": [
        "def read_data(unzipped_folder_path):\n",
        "  \n",
        "  # read labels\n",
        "  labels = pd.read_csv(unzipped_folder_path+'/label.csv')\n",
        "  y= labels['label'].to_numpy()\n",
        "\n",
        "  # read points\n",
        "  n = 3000\n",
        "  for i in range(1,n+1):\n",
        "    p_path = str(i).zfill(4)+'.mat'\n",
        "    mat = scipy.io.loadmat(unzipped_folder_path+'/points/'+p_path)\n",
        "    if 'faceCoordinatesUnwarped' in mat:\n",
        "      cords = mat['faceCoordinatesUnwarped'] \n",
        "    else:\n",
        "      cords = mat['faceCoordinates2']\n",
        "\n",
        "    distance = sklearn.metrics.pairwise_distances(cords)       \n",
        "          # compute the pairwise distances in each mat\n",
        "    flatten_distance = distance[np.triu_indices(len(cords[:,0]), k = 1)]    \n",
        "          # stretch the upper triangle of the symmetric matrix \n",
        "          # to a long array with dimension 3003\n",
        "          # 3003 = (1+77)*78/2\n",
        "    if i==1:\n",
        "      distances = np.mat([flatten_distance])\n",
        "    else:\n",
        "      distances = np.append(distances, np.mat([flatten_distance]), axis = 0)\n",
        "  return (distances, y)\n"
      ],
      "execution_count": 4,
      "outputs": []
    },
    {
      "cell_type": "code",
      "metadata": {
        "id": "j3sddESRgvbO",
        "outputId": "d63ff980-184e-4f37-9a53-84c020946b94",
        "colab": {
          "base_uri": "https://localhost:8080/"
        }
      },
      "source": [
        "read_time_start=time.time()\n",
        "Ori_X, Ori_Y = read_data(unzipped_folder_path)\n",
        "print(\"Read the original dataset takes %s seconds\" % round((time.time() - read_time_start),3))"
      ],
      "execution_count": 5,
      "outputs": [
        {
          "output_type": "stream",
          "text": [
            "Read the original dataset takes 39.533 seconds\n"
          ],
          "name": "stdout"
        }
      ]
    },
    {
      "cell_type": "code",
      "metadata": {
        "id": "sjbBlHljls8Q",
        "outputId": "94f03b73-3f58-429e-e206-700f16764747",
        "colab": {
          "base_uri": "https://localhost:8080/"
        }
      },
      "source": [
        "Ori_X.shape, Ori_Y.shape \n",
        "# should be (3000,3003) and (3000,) \n",
        "# which means 3000 number of cases \n",
        "# and 3003 numbers of pairwise distances\n",
        "# of 78 fiducial points. \n",
        "# 3003 = (1+77)*78/2"
      ],
      "execution_count": 6,
      "outputs": [
        {
          "output_type": "execute_result",
          "data": {
            "text/plain": [
              "((3000, 3003), (3000,))"
            ]
          },
          "metadata": {
            "tags": []
          },
          "execution_count": 6
        }
      ]
    },
    {
      "cell_type": "markdown",
      "metadata": {
        "id": "wUfrQ1rTjBHs"
      },
      "source": [
        "# **Data Preprocessing For the Imbalanced Dataset & Generate New Data to Improve Learning Accuracy** \n",
        "## From the following analysis, we found that the Original Dataset is unbalanced. So we decided to generate new data for the class with smaller number of original samples. By generating new data, we not only balanced the data with equal number of samples in different class, but also create new data to help improve the learning accuracy.\n",
        "\n",
        "* Because the number of Class 1 samples is less than the number of Class 0 samples, we decided to add more data in Class 1.\n",
        "* The way we generate more data is that we randomly select two original cordinates of fiducial points in Class 1 and average them to generate new data of fiducial points and then calculate its pairwise distances and give it the label of 1. \n",
        "* It would make sense cause our models believe that the fiducial points in the same class will generate similar distribution in pairwise distances."
      ]
    },
    {
      "cell_type": "code",
      "metadata": {
        "id": "Ef2jCi9po8Kn",
        "outputId": "e4016fa6-033d-4079-82ad-e8a28cabeded",
        "colab": {
          "base_uri": "https://localhost:8080/"
        }
      },
      "source": [
        "# Analyzing the data\n",
        "n = Ori_Y.shape[0]\n",
        "print('The number of class 0 is ' + str(n-sum(Ori_Y)))\n",
        "print('The number of class 1 is ' + str(sum(Ori_Y)))\n",
        "print('Only %.2f'% (sum(Ori_Y)/n*100) + '% of total dataset are class 1. ')\n",
        "print('So, it is an unbalanced dataset, we need to do some data preprocessing.')\n",
        "print('Here, we are using oversampling to generate more class 1 datasets.')"
      ],
      "execution_count": 7,
      "outputs": [
        {
          "output_type": "stream",
          "text": [
            "The number of class 0 is 2402\n",
            "The number of class 1 is 598\n",
            "Only 19.93% of total dataset are class 1. \n",
            "So, it is an unbalanced dataset, we need to do some data preprocessing.\n",
            "Here, we are using oversampling to generate more class 1 datasets.\n"
          ],
          "name": "stdout"
        }
      ]
    },
    {
      "cell_type": "code",
      "metadata": {
        "id": "XZU3iWqS_XoL"
      },
      "source": [
        "def data_preprocessing(Ori_X, Ori_Y, unzipped_folder_path):\n",
        "\n",
        "  # data preprocessing\n",
        "\n",
        "  distances = Ori_X\n",
        "  y = Ori_Y\n",
        "\n",
        "  n = y.shape[0]\n",
        "  mat_1 = np.add(np.where(y == 1),1)\n",
        "  n_oversample = (n-sum(y))-sum(y) \n",
        "    # how many samples do we need to generate\n",
        "\n",
        "  for i in range(n_oversample):\n",
        "    samples_index = random.sample(list(list(mat_1)[0]), 2)\n",
        "      # pick two random index of class 1 samples. \n",
        "\n",
        "    p_path = str(samples_index[0]).zfill(4)+'.mat'\n",
        "    mat = scipy.io.loadmat(unzipped_folder_path+'/points/'+p_path)\n",
        "    if 'faceCoordinatesUnwarped' in mat:\n",
        "      cords_0 = mat['faceCoordinatesUnwarped'] \n",
        "    else:\n",
        "      cords_0 = mat['faceCoordinates2']\n",
        "    \n",
        "    p_path = str(samples_index[1]).zfill(4)+'.mat'\n",
        "    mat = scipy.io.loadmat(unzipped_folder_path+'/points/'+p_path)\n",
        "    if 'faceCoordinatesUnwarped' in mat:\n",
        "      cords_1 = mat['faceCoordinatesUnwarped'] \n",
        "    else:\n",
        "      cords_1 = mat['faceCoordinates2']\n",
        "\n",
        "    cords_new = (cords_0 + cords_1) / 2 \n",
        "        # averaging two sets of cordinates to generate new set of cordinates\n",
        "    distance = sklearn.metrics.pairwise_distances(cords_new)\n",
        "        # compute the pairwise distances in each mat\n",
        "    flatten_distance = distance[np.triu_indices(len(cords_new[:,0]), k = 1)]\n",
        "        # stretch the upper triangle of the symmetric matrix \n",
        "        # to a long array with dimension 3003\n",
        "        # 3003 = (1+77)*78/2\n",
        "    \n",
        "    distances = np.append(distances, np.mat([flatten_distance]), axis = 0)\n",
        "    y = np.append(y,np.array(1))\n",
        "        # Append new data to the original dataset\n",
        "\n",
        "  return (distances, y) \n"
      ],
      "execution_count": 8,
      "outputs": []
    },
    {
      "cell_type": "code",
      "metadata": {
        "id": "YVZH9NK0xfIc"
      },
      "source": [
        "Balanced_X, Blanced_Y = data_preprocessing(Ori_X, Ori_Y, unzipped_folder_path)"
      ],
      "execution_count": 9,
      "outputs": []
    },
    {
      "cell_type": "code",
      "metadata": {
        "id": "EiKZwvM84VmY",
        "outputId": "b4f93a2c-4cf2-4f4c-8b7d-3ef9df58e521",
        "colab": {
          "base_uri": "https://localhost:8080/"
        }
      },
      "source": [
        "Balanced_X.shape, Blanced_Y.shape"
      ],
      "execution_count": 10,
      "outputs": [
        {
          "output_type": "execute_result",
          "data": {
            "text/plain": [
              "((4804, 3003), (4804,))"
            ]
          },
          "metadata": {
            "tags": []
          },
          "execution_count": 10
        }
      ]
    },
    {
      "cell_type": "markdown",
      "metadata": {
        "id": "ZGpn1fclMdv7"
      },
      "source": [
        "# **Data Scaling and Train Test Split**"
      ]
    },
    {
      "cell_type": "code",
      "metadata": {
        "id": "-Pa96PqUMc4b"
      },
      "source": [
        "scaler = StandardScaler()\n",
        "scaler.fit(Balanced_X)\n",
        "distances_scale = scaler.transform(Balanced_X)"
      ],
      "execution_count": 11,
      "outputs": []
    },
    {
      "cell_type": "code",
      "metadata": {
        "id": "_Z3L1zUZUR36"
      },
      "source": [
        "X_train, X_test, y_train, y_test = sklearn.model_selection.train_test_split(distances_scale, Blanced_Y, random_state=123)"
      ],
      "execution_count": 12,
      "outputs": []
    },
    {
      "cell_type": "code",
      "metadata": {
        "id": "NW9pAhpqM4Gy"
      },
      "source": [
        "one_hot_test=tf.one_hot(y_test,depth=2)\n",
        "one_hot_train=tf.one_hot(y_train,depth=2)"
      ],
      "execution_count": 15,
      "outputs": []
    },
    {
      "cell_type": "markdown",
      "metadata": {
        "id": "B_Lb1edE89ma"
      },
      "source": [
        "# **Model 1: Logistic Regression Only**"
      ]
    },
    {
      "cell_type": "code",
      "metadata": {
        "id": "Axf6M2QR7eDd",
        "outputId": "57331aef-1bdb-4e50-dc4d-37744e8413c5",
        "colab": {
          "base_uri": "https://localhost:8080/"
        }
      },
      "source": [
        "start_time = time.time()\n",
        "lr = LogisticRegression(random_state=123, C=0.01, max_iter=300, multi_class='multinomial' ).fit(X_train,y_train)\n",
        "end_time = time.time()\n",
        "print(\"Training the Logistics Regression uses %s seconds\" % (end_time-start_time))"
      ],
      "execution_count": 16,
      "outputs": [
        {
          "output_type": "stream",
          "text": [
            "Training the Logistics Regression uses 14.290096759796143 seconds\n"
          ],
          "name": "stdout"
        }
      ]
    },
    {
      "cell_type": "code",
      "metadata": {
        "id": "a1-bESvSdDJM",
        "outputId": "c526e5f3-2140-477f-a16c-79a83c069702",
        "colab": {
          "base_uri": "https://localhost:8080/"
        }
      },
      "source": [
        "y_fit = lr.predict(X_train)\n",
        "y_fitprob = lr.decision_function(X_train)\n",
        "y_pred = lr.predict(X_test)\n",
        "y_predprob = lr.decision_function(X_test)\n",
        "print(\"Train dataset -- Accuracy:  %.2f\" % sklearn.metrics.accuracy_score(y_train, y_fit))\n",
        "print(\"Train dataset -- AUC:  %.2f\" % sklearn.metrics.roc_auc_score(y_train, y_fitprob))\n",
        "print(\"Test dataset -- Accuracy:  %.2f\" % sklearn.metrics.accuracy_score(y_test,y_pred))\n",
        "print(\"Test dataset -- AUC:  %.2f\" % sklearn.metrics.roc_auc_score(y_test, y_predprob))"
      ],
      "execution_count": 21,
      "outputs": [
        {
          "output_type": "stream",
          "text": [
            "Train dataset -- Accuracy:  0.86\n",
            "Train dataset -- AUC:  0.94\n",
            "Test dataset -- Accuracy:  0.85\n",
            "Test dataset -- AUC:  0.92\n"
          ],
          "name": "stdout"
        }
      ]
    },
    {
      "cell_type": "markdown",
      "metadata": {
        "id": "EyTwMG2Ar8dR"
      },
      "source": [
        "# **Model 2: GBDT Only**\n",
        "* Train with initialized GBDT"
      ]
    },
    {
      "cell_type": "code",
      "metadata": {
        "id": "aL1L57_gchkt",
        "outputId": "68397e58-795a-4498-86f7-23aff53df88b",
        "colab": {
          "base_uri": "https://localhost:8080/"
        }
      },
      "source": [
        "*start_time = time.time()\n",
        "gbdt = GradientBoostingClassifier(random_state=123)\n",
        "gbdt.fit(X_train,y_train)\n",
        "print(\"Training the initialized GBDT uses %s seconds\" % (time.time()-start_time))"
      ],
      "execution_count": 26,
      "outputs": [
        {
          "output_type": "stream",
          "text": [
            "Training the initialized GBDT uses 380.02052307128906 seconds\n"
          ],
          "name": "stdout"
        }
      ]
    },
    {
      "cell_type": "code",
      "metadata": {
        "id": "Sg3HmOmWZ6Wr",
        "outputId": "3cf61a0a-ff6e-4b49-f0b8-58890e944db6",
        "colab": {
          "base_uri": "https://localhost:8080/"
        }
      },
      "source": [
        "y_fit = gbdt.predict(X_train)\n",
        "y_fitprob = gbdt.decision_function(X_train)\n",
        "y_pred = gbdt.predict(X_test)\n",
        "y_predprob = gbdt.decision_function(X_test)\n",
        "\n",
        "print(\"Train dataset -- Accuracy:  %.2f\" % sklearn.metrics.accuracy_score(y_train, y_fit))\n",
        "print(\"Train dataset -- AUC:  %.2f\" % sklearn.metrics.roc_auc_score(y_train, y_fitprob))\n",
        "print(\"Test dataset -- Accuracy:  %.2f\" % sklearn.metrics.accuracy_score(y_test,y_pred))\n",
        "print(\"Test dataset -- AUC:  %.2f\" % sklearn.metrics.roc_auc_score(y_test, y_predprob))"
      ],
      "execution_count": 27,
      "outputs": [
        {
          "output_type": "stream",
          "text": [
            "Train dataset -- Accuracy:  0.95\n",
            "Train dataset -- AUC:  0.99\n",
            "Test dataset -- Accuracy:  0.84\n",
            "Test dataset -- AUC:  0.92\n"
          ],
          "name": "stdout"
        }
      ]
    },
    {
      "cell_type": "markdown",
      "metadata": {
        "id": "qWyc0EGL3YDq"
      },
      "source": [
        "* Train with the GBDT with some choices of parameters"
      ]
    },
    {
      "cell_type": "code",
      "metadata": {
        "id": "kACQgC4_T_j3",
        "outputId": "27c3093a-f5b1-4962-a6f6-49b7c8b60f27",
        "colab": {
          "base_uri": "https://localhost:8080/"
        }
      },
      "source": [
        "start_time = time.time()\n",
        "gbdt2 = GradientBoostingClassifier(random_state=123, max_depth = 7, min_samples_split = 200,\n",
        "                                  subsample = 0.85, max_features = 13, learning_rate = 0.1,\n",
        "                                  n_estimators = 300)\n",
        "gbdt2.fit(X_train,y_train)\n",
        "print(\"Training the GBDT with some choices of parameters uses %s seconds\" % (time.time()-start_time))"
      ],
      "execution_count": 28,
      "outputs": [
        {
          "output_type": "stream",
          "text": [
            "Training the GBDT with some choices of parameters uses 9.272934198379517 seconds\n"
          ],
          "name": "stdout"
        }
      ]
    },
    {
      "cell_type": "code",
      "metadata": {
        "id": "c9P04AaBmv4j",
        "outputId": "eb17bd9b-fd4e-4467-8ac2-fe7afb899790",
        "colab": {
          "base_uri": "https://localhost:8080/"
        }
      },
      "source": [
        "y_fit = gbdt2.predict(X_train)\n",
        "y_fitprob = gbdt2.decision_function(X_train)\n",
        "y_pred = gbdt2.predict(X_test)\n",
        "y_predprob = gbdt2.decision_function(X_test)\n",
        "print(\"Train dataset -- Accuracy:  %.2f\" % sklearn.metrics.accuracy_score(y_train, y_fit))\n",
        "print(\"Train dataset -- AUC:  %.2f\" % sklearn.metrics.roc_auc_score(y_train, y_fitprob))\n",
        "print(\"Test dataset -- Accuracy:  %.2f\" % sklearn.metrics.accuracy_score(y_test,y_pred))\n",
        "print(\"Test dataset -- AUC:  %.2f\" % sklearn.metrics.roc_auc_score(y_test, y_predprob))"
      ],
      "execution_count": 29,
      "outputs": [
        {
          "output_type": "stream",
          "text": [
            "Train dataset -- Accuracy:  1.00\n",
            "Train dataset -- AUC:  1.00\n",
            "Test dataset -- Accuracy:  0.87\n",
            "Test dataset -- AUC:  0.94\n"
          ],
          "name": "stdout"
        }
      ]
    },
    {
      "cell_type": "markdown",
      "metadata": {
        "id": "zwM36ImQ5Rka"
      },
      "source": [
        "The training time is significantly reduced, and the AUC, Accuracy are higher as well. In order to find the best parameters, we need to do grid search to tune the parameters."
      ]
    },
    {
      "cell_type": "markdown",
      "metadata": {
        "id": "X5DFY0j-4Eup"
      },
      "source": [
        "* Grid Search for n_estimators & learning_rate"
      ]
    },
    {
      "cell_type": "code",
      "metadata": {
        "id": "3TlVXZKlUyPx",
        "outputId": "6e65a7dc-4a29-45d9-e122-4bc8d8f52a9e",
        "colab": {
          "base_uri": "https://localhost:8080/"
        }
      },
      "source": [
        "param_test1  = {  \n",
        "    'n_estimators':range(100,501,100),\n",
        "    'learning_rate': [0.001,0.01,0.1,0.5]\n",
        "}\n",
        "\n",
        "gsearch1 = GridSearchCV(estimator = GradientBoostingClassifier(random_state=123,min_samples_split = 300,\n",
        "                                  max_depth = 8 ,subsample = 0.8, max_features = 'sqrt'),\n",
        "                        param_grid = param_test1, scoring='roc_auc',cv=3)\n",
        "gsearch1.fit(X_train,y_train)"
      ],
      "execution_count": null,
      "outputs": [
        {
          "output_type": "execute_result",
          "data": {
            "text/plain": [
              "GridSearchCV(cv=3, error_score=nan,\n",
              "             estimator=GradientBoostingClassifier(ccp_alpha=0.0,\n",
              "                                                  criterion='friedman_mse',\n",
              "                                                  init=None, learning_rate=0.1,\n",
              "                                                  loss='deviance', max_depth=8,\n",
              "                                                  max_features='sqrt',\n",
              "                                                  max_leaf_nodes=None,\n",
              "                                                  min_impurity_decrease=0.0,\n",
              "                                                  min_impurity_split=None,\n",
              "                                                  min_samples_leaf=1,\n",
              "                                                  min_samples_split=300,\n",
              "                                                  min_weight_fraction_leaf=0.0,\n",
              "                                                  n_estimators=100,\n",
              "                                                  n_iter_no_change=None,\n",
              "                                                  presort='deprecated',\n",
              "                                                  random_state=123,\n",
              "                                                  subsample=0.8, tol=0.0001,\n",
              "                                                  validation_fraction=0.1,\n",
              "                                                  verbose=0, warm_start=False),\n",
              "             iid='deprecated', n_jobs=None,\n",
              "             param_grid={'learning_rate': [0.001, 0.01, 0.1, 0.5],\n",
              "                         'n_estimators': range(100, 501, 100)},\n",
              "             pre_dispatch='2*n_jobs', refit=True, return_train_score=False,\n",
              "             scoring='roc_auc', verbose=0)"
            ]
          },
          "metadata": {
            "tags": []
          },
          "execution_count": 42
        }
      ]
    },
    {
      "cell_type": "code",
      "metadata": {
        "id": "J9ipkGMHcHLF",
        "outputId": "d197efbd-6a3f-4925-8305-b69941219f83",
        "colab": {
          "base_uri": "https://localhost:8080/"
        }
      },
      "source": [
        "gsearch1.best_params_, gsearch1.best_score_"
      ],
      "execution_count": null,
      "outputs": [
        {
          "output_type": "execute_result",
          "data": {
            "text/plain": [
              "({'learning_rate': 0.1, 'n_estimators': 500}, 0.944278946555829)"
            ]
          },
          "metadata": {
            "tags": []
          },
          "execution_count": 43
        }
      ]
    },
    {
      "cell_type": "code",
      "metadata": {
        "id": "fRAefSK1xa4o"
      },
      "source": [
        "gsearch1_gbdt =  GradientBoostingClassifier(random_state=123, min_samples_split = 300, \n",
        "                                       learning_rate=0.1, n_estimators = 500,\n",
        "                                  max_depth = 8 ,subsample = 0.8, max_features = 'sqrt')"
      ],
      "execution_count": 30,
      "outputs": []
    },
    {
      "cell_type": "code",
      "metadata": {
        "id": "CZOxKpEcxwC3",
        "outputId": "f2e35d12-b960-4d09-c96a-5842fb1ee4aa",
        "colab": {
          "base_uri": "https://localhost:8080/"
        }
      },
      "source": [
        "start_time = time.time()\n",
        "gsearch1_gbdt.fit(X_train,y_train)\n",
        "print(\"Training the grid searched 1 model of GBDT uses %s seconds\" % (time.time()-start_time))"
      ],
      "execution_count": 31,
      "outputs": [
        {
          "output_type": "stream",
          "text": [
            "Training the grid searched 1 model of GBDT uses 59.18402600288391 seconds\n"
          ],
          "name": "stdout"
        }
      ]
    },
    {
      "cell_type": "code",
      "metadata": {
        "id": "QT2MQ_s2Ump8",
        "outputId": "62f58d04-6fe6-4a52-e6c8-2b5bbca036ab",
        "colab": {
          "base_uri": "https://localhost:8080/"
        }
      },
      "source": [
        "y_fit = gsearch1_gbdt.predict(X_train)\n",
        "y_fitprob = gsearch1_gbdt.decision_function(X_train)\n",
        "y_pred = gsearch1_gbdt.predict(X_test)\n",
        "y_predprob = gsearch1_gbdt.decision_function(X_test)\n",
        "\n",
        "print(\"Train dataset -- Accuracy:  %.2f\" % sklearn.metrics.accuracy_score(y_train, y_fit))\n",
        "print(\"Train dataset -- AUC:  %.2f\" % sklearn.metrics.roc_auc_score(y_train, y_fitprob))\n",
        "print(\"Test dataset -- Accuracy:  %.2f\" % sklearn.metrics.accuracy_score(y_test,y_pred))\n",
        "print(\"Test dataset -- AUC:  %.2f\" % sklearn.metrics.roc_auc_score(y_test, y_predprob))"
      ],
      "execution_count": 32,
      "outputs": [
        {
          "output_type": "stream",
          "text": [
            "Train dataset -- Accuracy:  1.00\n",
            "Train dataset -- AUC:  1.00\n",
            "Test dataset -- Accuracy:  0.89\n",
            "Test dataset -- AUC:  0.95\n"
          ],
          "name": "stdout"
        }
      ]
    },
    {
      "cell_type": "markdown",
      "metadata": {
        "id": "AOwt59mS4g8B"
      },
      "source": [
        "* Grid Search for max_depth & min_samples_split"
      ]
    },
    {
      "cell_type": "code",
      "metadata": {
        "id": "TgNJkcdRyxhz",
        "outputId": "ae84babe-1775-46f4-b53f-f74da050d037",
        "colab": {
          "base_uri": "https://localhost:8080/"
        }
      },
      "source": [
        "param_test2  = {  \n",
        "    'max_depth':range(5,14,2),\n",
        "    'min_samples_split': range(100,501,100)\n",
        "}\n",
        "\n",
        "gsearch2 = GridSearchCV(estimator = GradientBoostingClassifier(random_state=123, n_estimators = 500, \n",
        "                                  subsample = 0.8, max_features = 'sqrt', learning_rate = 0.1),\n",
        "                        param_grid = param_test2, scoring='roc_auc',cv=3)\n",
        "gsearch2.fit(X_train,y_train)"
      ],
      "execution_count": null,
      "outputs": [
        {
          "output_type": "execute_result",
          "data": {
            "text/plain": [
              "GridSearchCV(cv=3, error_score=nan,\n",
              "             estimator=GradientBoostingClassifier(ccp_alpha=0.0,\n",
              "                                                  criterion='friedman_mse',\n",
              "                                                  init=None, learning_rate=0.1,\n",
              "                                                  loss='deviance', max_depth=3,\n",
              "                                                  max_features='sqrt',\n",
              "                                                  max_leaf_nodes=None,\n",
              "                                                  min_impurity_decrease=0.0,\n",
              "                                                  min_impurity_split=None,\n",
              "                                                  min_samples_leaf=1,\n",
              "                                                  min_samples_split=2,\n",
              "                                                  min_weight_fraction_leaf=0.0,\n",
              "                                                  n_estimators=500,\n",
              "                                                  n_iter_no_change=None,\n",
              "                                                  presort='deprecated',\n",
              "                                                  random_state=123,\n",
              "                                                  subsample=0.8, tol=0.0001,\n",
              "                                                  validation_fraction=0.1,\n",
              "                                                  verbose=0, warm_start=False),\n",
              "             iid='deprecated', n_jobs=None,\n",
              "             param_grid={'max_depth': range(5, 14, 2),\n",
              "                         'min_samples_split': range(100, 501, 100)},\n",
              "             pre_dispatch='2*n_jobs', refit=True, return_train_score=False,\n",
              "             scoring='roc_auc', verbose=0)"
            ]
          },
          "metadata": {
            "tags": []
          },
          "execution_count": 17
        }
      ]
    },
    {
      "cell_type": "code",
      "metadata": {
        "id": "WteKHCTlIj7b",
        "outputId": "5a4f73b8-21ea-4219-d898-4b21cd7233e3",
        "colab": {
          "base_uri": "https://localhost:8080/"
        }
      },
      "source": [
        "gsearch2.best_params_, gsearch2.best_score_"
      ],
      "execution_count": null,
      "outputs": [
        {
          "output_type": "execute_result",
          "data": {
            "text/plain": [
              "({'max_depth': 11, 'min_samples_split': 200}, 0.9453475049364958)"
            ]
          },
          "metadata": {
            "tags": []
          },
          "execution_count": 18
        }
      ]
    },
    {
      "cell_type": "code",
      "metadata": {
        "id": "X0l0BReLx8qB"
      },
      "source": [
        "gsearch2_gbdt =  GradientBoostingClassifier(random_state=123, min_samples_split = 200, \n",
        "                                       learning_rate=0.1, n_estimators = 500,\n",
        "                                  max_depth = 11 ,subsample = 0.8, max_features = 'sqrt')"
      ],
      "execution_count": 33,
      "outputs": []
    },
    {
      "cell_type": "code",
      "metadata": {
        "id": "eRGS-S4lx_ry",
        "outputId": "7851c28a-7897-49c3-afa3-37fcd08ad421",
        "colab": {
          "base_uri": "https://localhost:8080/"
        }
      },
      "source": [
        "start_time = time.time()\n",
        "gsearch2_gbdt.fit(X_train,y_train)\n",
        "print(\"Training the grid searched 2 model of GBDT uses %s seconds\" % (time.time()-start_time))"
      ],
      "execution_count": 34,
      "outputs": [
        {
          "output_type": "stream",
          "text": [
            "Training the grid searched 2 model of GBDT uses 74.36143827438354 seconds\n"
          ],
          "name": "stdout"
        }
      ]
    },
    {
      "cell_type": "code",
      "metadata": {
        "id": "tIWqgEDPIsn8",
        "outputId": "efebe4a5-890d-4001-b849-e839131199a0",
        "colab": {
          "base_uri": "https://localhost:8080/"
        }
      },
      "source": [
        "y_fit = gsearch2_gbdt.predict(X_train)\n",
        "y_fitprob = gsearch2_gbdt.decision_function(X_train)\n",
        "y_pred = gsearch2_gbdt.predict(X_test)\n",
        "y_predprob = gsearch2_gbdt.decision_function(X_test)\n",
        "\n",
        "print(\"Train dataset -- Accuracy:  %.2f\" % sklearn.metrics.accuracy_score(y_train, y_fit))\n",
        "print(\"Train dataset -- AUC:  %.2f\" % sklearn.metrics.roc_auc_score(y_train, y_fitprob))\n",
        "print(\"Test dataset -- Accuracy:  %.2f\" % sklearn.metrics.accuracy_score(y_test,y_pred))\n",
        "print(\"Test dataset -- AUC:  %.2f\" % sklearn.metrics.roc_auc_score(y_test, y_predprob))"
      ],
      "execution_count": 35,
      "outputs": [
        {
          "output_type": "stream",
          "text": [
            "Train dataset -- Accuracy:  1.00\n",
            "Train dataset -- AUC:  1.00\n",
            "Test dataset -- Accuracy:  0.90\n",
            "Test dataset -- AUC:  0.96\n"
          ],
          "name": "stdout"
        }
      ]
    },
    {
      "cell_type": "markdown",
      "metadata": {
        "id": "7fIeI0c04qqg"
      },
      "source": [
        "* Grid Search for min_samples_leaf & subsample"
      ]
    },
    {
      "cell_type": "code",
      "metadata": {
        "id": "B2M86OzBIqsc",
        "outputId": "f5ee2e28-b978-4d22-9b7a-959f5f1599fe",
        "colab": {
          "base_uri": "https://localhost:8080/"
        }
      },
      "source": [
        "param_test3  = {  \n",
        "     'min_samples_leaf':range(10,91,20),\n",
        "     'subsample':[0.6,0.7,0.8,0.9]\n",
        "}\n",
        "\n",
        "gsearch3 = GridSearchCV(estimator = GradientBoostingClassifier(random_state=123, n_estimators = 500, \n",
        "                                                               max_depth = 11, min_samples_split = 200,\n",
        "                                                               max_features = 'sqrt', learning_rate = 0.1),\n",
        "                        param_grid = param_test3, scoring='roc_auc',cv=3)\n",
        "gsearch3.fit(X_train,y_train)"
      ],
      "execution_count": null,
      "outputs": [
        {
          "output_type": "execute_result",
          "data": {
            "text/plain": [
              "GridSearchCV(cv=3, error_score=nan,\n",
              "             estimator=GradientBoostingClassifier(ccp_alpha=0.0,\n",
              "                                                  criterion='friedman_mse',\n",
              "                                                  init=None, learning_rate=0.1,\n",
              "                                                  loss='deviance', max_depth=11,\n",
              "                                                  max_features='sqrt',\n",
              "                                                  max_leaf_nodes=None,\n",
              "                                                  min_impurity_decrease=0.0,\n",
              "                                                  min_impurity_split=None,\n",
              "                                                  min_samples_leaf=1,\n",
              "                                                  min_samples_split=200,\n",
              "                                                  min_weight_fraction_leaf=0.0,\n",
              "                                                  n_estimators=500,\n",
              "                                                  n_iter_no_change=None,\n",
              "                                                  presort='deprecated',\n",
              "                                                  random_state=123,\n",
              "                                                  subsample=1.0, tol=0.0001,\n",
              "                                                  validation_fraction=0.1,\n",
              "                                                  verbose=0, warm_start=False),\n",
              "             iid='deprecated', n_jobs=None,\n",
              "             param_grid={'min_samples_leaf': range(10, 91, 20),\n",
              "                         'subsample': [0.6, 0.7, 0.8, 0.9]},\n",
              "             pre_dispatch='2*n_jobs', refit=True, return_train_score=False,\n",
              "             scoring='roc_auc', verbose=0)"
            ]
          },
          "metadata": {
            "tags": []
          },
          "execution_count": 22
        }
      ]
    },
    {
      "cell_type": "code",
      "metadata": {
        "id": "sFoNjSsEK-Up",
        "outputId": "bff1ca73-0b25-436e-9a34-c6d18e56b4f4",
        "colab": {
          "base_uri": "https://localhost:8080/"
        }
      },
      "source": [
        "gsearch3.best_params_, gsearch3.best_score_"
      ],
      "execution_count": null,
      "outputs": [
        {
          "output_type": "execute_result",
          "data": {
            "text/plain": [
              "({'min_samples_leaf': 10, 'subsample': 0.8}, 0.9462746723223064)"
            ]
          },
          "metadata": {
            "tags": []
          },
          "execution_count": 23
        }
      ]
    },
    {
      "cell_type": "markdown",
      "metadata": {
        "id": "hhxF9ZzJ41Ki"
      },
      "source": [
        "# After tuning the parameters of GBDT, the best GBDT model will be the following."
      ]
    },
    {
      "cell_type": "code",
      "metadata": {
        "id": "t7Z2pfimVCUP"
      },
      "source": [
        "GBDT_best = GradientBoostingClassifier(random_state=123, n_estimators = 500, max_depth = 11, min_samples_split = 200,max_features = 'sqrt', min_samples_leaf=10, subsample=0.8, learning_rate = 0.1)"
      ],
      "execution_count": 36,
      "outputs": []
    },
    {
      "cell_type": "code",
      "metadata": {
        "id": "8ksNCPHSVmYV",
        "outputId": "301e70d0-2565-4728-8c20-f2606c6d2113",
        "colab": {
          "base_uri": "https://localhost:8080/"
        }
      },
      "source": [
        "start_time = time.time()\n",
        "GBDT_best.fit(X_train,y_train)\n",
        "print(\"Training the best GBDT model uses %s seconds\" % (time.time()-start_time))"
      ],
      "execution_count": 37,
      "outputs": [
        {
          "output_type": "stream",
          "text": [
            "Training the best GBDT model uses 73.16239047050476 seconds\n"
          ],
          "name": "stdout"
        }
      ]
    },
    {
      "cell_type": "code",
      "metadata": {
        "id": "BnJQXsVynlDV",
        "outputId": "977ae243-1244-490f-882f-7cf64cb7eba4",
        "colab": {
          "base_uri": "https://localhost:8080/"
        }
      },
      "source": [
        "y_fit = GBDT_best.predict(X_train)\n",
        "y_fitprob = GBDT_best.decision_function(X_train)\n",
        "y_pred = GBDT_best.predict(X_test)\n",
        "y_predprob = GBDT_best.decision_function(X_test)\n",
        "\n",
        "print(\"Train dataset -- Accuracy:  %.2f\" % sklearn.metrics.accuracy_score(y_train, y_fit))\n",
        "print(\"Train dataset -- AUC:  %.2f\" % sklearn.metrics.roc_auc_score(y_train, y_fitprob))\n",
        "print(\"Test dataset -- Accuracy:  %.2f\" % sklearn.metrics.accuracy_score(y_test,y_pred))\n",
        "print(\"Test dataset -- AUC:  %.2f\" % sklearn.metrics.roc_auc_score(y_test, y_predprob))"
      ],
      "execution_count": 38,
      "outputs": [
        {
          "output_type": "stream",
          "text": [
            "Train dataset -- Accuracy:  1.00\n",
            "Train dataset -- AUC:  1.00\n",
            "Test dataset -- Accuracy:  0.90\n",
            "Test dataset -- AUC:  0.96\n"
          ],
          "name": "stdout"
        }
      ]
    },
    {
      "cell_type": "markdown",
      "metadata": {
        "id": "SLjioGLR8W5D"
      },
      "source": [
        "# **Model 3: GBDT + Logistics Rregression**"
      ]
    },
    {
      "cell_type": "code",
      "metadata": {
        "id": "eZLqIVd0dEog"
      },
      "source": [
        "predict_one_hot_train = tf.one_hot(y_fit, depth=2)\n",
        "predict_one_hot_test = tf.one_hot(y_pred, depth=2)"
      ],
      "execution_count": 39,
      "outputs": []
    },
    {
      "cell_type": "code",
      "metadata": {
        "id": "ymU2ZAbIoJvi",
        "outputId": "565f92df-529e-485f-ed58-2aed82bc902e",
        "colab": {
          "base_uri": "https://localhost:8080/"
        }
      },
      "source": [
        "lr_after_gbdt = LogisticRegression(penalty='l2',random_state=123)\n",
        "lr_after_gbdt.fit(predict_one_hot_train,y_train)"
      ],
      "execution_count": 40,
      "outputs": [
        {
          "output_type": "execute_result",
          "data": {
            "text/plain": [
              "LogisticRegression(C=1.0, class_weight=None, dual=False, fit_intercept=True,\n",
              "                   intercept_scaling=1, l1_ratio=None, max_iter=100,\n",
              "                   multi_class='auto', n_jobs=None, penalty='l2',\n",
              "                   random_state=123, solver='lbfgs', tol=0.0001, verbose=0,\n",
              "                   warm_start=False)"
            ]
          },
          "metadata": {
            "tags": []
          },
          "execution_count": 40
        }
      ]
    },
    {
      "cell_type": "code",
      "metadata": {
        "id": "x-fZypUymCx0",
        "outputId": "c5904702-afd4-486e-cf77-b930b9894e57",
        "colab": {
          "base_uri": "https://localhost:8080/"
        }
      },
      "source": [
        "y_fit = lr_after_gbdt.predict(predict_one_hot_train)\n",
        "y_fitprob = lr_after_gbdt.decision_function(predict_one_hot_train)\n",
        "y_pred = lr_after_gbdt.predict(predict_one_hot_test)\n",
        "y_predprob = lr_after_gbdt.decision_function(predict_one_hot_test)\n",
        "\n",
        "print(\"Train dataset -- Accuracy:  %.2f\" % sklearn.metrics.accuracy_score(y_train, y_fit))\n",
        "print(\"Train dataset -- AUC:  %.2f\" % sklearn.metrics.roc_auc_score(y_train, y_fitprob))\n",
        "print(\"Test dataset -- Accuracy:  %.2f\" % sklearn.metrics.accuracy_score(y_test,y_pred))\n",
        "print(\"Test dataset -- AUC:  %.2f\" % sklearn.metrics.roc_auc_score(y_test, y_predprob))"
      ],
      "execution_count": 41,
      "outputs": [
        {
          "output_type": "stream",
          "text": [
            "Train dataset -- Accuracy:  1.00\n",
            "Train dataset -- AUC:  1.00\n",
            "Test dataset -- Accuracy:  0.90\n",
            "Test dataset -- AUC:  0.90\n"
          ],
          "name": "stdout"
        }
      ]
    },
    {
      "cell_type": "markdown",
      "metadata": {
        "id": "jp7MP3kO8sxi"
      },
      "source": [
        "Combining the logistics regression and GBDT, we found it to be a weaker classifier."
      ]
    },
    {
      "cell_type": "markdown",
      "metadata": {
        "id": "uKd8Lbzk8-Ay"
      },
      "source": [
        "## So, based on what we have in the previous parts, I believe that GBDT only is the best model in these three models, which shows AUC 0.96 and accuracy 0.90."
      ]
    },
    {
      "cell_type": "code",
      "metadata": {
        "id": "USXCDLbk-Wxq"
      },
      "source": [
        "scaler = StandardScaler()\n",
        "scaler.fit(Ori_X)\n",
        "Ori_X_scale = scaler.transform(Ori_X)"
      ],
      "execution_count": 42,
      "outputs": []
    },
    {
      "cell_type": "code",
      "metadata": {
        "id": "0EQYWlr19oHb",
        "outputId": "deb9473f-faf0-4aa2-9577-3bd2365e3d5f",
        "colab": {
          "base_uri": "https://localhost:8080/"
        }
      },
      "source": [
        "y_pred = GBDT_best.predict(Ori_X_scale)\n",
        "y_predprob = GBDT_best.decision_function(Ori_X_scale)\n",
        "\n",
        "print(\"Original dataset -- Accuracy:  %.2f\" % sklearn.metrics.accuracy_score(Ori_Y,y_pred))\n",
        "print(\"Original dataset -- AUC:  %.2f\" % sklearn.metrics.roc_auc_score(Ori_Y, y_predprob))"
      ],
      "execution_count": 43,
      "outputs": [
        {
          "output_type": "stream",
          "text": [
            "Original dataset -- Accuracy:  0.90\n",
            "Original dataset -- AUC:  0.98\n"
          ],
          "name": "stdout"
        }
      ]
    },
    {
      "cell_type": "markdown",
      "metadata": {
        "id": "6jBO4yIE_SME"
      },
      "source": [
        "## The best GBDT-only model shows an impressive predictive AUC (0.98) in the imbalanced dataset, the original dataset and a very nice accuracy 0.90"
      ]
    }
  ]
}