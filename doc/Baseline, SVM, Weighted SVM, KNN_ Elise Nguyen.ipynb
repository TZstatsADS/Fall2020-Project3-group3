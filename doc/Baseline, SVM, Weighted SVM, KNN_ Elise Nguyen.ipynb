{
 "cells": [
  {
   "cell_type": "markdown",
   "metadata": {},
   "source": [
    "# Load Required Packages"
   ]
  },
  {
   "cell_type": "code",
   "execution_count": 106,
   "metadata": {},
   "outputs": [
    {
     "name": "stderr",
     "output_type": "stream",
     "text": [
      "Using TensorFlow backend.\n"
     ]
    }
   ],
   "source": [
    "import numpy as np\n",
    "import pandas as pd\n",
    "import tensorflow as tf\n",
    "import matplotlib.pyplot as plt\n",
    "import sklearn\n",
    "from sklearn.ensemble import GradientBoostingClassifier\n",
    "from sklearn.datasets import make_classification\n",
    "from sklearn.model_selection import train_test_split, cross_validate, GridSearchCV,RepeatedStratifiedKFold,cross_val_score\n",
    "from sklearn.neighbors import KNeighborsClassifier\n",
    "import scipy.io\n",
    "import pickle\n",
    "import os, sys\n",
    "from scipy.spatial.distance import pdist\n",
    "import time \n",
    "import xlsxwriter\n",
    "from sklearn.metrics import accuracy_score, classification_report,make_scorer, confusion_matrix,roc_auc_score\n",
    "from sklearn.model_selection import GridSearchCV\n",
    "import tensorflow as tf\n",
    "#from keras.utils import to_categorical\n",
    "from tensorflow.keras.models import Sequential\n",
    "from sklearn import ensemble\n",
    "from sklearn.svm import SVC\n",
    "import random\n",
    "from keras.utils import to_categorical\n",
    "import matplotlib.pyplot as plt\n",
    "from tensorflow.keras.models import Sequential\n",
    "from keras.layers import Dense, Activation, Flatten, Input, Dropout\n",
    "from keras.layers import BatchNormalization\n",
    "from keras.models import Model\n",
    "from keras import initializers\n",
    "from keras.optimizers import Adam\n",
    "from keras.utils import to_categorical"
   ]
  },
  {
   "cell_type": "code",
   "execution_count": 126,
   "metadata": {
    "scrolled": false
   },
   "outputs": [],
   "source": [
    "# cwd = os.getcwd()\n",
    "# # os.chdir('C:/Users/Elise Nguyen/Applied DS/doc') \n",
    "# print(cwd)"
   ]
  },
  {
   "cell_type": "markdown",
   "metadata": {},
   "source": [
    "## Loading Data and Generate balanced data set"
   ]
  },
  {
   "cell_type": "code",
   "execution_count": 116,
   "metadata": {},
   "outputs": [],
   "source": [
    "# Read labels\n",
    "labels = pd.read_csv('../data/train_set/label.csv')\n",
    "y= labels['label'].to_numpy()\n",
    "\n",
    "# read points\n",
    "# n = 3000\n",
    "# for i in range(1,n+1): \n",
    "#     file = \"%04d.mat\"%(idx)\n",
    "#     points_path = os.path.join(train_pt_dir, file)\n",
    "#     mat = scipy.io.loadmat(points_path)\n",
    "#     if 'faceCoordinatesUnwarped' in mat:\n",
    "#         cords = mat['faceCoordinatesUnwarped'] \n",
    "#     else:\n",
    "#         cords = mat['faceCoordinates2']\n",
    "\n",
    "#     distance = sklearn.metrics.pairwise_distances(cords)\n",
    "#     flatten_distance = distance[np.triu_indices(len(cords[:,0]), k = 1)]\n",
    "#     if i==1:\n",
    "#         distances = np.mat([flatten_distance])\n",
    "#     else:\n",
    "#         distances = np.append(distances, np.mat([flatten_distance]), axis = 0)"
   ]
  },
  {
   "cell_type": "code",
   "execution_count": 78,
   "metadata": {},
   "outputs": [
    {
     "name": "stdout",
     "output_type": "stream",
     "text": [
      "The number of class 0 is 2402\n",
      "The number of class 1 is 598\n",
      "Only 19.93% of total dataset are class 1. \n",
      "So, it is an unbalanced dataset, we need to do some data preprocessing.\n",
      "Here, we are using oversampling to generate more class 1 datasets.\n"
     ]
    }
   ],
   "source": [
    "# Data preprocessing\n",
    "\n",
    "print('The number of class 0 is ' + str(n-sum(y)))\n",
    "print('The number of class 1 is ' + str(sum(y)))\n",
    "print('Only %.2f'% (sum(y)/n*100) + '% of total dataset are class 1. ')\n",
    "print('So, it is an unbalanced dataset, we need to do some data preprocessing.')\n",
    "print('Here, we are using oversampling to generate more class 1 datasets.')\n",
    "\n",
    "mat_1 = np.add(np.where(y == 1),1)\n",
    "n_oversample = (n-sum(y))-sum(y)\n",
    "\n",
    "for i in range(n_oversample):\n",
    "    samples_index = random.sample(list(list(mat_1)[0]), 2)\n",
    "\n",
    "    #file = \"%04d.mat\"%(str(samples_index[0]))\n",
    "    p_path = str(samples_index[0]).zfill(4)+'.mat'\n",
    "    points_path = os.path.join(train_pt_dir, p_path)\n",
    "    mat = scipy.io.loadmat(points_path)\n",
    "    if 'faceCoordinatesUnwarped' in mat:\n",
    "        cords_0 = mat['faceCoordinatesUnwarped'] \n",
    "    else:\n",
    "        cords_0 = mat['faceCoordinates2']\n",
    "  \n",
    "    p_path = str(samples_index[1]).zfill(4)+'.mat'\n",
    "    points_path = os.path.join(train_pt_dir, p_path)\n",
    "    mat = scipy.io.loadmat(points_path)\n",
    "    if 'faceCoordinatesUnwarped' in mat:\n",
    "        cords_1 = mat['faceCoordinatesUnwarped'] \n",
    "    else:\n",
    "        cords_1 = mat['faceCoordinates2']\n",
    "\n",
    "    cords_new = (cords_0 + cords_1) / 2\n",
    "    distance = sklearn.metrics.pairwise_distances(cords_new)\n",
    "    flatten_distance = distance[np.triu_indices(len(cords_new[:,0]), k = 1)]\n",
    "    distances = np.append(distances, np.mat([flatten_distance]), axis = 0)\n",
    "    y = np.append(y,np.array(1))\n"
   ]
  },
  {
   "cell_type": "code",
   "execution_count": 91,
   "metadata": {},
   "outputs": [
    {
     "name": "stdout",
     "output_type": "stream",
     "text": [
      "(3843, 3003) (961, 3003) (3843,) (961,)\n",
      "1918 484\n"
     ]
    }
   ],
   "source": [
    "#Create train and test features and labels from Balanced Data set\n",
    "X_train,X_test,y_train,y_test = train_test_split(distances,y,test_size=0.2,random_state=666)\n",
    "print(X_train.shape,X_test.shape,y_train.shape,y_test.shape)\n",
    "print(sum(y_train),sum(y_test))"
   ]
  },
  {
   "cell_type": "markdown",
   "metadata": {},
   "source": [
    "# Part I Baseline Model: GBM on Original data set"
   ]
  },
  {
   "cell_type": "markdown",
   "metadata": {},
   "source": [
    "## 1. Reload original data set & Provide directories for training/testing data"
   ]
  },
  {
   "cell_type": "code",
   "execution_count": 141,
   "metadata": {},
   "outputs": [],
   "source": [
    "train_dir = \"../data/train_set\"\n",
    "\n",
    "train_image_dir =  os.path.join(train_dir, 'images')\n",
    "train_pt_dir =  os.path.join(train_dir, 'points' )\n",
    "train_label_path =  os.path.join(train_dir,\"label.csv\")\n",
    "#print(train_label_path)\n",
    "\n",
    "#Orig data set: 2402 points with label 0, 598 points with label 1\n",
    "\n",
    "info = pd.read_csv(train_label_path)\n",
    "info.head(5)\n",
    "train_index, test_index = train_test_split(info['Index'], test_size=0.2, random_state=42)\n",
    "\n",
    "# Read mat files and store coordinates in readmat_matrix list\n",
    "m = []\n",
    "for idx in info['Index']: \n",
    "    file = \"%04d.mat\"%(idx)\n",
    "    m.append(scipy.io.loadmat(os.path.join(train_pt_dir, file)))\n",
    "\n",
    "readmat= [x[[i for i in x.keys() if not i in ['__header__', '__version__', '__globals__']][0]] for x in m]\n",
    "\n"
   ]
  },
  {
   "cell_type": "markdown",
   "metadata": {},
   "source": [
    "## 2. Create train and test features and labels"
   ]
  },
  {
   "cell_type": "code",
   "execution_count": 142,
   "metadata": {},
   "outputs": [],
   "source": [
    "train_points = np.array([readmat[i-1] for i in train_index])\n",
    "test_points = [readmat[i-1] for i in test_index]\n",
    "\n",
    "#print(train_points[0].shape)\n",
    "\n",
    "train_features = np.array([pdist(train_points[i],metric='euclidean') for i in range(len(train_points))])\n",
    "test_features = np.array([pdist(test_points[i],metric='euclidean') for i in range(len(test_points))])\n",
    "#print(train_features.shape, test_features.shape)\n",
    "\n",
    "#pdist returns condensed matrix, hence 3003 rows instead of 6006\n",
    "train_labels=info.index[train_index-1]\n",
    "test_labels=info.index[test_index-1]\n",
    "#print(train_labels)"
   ]
  },
  {
   "cell_type": "code",
   "execution_count": 143,
   "metadata": {},
   "outputs": [],
   "source": [
    "colnames = ['feature'+str(i) for i in range(train_features.shape[1])]\n",
    "train_features = pd.DataFrame(train_features,columns=colnames)\n",
    "train_labels = pd.DataFrame(list(info['label'].iloc[train_index-1]),columns=['labels'])['labels']\n",
    "#print(train_labels)\n",
    "test_features = pd.DataFrame(test_features,columns=colnames)\n",
    "test_labels = pd.DataFrame(list(info['label'].iloc[test_index-1]),columns=['labels'])['labels']"
   ]
  },
  {
   "cell_type": "code",
   "execution_count": 145,
   "metadata": {},
   "outputs": [
    {
     "data": {
      "text/html": [
       "<div>\n",
       "<style scoped>\n",
       "    .dataframe tbody tr th:only-of-type {\n",
       "        vertical-align: middle;\n",
       "    }\n",
       "\n",
       "    .dataframe tbody tr th {\n",
       "        vertical-align: top;\n",
       "    }\n",
       "\n",
       "    .dataframe thead th {\n",
       "        text-align: right;\n",
       "    }\n",
       "</style>\n",
       "<table border=\"1\" class=\"dataframe\">\n",
       "  <thead>\n",
       "    <tr style=\"text-align: right;\">\n",
       "      <th></th>\n",
       "      <th>feature0</th>\n",
       "      <th>feature1</th>\n",
       "      <th>feature2</th>\n",
       "      <th>feature3</th>\n",
       "      <th>feature4</th>\n",
       "      <th>feature5</th>\n",
       "      <th>feature6</th>\n",
       "      <th>feature7</th>\n",
       "      <th>feature8</th>\n",
       "      <th>feature9</th>\n",
       "      <th>...</th>\n",
       "      <th>feature2993</th>\n",
       "      <th>feature2994</th>\n",
       "      <th>feature2995</th>\n",
       "      <th>feature2996</th>\n",
       "      <th>feature2997</th>\n",
       "      <th>feature2998</th>\n",
       "      <th>feature2999</th>\n",
       "      <th>feature3000</th>\n",
       "      <th>feature3001</th>\n",
       "      <th>feature3002</th>\n",
       "    </tr>\n",
       "  </thead>\n",
       "  <tbody>\n",
       "    <tr>\n",
       "      <th>0</th>\n",
       "      <td>38.063196</td>\n",
       "      <td>19.993422</td>\n",
       "      <td>5.752959</td>\n",
       "      <td>21.422734</td>\n",
       "      <td>39.576571</td>\n",
       "      <td>21.181455</td>\n",
       "      <td>10.784682</td>\n",
       "      <td>19.993232</td>\n",
       "      <td>160.545773</td>\n",
       "      <td>122.160819</td>\n",
       "      <td>...</td>\n",
       "      <td>51.117497</td>\n",
       "      <td>101.748654</td>\n",
       "      <td>152.195915</td>\n",
       "      <td>202.637628</td>\n",
       "      <td>51.253897</td>\n",
       "      <td>102.383877</td>\n",
       "      <td>153.441337</td>\n",
       "      <td>51.292388</td>\n",
       "      <td>102.544350</td>\n",
       "      <td>51.304453</td>\n",
       "    </tr>\n",
       "    <tr>\n",
       "      <th>1</th>\n",
       "      <td>30.340658</td>\n",
       "      <td>16.144816</td>\n",
       "      <td>8.099614</td>\n",
       "      <td>18.881226</td>\n",
       "      <td>32.982027</td>\n",
       "      <td>18.409906</td>\n",
       "      <td>8.759513</td>\n",
       "      <td>16.857081</td>\n",
       "      <td>135.350948</td>\n",
       "      <td>108.250797</td>\n",
       "      <td>...</td>\n",
       "      <td>44.677349</td>\n",
       "      <td>89.258559</td>\n",
       "      <td>133.606899</td>\n",
       "      <td>177.348525</td>\n",
       "      <td>44.822146</td>\n",
       "      <td>89.512774</td>\n",
       "      <td>133.798749</td>\n",
       "      <td>44.807930</td>\n",
       "      <td>89.405559</td>\n",
       "      <td>44.800222</td>\n",
       "    </tr>\n",
       "    <tr>\n",
       "      <th>2</th>\n",
       "      <td>38.314598</td>\n",
       "      <td>23.083361</td>\n",
       "      <td>14.392694</td>\n",
       "      <td>22.848741</td>\n",
       "      <td>31.143079</td>\n",
       "      <td>17.813201</td>\n",
       "      <td>15.241226</td>\n",
       "      <td>25.000822</td>\n",
       "      <td>141.163299</td>\n",
       "      <td>109.971393</td>\n",
       "      <td>...</td>\n",
       "      <td>55.300554</td>\n",
       "      <td>102.842625</td>\n",
       "      <td>145.375558</td>\n",
       "      <td>200.640173</td>\n",
       "      <td>48.308656</td>\n",
       "      <td>91.421165</td>\n",
       "      <td>147.339076</td>\n",
       "      <td>43.178082</td>\n",
       "      <td>99.215920</td>\n",
       "      <td>56.074628</td>\n",
       "    </tr>\n",
       "    <tr>\n",
       "      <th>3</th>\n",
       "      <td>43.449462</td>\n",
       "      <td>23.631751</td>\n",
       "      <td>10.243177</td>\n",
       "      <td>22.534345</td>\n",
       "      <td>40.526353</td>\n",
       "      <td>21.141838</td>\n",
       "      <td>11.331717</td>\n",
       "      <td>25.421174</td>\n",
       "      <td>186.226844</td>\n",
       "      <td>138.256224</td>\n",
       "      <td>...</td>\n",
       "      <td>64.249114</td>\n",
       "      <td>127.436392</td>\n",
       "      <td>189.729347</td>\n",
       "      <td>252.121656</td>\n",
       "      <td>64.221913</td>\n",
       "      <td>128.022285</td>\n",
       "      <td>191.761254</td>\n",
       "      <td>64.335005</td>\n",
       "      <td>128.607704</td>\n",
       "      <td>64.381014</td>\n",
       "    </tr>\n",
       "    <tr>\n",
       "      <th>4</th>\n",
       "      <td>33.611191</td>\n",
       "      <td>18.531421</td>\n",
       "      <td>8.499133</td>\n",
       "      <td>19.298344</td>\n",
       "      <td>35.429306</td>\n",
       "      <td>19.617849</td>\n",
       "      <td>7.847140</td>\n",
       "      <td>19.282997</td>\n",
       "      <td>165.616053</td>\n",
       "      <td>131.582536</td>\n",
       "      <td>...</td>\n",
       "      <td>65.828678</td>\n",
       "      <td>118.552737</td>\n",
       "      <td>160.219707</td>\n",
       "      <td>207.868098</td>\n",
       "      <td>53.738951</td>\n",
       "      <td>96.107815</td>\n",
       "      <td>145.058824</td>\n",
       "      <td>42.441912</td>\n",
       "      <td>91.778186</td>\n",
       "      <td>49.627279</td>\n",
       "    </tr>\n",
       "  </tbody>\n",
       "</table>\n",
       "<p>5 rows × 3003 columns</p>\n",
       "</div>"
      ],
      "text/plain": [
       "    feature0   feature1   feature2   feature3   feature4   feature5  \\\n",
       "0  38.063196  19.993422   5.752959  21.422734  39.576571  21.181455   \n",
       "1  30.340658  16.144816   8.099614  18.881226  32.982027  18.409906   \n",
       "2  38.314598  23.083361  14.392694  22.848741  31.143079  17.813201   \n",
       "3  43.449462  23.631751  10.243177  22.534345  40.526353  21.141838   \n",
       "4  33.611191  18.531421   8.499133  19.298344  35.429306  19.617849   \n",
       "\n",
       "    feature6   feature7    feature8    feature9  ...  feature2993  \\\n",
       "0  10.784682  19.993232  160.545773  122.160819  ...    51.117497   \n",
       "1   8.759513  16.857081  135.350948  108.250797  ...    44.677349   \n",
       "2  15.241226  25.000822  141.163299  109.971393  ...    55.300554   \n",
       "3  11.331717  25.421174  186.226844  138.256224  ...    64.249114   \n",
       "4   7.847140  19.282997  165.616053  131.582536  ...    65.828678   \n",
       "\n",
       "   feature2994  feature2995  feature2996  feature2997  feature2998  \\\n",
       "0   101.748654   152.195915   202.637628    51.253897   102.383877   \n",
       "1    89.258559   133.606899   177.348525    44.822146    89.512774   \n",
       "2   102.842625   145.375558   200.640173    48.308656    91.421165   \n",
       "3   127.436392   189.729347   252.121656    64.221913   128.022285   \n",
       "4   118.552737   160.219707   207.868098    53.738951    96.107815   \n",
       "\n",
       "   feature2999  feature3000  feature3001  feature3002  \n",
       "0   153.441337    51.292388   102.544350    51.304453  \n",
       "1   133.798749    44.807930    89.405559    44.800222  \n",
       "2   147.339076    43.178082    99.215920    56.074628  \n",
       "3   191.761254    64.335005   128.607704    64.381014  \n",
       "4   145.058824    42.441912    91.778186    49.627279  \n",
       "\n",
       "[5 rows x 3003 columns]"
      ]
     },
     "execution_count": 145,
     "metadata": {},
     "output_type": "execute_result"
    }
   ],
   "source": [
    "train_features.head(5)"
   ]
  },
  {
   "cell_type": "markdown",
   "metadata": {},
   "source": [
    "## 3. Train a GBM model using random parameters on original data set"
   ]
  },
  {
   "cell_type": "code",
   "execution_count": 146,
   "metadata": {},
   "outputs": [
    {
     "name": "stdout",
     "output_type": "stream",
     "text": [
      "Training  model takes 117.436 seconds\n"
     ]
    }
   ],
   "source": [
    "gbm = GradientBoostingClassifier(learning_rate=0.1,max_depth=2,n_estimators=100) \n",
    "start_time=time.time()\n",
    "gbm.fit(train_features, train_labels)\n",
    "print(\"Training  model takes %s seconds\" % round((time.time() - start_time),3))\n"
   ]
  },
  {
   "cell_type": "code",
   "execution_count": 148,
   "metadata": {},
   "outputs": [
    {
     "name": "stdout",
     "output_type": "stream",
     "text": [
      "Accuracy of the GBM on test set: 0.797\n",
      "Predicting test data takes 0.025 seconds\n",
      "Classification error rate: 0.20333333333333334\n",
      "Classification report \n",
      "               precision    recall  f1-score   support\n",
      "\n",
      "           0       0.80      0.98      0.88       461\n",
      "           1       0.74      0.19      0.30       139\n",
      "\n",
      "    accuracy                           0.80       600\n",
      "   macro avg       0.77      0.58      0.59       600\n",
      "weighted avg       0.79      0.80      0.75       600\n",
      "\n",
      "Confusion Matrix \n",
      " [[452   9]\n",
      " [113  26]]\n",
      "AUC is: 0.7969\n"
     ]
    }
   ],
   "source": [
    "print('Accuracy of the GBM on test set: {:.3f}'.format(gbm.score(test_features,test_labels)))\n",
    "\n",
    "start = time.time()\n",
    "prediction = gbm.predict(test_features)\n",
    "end = time.time()\n",
    "\n",
    "predprob = gbm.predict_proba(test_features)[:,1]\n",
    "\n",
    "print(\"Predicting test data takes %s seconds\" % round((end - start),3))\n",
    "print('Classification error rate:', np.mean(np.array(test_labels)!= prediction))\n",
    "print('Classification report \\n', classification_report(test_labels, prediction))\n",
    "\n",
    "#Since the class distribution is imbalanced/ skewed, we should look at the confusion matrix and AUC\n",
    "print('Confusion Matrix \\n', confusion_matrix(test_labels, prediction))\n",
    "print('AUC is: {:.4f}'.format(roc_auc_score(test_labels, predprob)))\n"
   ]
  },
  {
   "cell_type": "markdown",
   "metadata": {},
   "source": [
    "## 4. GBM Cross Validation and Parameter tuning"
   ]
  },
  {
   "cell_type": "markdown",
   "metadata": {},
   "source": [
    "### 4.1 CV on GBM learning rate and max_depth"
   ]
  },
  {
   "cell_type": "code",
   "execution_count": 23,
   "metadata": {
    "scrolled": false
   },
   "outputs": [
    {
     "name": "stdout",
     "output_type": "stream",
     "text": [
      "Fitting 5 folds for each of 6 candidates, totalling 30 fits\n",
      "[CV] learning_rate=0.05, max_depth=1 .................................\n"
     ]
    },
    {
     "name": "stderr",
     "output_type": "stream",
     "text": [
      "[Parallel(n_jobs=1)]: Using backend SequentialBackend with 1 concurrent workers.\n"
     ]
    },
    {
     "name": "stdout",
     "output_type": "stream",
     "text": [
      "[CV] ..... learning_rate=0.05, max_depth=1, score=0.821, total=  45.8s\n",
      "[CV] learning_rate=0.05, max_depth=1 .................................\n"
     ]
    },
    {
     "name": "stderr",
     "output_type": "stream",
     "text": [
      "[Parallel(n_jobs=1)]: Done   1 out of   1 | elapsed:   45.7s remaining:    0.0s\n"
     ]
    },
    {
     "name": "stdout",
     "output_type": "stream",
     "text": [
      "[CV] ..... learning_rate=0.05, max_depth=1, score=0.812, total=  47.3s\n",
      "[CV] learning_rate=0.05, max_depth=1 .................................\n"
     ]
    },
    {
     "name": "stderr",
     "output_type": "stream",
     "text": [
      "[Parallel(n_jobs=1)]: Done   2 out of   2 | elapsed:  1.5min remaining:    0.0s\n"
     ]
    },
    {
     "name": "stdout",
     "output_type": "stream",
     "text": [
      "[CV] ..... learning_rate=0.05, max_depth=1, score=0.815, total=  46.6s\n",
      "[CV] learning_rate=0.05, max_depth=1 .................................\n",
      "[CV] ..... learning_rate=0.05, max_depth=1, score=0.817, total=  47.4s\n",
      "[CV] learning_rate=0.05, max_depth=1 .................................\n",
      "[CV] ..... learning_rate=0.05, max_depth=1, score=0.817, total=  46.8s\n",
      "[CV] learning_rate=0.05, max_depth=2 .................................\n",
      "[CV] ..... learning_rate=0.05, max_depth=2, score=0.825, total= 1.6min\n",
      "[CV] learning_rate=0.05, max_depth=2 .................................\n",
      "[CV] ..... learning_rate=0.05, max_depth=2, score=0.823, total= 1.6min\n",
      "[CV] learning_rate=0.05, max_depth=2 .................................\n",
      "[CV] ..... learning_rate=0.05, max_depth=2, score=0.817, total= 1.6min\n",
      "[CV] learning_rate=0.05, max_depth=2 .................................\n",
      "[CV] ..... learning_rate=0.05, max_depth=2, score=0.842, total= 1.5min\n",
      "[CV] learning_rate=0.05, max_depth=2 .................................\n",
      "[CV] ..... learning_rate=0.05, max_depth=2, score=0.819, total= 1.5min\n",
      "[CV] learning_rate=0.05, max_depth=3 .................................\n",
      "[CV] ..... learning_rate=0.05, max_depth=3, score=0.833, total= 2.3min\n",
      "[CV] learning_rate=0.05, max_depth=3 .................................\n",
      "[CV] ..... learning_rate=0.05, max_depth=3, score=0.835, total= 2.2min\n",
      "[CV] learning_rate=0.05, max_depth=3 .................................\n",
      "[CV] ..... learning_rate=0.05, max_depth=3, score=0.819, total= 2.2min\n",
      "[CV] learning_rate=0.05, max_depth=3 .................................\n",
      "[CV] ..... learning_rate=0.05, max_depth=3, score=0.842, total= 2.2min\n",
      "[CV] learning_rate=0.05, max_depth=3 .................................\n",
      "[CV] ..... learning_rate=0.05, max_depth=3, score=0.815, total= 2.3min\n",
      "[CV] learning_rate=0.1, max_depth=1 ..................................\n",
      "[CV] ...... learning_rate=0.1, max_depth=1, score=0.829, total=  46.7s\n",
      "[CV] learning_rate=0.1, max_depth=1 ..................................\n",
      "[CV] ...... learning_rate=0.1, max_depth=1, score=0.819, total=  46.8s\n",
      "[CV] learning_rate=0.1, max_depth=1 ..................................\n",
      "[CV] ...... learning_rate=0.1, max_depth=1, score=0.815, total=  46.3s\n",
      "[CV] learning_rate=0.1, max_depth=1 ..................................\n",
      "[CV] ...... learning_rate=0.1, max_depth=1, score=0.825, total=  48.2s\n",
      "[CV] learning_rate=0.1, max_depth=1 ..................................\n",
      "[CV] ...... learning_rate=0.1, max_depth=1, score=0.829, total=  47.2s\n",
      "[CV] learning_rate=0.1, max_depth=2 ..................................\n",
      "[CV] ...... learning_rate=0.1, max_depth=2, score=0.833, total= 1.5min\n",
      "[CV] learning_rate=0.1, max_depth=2 ..................................\n",
      "[CV] ...... learning_rate=0.1, max_depth=2, score=0.831, total= 1.5min\n",
      "[CV] learning_rate=0.1, max_depth=2 ..................................\n",
      "[CV] ...... learning_rate=0.1, max_depth=2, score=0.821, total= 1.5min\n",
      "[CV] learning_rate=0.1, max_depth=2 ..................................\n",
      "[CV] ...... learning_rate=0.1, max_depth=2, score=0.846, total= 1.6min\n",
      "[CV] learning_rate=0.1, max_depth=2 ..................................\n",
      "[CV] ...... learning_rate=0.1, max_depth=2, score=0.833, total= 1.7min\n",
      "[CV] learning_rate=0.1, max_depth=3 ..................................\n",
      "[CV] ...... learning_rate=0.1, max_depth=3, score=0.827, total= 2.5min\n",
      "[CV] learning_rate=0.1, max_depth=3 ..................................\n",
      "[CV] ...... learning_rate=0.1, max_depth=3, score=0.833, total= 2.5min\n",
      "[CV] learning_rate=0.1, max_depth=3 ..................................\n",
      "[CV] ...... learning_rate=0.1, max_depth=3, score=0.815, total= 2.5min\n",
      "[CV] learning_rate=0.1, max_depth=3 ..................................\n",
      "[CV] ...... learning_rate=0.1, max_depth=3, score=0.844, total= 2.4min\n",
      "[CV] learning_rate=0.1, max_depth=3 ..................................\n",
      "[CV] ...... learning_rate=0.1, max_depth=3, score=0.835, total= 2.4min\n"
     ]
    },
    {
     "name": "stderr",
     "output_type": "stream",
     "text": [
      "[Parallel(n_jobs=1)]: Done  30 out of  30 | elapsed: 47.0min finished\n"
     ]
    },
    {
     "data": {
      "text/plain": [
       "GridSearchCV(estimator=GradientBoostingClassifier(),\n",
       "             param_grid={'learning_rate': [0.05, 0.1], 'max_depth': [1, 2, 3]},\n",
       "             verbose=3)"
      ]
     },
     "execution_count": 23,
     "metadata": {},
     "output_type": "execute_result"
    }
   ],
   "source": [
    "param_grid = {'learning_rate':[0.05,0.1], 'max_depth': [1,2,3]}\n",
    "grid = GridSearchCV(GradientBoostingClassifier(),param_grid,refit=True,verbose=3)\n",
    "grid.fit(train_features,train_labels)\n"
   ]
  },
  {
   "cell_type": "code",
   "execution_count": 129,
   "metadata": {
    "scrolled": false
   },
   "outputs": [
    {
     "name": "stdout",
     "output_type": "stream",
     "text": [
      "{'learning_rate': 0.1, 'max_depth': 2}\n",
      "GradientBoostingClassifier(max_depth=2)\n"
     ]
    }
   ],
   "source": [
    "print(grid.best_params_)\n",
    "print(grid.best_estimator_)\n"
   ]
  },
  {
   "cell_type": "markdown",
   "metadata": {},
   "source": [
    "### 4.2 CV on GBM with n_estimators "
   ]
  },
  {
   "cell_type": "code",
   "execution_count": 29,
   "metadata": {},
   "outputs": [
    {
     "name": "stdout",
     "output_type": "stream",
     "text": [
      "Fitting 5 folds for each of 4 candidates, totalling 20 fits\n",
      "[CV] n_estimators=50 .................................................\n"
     ]
    },
    {
     "name": "stderr",
     "output_type": "stream",
     "text": [
      "[Parallel(n_jobs=1)]: Using backend SequentialBackend with 1 concurrent workers.\n"
     ]
    },
    {
     "name": "stdout",
     "output_type": "stream",
     "text": [
      "[CV] ..................... n_estimators=50, score=0.823, total=  45.4s\n",
      "[CV] n_estimators=50 .................................................\n"
     ]
    },
    {
     "name": "stderr",
     "output_type": "stream",
     "text": [
      "[Parallel(n_jobs=1)]: Done   1 out of   1 | elapsed:   45.3s remaining:    0.0s\n"
     ]
    },
    {
     "name": "stdout",
     "output_type": "stream",
     "text": [
      "[CV] ..................... n_estimators=50, score=0.823, total=  48.9s\n",
      "[CV] n_estimators=50 .................................................\n"
     ]
    },
    {
     "name": "stderr",
     "output_type": "stream",
     "text": [
      "[Parallel(n_jobs=1)]: Done   2 out of   2 | elapsed:  1.6min remaining:    0.0s\n"
     ]
    },
    {
     "name": "stdout",
     "output_type": "stream",
     "text": [
      "[CV] ..................... n_estimators=50, score=0.812, total=  47.0s\n",
      "[CV] n_estimators=50 .................................................\n",
      "[CV] ..................... n_estimators=50, score=0.838, total=  44.4s\n",
      "[CV] n_estimators=50 .................................................\n",
      "[CV] ..................... n_estimators=50, score=0.825, total=  44.2s\n",
      "[CV] n_estimators=100 ................................................\n",
      "[CV] .................... n_estimators=100, score=0.833, total= 1.5min\n",
      "[CV] n_estimators=100 ................................................\n",
      "[CV] .................... n_estimators=100, score=0.833, total= 1.5min\n",
      "[CV] n_estimators=100 ................................................\n",
      "[CV] .................... n_estimators=100, score=0.821, total= 1.5min\n",
      "[CV] n_estimators=100 ................................................\n",
      "[CV] .................... n_estimators=100, score=0.846, total= 1.5min\n",
      "[CV] n_estimators=100 ................................................\n",
      "[CV] .................... n_estimators=100, score=0.833, total= 1.5min\n",
      "[CV] n_estimators=250 ................................................\n",
      "[CV] .................... n_estimators=250, score=0.831, total= 3.8min\n",
      "[CV] n_estimators=250 ................................................\n",
      "[CV] .................... n_estimators=250, score=0.835, total= 3.7min\n",
      "[CV] n_estimators=250 ................................................\n",
      "[CV] .................... n_estimators=250, score=0.819, total= 3.8min\n",
      "[CV] n_estimators=250 ................................................\n",
      "[CV] .................... n_estimators=250, score=0.844, total= 3.8min\n",
      "[CV] n_estimators=250 ................................................\n",
      "[CV] .................... n_estimators=250, score=0.842, total= 3.7min\n",
      "[CV] n_estimators=500 ................................................\n",
      "[CV] .................... n_estimators=500, score=0.846, total= 7.5min\n",
      "[CV] n_estimators=500 ................................................\n",
      "[CV] .................... n_estimators=500, score=0.827, total= 7.5min\n",
      "[CV] n_estimators=500 ................................................\n",
      "[CV] .................... n_estimators=500, score=0.815, total= 7.6min\n",
      "[CV] n_estimators=500 ................................................\n",
      "[CV] .................... n_estimators=500, score=0.840, total= 7.5min\n",
      "[CV] n_estimators=500 ................................................\n",
      "[CV] .................... n_estimators=500, score=0.846, total= 7.5min\n"
     ]
    },
    {
     "name": "stderr",
     "output_type": "stream",
     "text": [
      "[Parallel(n_jobs=1)]: Done  20 out of  20 | elapsed: 67.7min finished\n"
     ]
    },
    {
     "data": {
      "text/plain": [
       "GridSearchCV(estimator=GradientBoostingClassifier(max_depth=2),\n",
       "             param_grid={'n_estimators': [50, 100, 250, 500]}, verbose=3)"
      ]
     },
     "execution_count": 29,
     "metadata": {},
     "output_type": "execute_result"
    }
   ],
   "source": [
    "param_grid2 = {'n_estimators':[50,100,250,500]} \n",
    "grid2 = GridSearchCV(GradientBoostingClassifier(learning_rate = 0.1, max_depth = 2),param_grid= param_grid2,refit=True,verbose=3)\n",
    "grid2.fit(train_features,train_labels)"
   ]
  },
  {
   "cell_type": "code",
   "execution_count": 31,
   "metadata": {},
   "outputs": [
    {
     "name": "stdout",
     "output_type": "stream",
     "text": [
      "{'n_estimators': 500}\n",
      "GradientBoostingClassifier(max_depth=2, n_estimators=500)\n",
      "[[439  22]\n",
      " [ 88  51]]\n",
      "              precision    recall  f1-score   support\n",
      "\n",
      "           0       0.83      0.95      0.89       461\n",
      "           1       0.70      0.37      0.48       139\n",
      "\n",
      "    accuracy                           0.82       600\n",
      "   macro avg       0.77      0.66      0.68       600\n",
      "weighted avg       0.80      0.82      0.79       600\n",
      "\n"
     ]
    }
   ],
   "source": [
    "print(grid2.best_params_)\n",
    "print(grid2.best_estimator_)\n",
    "grid2_predictions = grid2.predict(test_features)\n",
    "print(confusion_matrix(test_labels,grid2_predictions))\n",
    "print(classification_report(test_labels,grid2_predictions))"
   ]
  },
  {
   "cell_type": "markdown",
   "metadata": {},
   "source": [
    "## 5. Final Parameter for baseline GBM set at: learning_rate=0.1, n_estimators=500, max_depth=2"
   ]
  },
  {
   "cell_type": "code",
   "execution_count": 36,
   "metadata": {},
   "outputs": [
    {
     "name": "stdout",
     "output_type": "stream",
     "text": [
      "Training  model takes 900.249 seconds\n"
     ]
    }
   ],
   "source": [
    "#Training baseline: GBM using best parameters found above through CV\n",
    "\n",
    "gbm_best = GradientBoostingClassifier(learning_rate=0.1,max_depth=2,n_estimators=500) \n",
    "start_time=time.time()\n",
    "gbm_best.fit(train_features, train_labels)\n",
    "print(\"Training  model takes %s seconds\" % round((time.time() - start_time),3))\n"
   ]
  },
  {
   "cell_type": "code",
   "execution_count": 63,
   "metadata": {
    "scrolled": false
   },
   "outputs": [
    {
     "name": "stdout",
     "output_type": "stream",
     "text": [
      "Accuracy of the GBM on test set: 0.820\n",
      "Predicting test data takes 0.024 seconds\n",
      "Classification error rate: 0.18\n",
      "Classification report \n",
      "               precision    recall  f1-score   support\n",
      "\n",
      "           0       0.83      0.96      0.89       461\n",
      "           1       0.72      0.37      0.49       139\n",
      "\n",
      "    accuracy                           0.82       600\n",
      "   macro avg       0.78      0.66      0.69       600\n",
      "weighted avg       0.81      0.82      0.80       600\n",
      "\n",
      "Confusion Matrix \n",
      " [[441  20]\n",
      " [ 88  51]]\n",
      "AUC is: 0.8100\n"
     ]
    }
   ],
   "source": [
    "print('Accuracy of the GBM on test set: {:.3f}'.format(gbm_best.score(test_features,test_labels)))\n",
    "\n",
    "start = time.time()\n",
    "baseline_pred = gbm_best.predict(test_features)\n",
    "end = time.time()\n",
    "\n",
    "baseline_predprob = gbm_best.predict_proba(test_features)[:,1]\n",
    "\n",
    "print(\"Predicting test data takes %s seconds\" % round((end - start),3))\n",
    "print('Classification error rate:', np.mean(np.array(test_labels)!= baseline_pred))\n",
    "print('Classification report \\n', classification_report(test_labels, baseline_pred))\n",
    "\n",
    "#Since the class distribution is imbalanced/ skewed, we should look at the confusion matrix and AUC\n",
    "print('Confusion Matrix \\n', confusion_matrix(test_labels, baseline_pred))\n",
    "print('AUC is: {:.4f}'.format(roc_auc_score(test_labels, baseline_predprob)))"
   ]
  },
  {
   "cell_type": "markdown",
   "metadata": {},
   "source": [
    "### Cross validation improved accuracy from 0.797 to 0.82, and AUC from 0.797 to 0.81"
   ]
  },
  {
   "cell_type": "code",
   "execution_count": 38,
   "metadata": {},
   "outputs": [],
   "source": [
    "#Save best gbm model\n",
    "pickle.dump(gbm_best, open('../data/output/baseline_gbm.p','wb'))\n",
    "\n",
    "#Load gbm model\n",
    "#pickle.load(open('../data/output/baseline_gbm.p,'rb'))"
   ]
  },
  {
   "cell_type": "markdown",
   "metadata": {},
   "source": [
    "# Part II: Other Models "
   ]
  },
  {
   "cell_type": "markdown",
   "metadata": {},
   "source": [
    "## 1. Standard SVM model using the BALANCED DATA SET"
   ]
  },
  {
   "cell_type": "markdown",
   "metadata": {},
   "source": [
    "### 1.1 Cross Validation on standard SVM "
   ]
  },
  {
   "cell_type": "code",
   "execution_count": 92,
   "metadata": {
    "scrolled": false
   },
   "outputs": [
    {
     "name": "stdout",
     "output_type": "stream",
     "text": [
      "Fitting 5 folds for each of 25 candidates, totalling 125 fits\n",
      "[CV] C=0.1, gamma=1, kernel=rbf ......................................\n"
     ]
    },
    {
     "name": "stderr",
     "output_type": "stream",
     "text": [
      "[Parallel(n_jobs=1)]: Using backend SequentialBackend with 1 concurrent workers.\n"
     ]
    },
    {
     "name": "stdout",
     "output_type": "stream",
     "text": [
      "[CV] .......... C=0.1, gamma=1, kernel=rbf, score=0.865, total=  25.0s\n",
      "[CV] C=0.1, gamma=1, kernel=rbf ......................................\n"
     ]
    },
    {
     "name": "stderr",
     "output_type": "stream",
     "text": [
      "[Parallel(n_jobs=1)]: Done   1 out of   1 | elapsed:   24.9s remaining:    0.0s\n"
     ]
    },
    {
     "name": "stdout",
     "output_type": "stream",
     "text": [
      "[CV] .......... C=0.1, gamma=1, kernel=rbf, score=0.889, total=  40.3s\n",
      "[CV] C=0.1, gamma=1, kernel=rbf ......................................\n"
     ]
    },
    {
     "name": "stderr",
     "output_type": "stream",
     "text": [
      "[Parallel(n_jobs=1)]: Done   2 out of   2 | elapsed:  1.1min remaining:    0.0s\n"
     ]
    },
    {
     "name": "stdout",
     "output_type": "stream",
     "text": [
      "[CV] .......... C=0.1, gamma=1, kernel=rbf, score=0.880, total=  44.2s\n",
      "[CV] C=0.1, gamma=1, kernel=rbf ......................................\n",
      "[CV] .......... C=0.1, gamma=1, kernel=rbf, score=0.879, total=  37.1s\n",
      "[CV] C=0.1, gamma=1, kernel=rbf ......................................\n",
      "[CV] .......... C=0.1, gamma=1, kernel=rbf, score=0.868, total=  27.3s\n",
      "[CV] C=0.1, gamma=0.1, kernel=rbf ....................................\n",
      "[CV] ........ C=0.1, gamma=0.1, kernel=rbf, score=0.865, total=  45.1s\n",
      "[CV] C=0.1, gamma=0.1, kernel=rbf ....................................\n",
      "[CV] ........ C=0.1, gamma=0.1, kernel=rbf, score=0.889, total=  51.4s\n",
      "[CV] C=0.1, gamma=0.1, kernel=rbf ....................................\n",
      "[CV] ........ C=0.1, gamma=0.1, kernel=rbf, score=0.880, total=  37.2s\n",
      "[CV] C=0.1, gamma=0.1, kernel=rbf ....................................\n",
      "[CV] ........ C=0.1, gamma=0.1, kernel=rbf, score=0.879, total=  36.3s\n",
      "[CV] C=0.1, gamma=0.1, kernel=rbf ....................................\n",
      "[CV] ........ C=0.1, gamma=0.1, kernel=rbf, score=0.868, total=  31.0s\n",
      "[CV] C=0.1, gamma=0.01, kernel=rbf ...................................\n",
      "[CV] ....... C=0.1, gamma=0.01, kernel=rbf, score=0.865, total=  41.9s\n",
      "[CV] C=0.1, gamma=0.01, kernel=rbf ...................................\n",
      "[CV] ....... C=0.1, gamma=0.01, kernel=rbf, score=0.889, total= 1.1min\n",
      "[CV] C=0.1, gamma=0.01, kernel=rbf ...................................\n",
      "[CV] ....... C=0.1, gamma=0.01, kernel=rbf, score=0.880, total=  23.0s\n",
      "[CV] C=0.1, gamma=0.01, kernel=rbf ...................................\n",
      "[CV] ....... C=0.1, gamma=0.01, kernel=rbf, score=0.879, total=  36.2s\n",
      "[CV] C=0.1, gamma=0.01, kernel=rbf ...................................\n",
      "[CV] ....... C=0.1, gamma=0.01, kernel=rbf, score=0.868, total=  34.5s\n",
      "[CV] C=0.1, gamma=0.001, kernel=rbf ..................................\n",
      "[CV] ...... C=0.1, gamma=0.001, kernel=rbf, score=0.865, total=  48.1s\n",
      "[CV] C=0.1, gamma=0.001, kernel=rbf ..................................\n",
      "[CV] ...... C=0.1, gamma=0.001, kernel=rbf, score=0.889, total=  34.9s\n",
      "[CV] C=0.1, gamma=0.001, kernel=rbf ..................................\n",
      "[CV] ...... C=0.1, gamma=0.001, kernel=rbf, score=0.880, total=  26.0s\n",
      "[CV] C=0.1, gamma=0.001, kernel=rbf ..................................\n",
      "[CV] ...... C=0.1, gamma=0.001, kernel=rbf, score=0.879, total=  26.2s\n",
      "[CV] C=0.1, gamma=0.001, kernel=rbf ..................................\n",
      "[CV] ...... C=0.1, gamma=0.001, kernel=rbf, score=0.868, total=  26.0s\n",
      "[CV] C=0.1, gamma=0.0001, kernel=rbf .................................\n",
      "[CV] ..... C=0.1, gamma=0.0001, kernel=rbf, score=0.865, total=  27.1s\n",
      "[CV] C=0.1, gamma=0.0001, kernel=rbf .................................\n",
      "[CV] ..... C=0.1, gamma=0.0001, kernel=rbf, score=0.889, total=  28.1s\n",
      "[CV] C=0.1, gamma=0.0001, kernel=rbf .................................\n",
      "[CV] ..... C=0.1, gamma=0.0001, kernel=rbf, score=0.880, total=  27.6s\n",
      "[CV] C=0.1, gamma=0.0001, kernel=rbf .................................\n",
      "[CV] ..... C=0.1, gamma=0.0001, kernel=rbf, score=0.879, total=  25.8s\n",
      "[CV] C=0.1, gamma=0.0001, kernel=rbf .................................\n",
      "[CV] ..... C=0.1, gamma=0.0001, kernel=rbf, score=0.868, total=  27.9s\n",
      "[CV] C=1, gamma=1, kernel=rbf ........................................\n",
      "[CV] ............ C=1, gamma=1, kernel=rbf, score=0.865, total=  26.0s\n",
      "[CV] C=1, gamma=1, kernel=rbf ........................................\n",
      "[CV] ............ C=1, gamma=1, kernel=rbf, score=0.889, total=  24.7s\n",
      "[CV] C=1, gamma=1, kernel=rbf ........................................\n",
      "[CV] ............ C=1, gamma=1, kernel=rbf, score=0.880, total=  26.1s\n",
      "[CV] C=1, gamma=1, kernel=rbf ........................................\n",
      "[CV] ............ C=1, gamma=1, kernel=rbf, score=0.879, total=  24.8s\n",
      "[CV] C=1, gamma=1, kernel=rbf ........................................\n",
      "[CV] ............ C=1, gamma=1, kernel=rbf, score=0.868, total=  24.6s\n",
      "[CV] C=1, gamma=0.1, kernel=rbf ......................................\n",
      "[CV] .......... C=1, gamma=0.1, kernel=rbf, score=0.865, total=  25.5s\n",
      "[CV] C=1, gamma=0.1, kernel=rbf ......................................\n",
      "[CV] .......... C=1, gamma=0.1, kernel=rbf, score=0.889, total=  24.6s\n",
      "[CV] C=1, gamma=0.1, kernel=rbf ......................................\n",
      "[CV] .......... C=1, gamma=0.1, kernel=rbf, score=0.880, total=  24.4s\n",
      "[CV] C=1, gamma=0.1, kernel=rbf ......................................\n",
      "[CV] .......... C=1, gamma=0.1, kernel=rbf, score=0.879, total=  28.8s\n",
      "[CV] C=1, gamma=0.1, kernel=rbf ......................................\n",
      "[CV] .......... C=1, gamma=0.1, kernel=rbf, score=0.868, total=  25.0s\n",
      "[CV] C=1, gamma=0.01, kernel=rbf .....................................\n",
      "[CV] ......... C=1, gamma=0.01, kernel=rbf, score=0.865, total=  29.4s\n",
      "[CV] C=1, gamma=0.01, kernel=rbf .....................................\n",
      "[CV] ......... C=1, gamma=0.01, kernel=rbf, score=0.889, total=  23.1s\n",
      "[CV] C=1, gamma=0.01, kernel=rbf .....................................\n",
      "[CV] ......... C=1, gamma=0.01, kernel=rbf, score=0.880, total=  22.9s\n",
      "[CV] C=1, gamma=0.01, kernel=rbf .....................................\n",
      "[CV] ......... C=1, gamma=0.01, kernel=rbf, score=0.879, total=  27.8s\n",
      "[CV] C=1, gamma=0.01, kernel=rbf .....................................\n",
      "[CV] ......... C=1, gamma=0.01, kernel=rbf, score=0.868, total=  26.3s\n",
      "[CV] C=1, gamma=0.001, kernel=rbf ....................................\n",
      "[CV] ........ C=1, gamma=0.001, kernel=rbf, score=0.865, total=  23.1s\n",
      "[CV] C=1, gamma=0.001, kernel=rbf ....................................\n",
      "[CV] ........ C=1, gamma=0.001, kernel=rbf, score=0.889, total=  22.9s\n",
      "[CV] C=1, gamma=0.001, kernel=rbf ....................................\n",
      "[CV] ........ C=1, gamma=0.001, kernel=rbf, score=0.880, total=  22.8s\n",
      "[CV] C=1, gamma=0.001, kernel=rbf ....................................\n",
      "[CV] ........ C=1, gamma=0.001, kernel=rbf, score=0.879, total=  22.9s\n",
      "[CV] C=1, gamma=0.001, kernel=rbf ....................................\n",
      "[CV] ........ C=1, gamma=0.001, kernel=rbf, score=0.868, total=  23.0s\n",
      "[CV] C=1, gamma=0.0001, kernel=rbf ...................................\n",
      "[CV] ....... C=1, gamma=0.0001, kernel=rbf, score=0.865, total=  22.7s\n",
      "[CV] C=1, gamma=0.0001, kernel=rbf ...................................\n",
      "[CV] ....... C=1, gamma=0.0001, kernel=rbf, score=0.889, total=  22.6s\n",
      "[CV] C=1, gamma=0.0001, kernel=rbf ...................................\n",
      "[CV] ....... C=1, gamma=0.0001, kernel=rbf, score=0.880, total=  22.7s\n",
      "[CV] C=1, gamma=0.0001, kernel=rbf ...................................\n",
      "[CV] ....... C=1, gamma=0.0001, kernel=rbf, score=0.879, total=  22.5s\n",
      "[CV] C=1, gamma=0.0001, kernel=rbf ...................................\n",
      "[CV] ....... C=1, gamma=0.0001, kernel=rbf, score=0.868, total=  22.8s\n",
      "[CV] C=10, gamma=1, kernel=rbf .......................................\n",
      "[CV] ........... C=10, gamma=1, kernel=rbf, score=0.865, total=  22.5s\n",
      "[CV] C=10, gamma=1, kernel=rbf .......................................\n",
      "[CV] ........... C=10, gamma=1, kernel=rbf, score=0.889, total=  23.1s\n",
      "[CV] C=10, gamma=1, kernel=rbf .......................................\n",
      "[CV] ........... C=10, gamma=1, kernel=rbf, score=0.880, total=  24.0s\n",
      "[CV] C=10, gamma=1, kernel=rbf .......................................\n",
      "[CV] ........... C=10, gamma=1, kernel=rbf, score=0.879, total=  23.1s\n",
      "[CV] C=10, gamma=1, kernel=rbf .......................................\n",
      "[CV] ........... C=10, gamma=1, kernel=rbf, score=0.868, total=  22.8s\n",
      "[CV] C=10, gamma=0.1, kernel=rbf .....................................\n",
      "[CV] ......... C=10, gamma=0.1, kernel=rbf, score=0.865, total=  22.7s\n",
      "[CV] C=10, gamma=0.1, kernel=rbf .....................................\n",
      "[CV] ......... C=10, gamma=0.1, kernel=rbf, score=0.889, total=  23.2s\n",
      "[CV] C=10, gamma=0.1, kernel=rbf .....................................\n",
      "[CV] ......... C=10, gamma=0.1, kernel=rbf, score=0.880, total=  22.8s\n",
      "[CV] C=10, gamma=0.1, kernel=rbf .....................................\n",
      "[CV] ......... C=10, gamma=0.1, kernel=rbf, score=0.879, total= 2.0min\n",
      "[CV] C=10, gamma=0.1, kernel=rbf .....................................\n",
      "[CV] ......... C=10, gamma=0.1, kernel=rbf, score=0.868, total=  26.9s\n",
      "[CV] C=10, gamma=0.01, kernel=rbf ....................................\n"
     ]
    },
    {
     "name": "stdout",
     "output_type": "stream",
     "text": [
      "[CV] ........ C=10, gamma=0.01, kernel=rbf, score=0.865, total=  27.2s\n",
      "[CV] C=10, gamma=0.01, kernel=rbf ....................................\n",
      "[CV] ........ C=10, gamma=0.01, kernel=rbf, score=0.889, total=  25.9s\n",
      "[CV] C=10, gamma=0.01, kernel=rbf ....................................\n",
      "[CV] ........ C=10, gamma=0.01, kernel=rbf, score=0.880, total=  25.5s\n",
      "[CV] C=10, gamma=0.01, kernel=rbf ....................................\n",
      "[CV] ........ C=10, gamma=0.01, kernel=rbf, score=0.879, total=  26.8s\n",
      "[CV] C=10, gamma=0.01, kernel=rbf ....................................\n",
      "[CV] ........ C=10, gamma=0.01, kernel=rbf, score=0.868, total=  25.4s\n",
      "[CV] C=10, gamma=0.001, kernel=rbf ...................................\n",
      "[CV] ....... C=10, gamma=0.001, kernel=rbf, score=0.865, total=  25.2s\n",
      "[CV] C=10, gamma=0.001, kernel=rbf ...................................\n",
      "[CV] ....... C=10, gamma=0.001, kernel=rbf, score=0.889, total=  26.3s\n",
      "[CV] C=10, gamma=0.001, kernel=rbf ...................................\n",
      "[CV] ....... C=10, gamma=0.001, kernel=rbf, score=0.880, total=  25.9s\n",
      "[CV] C=10, gamma=0.001, kernel=rbf ...................................\n",
      "[CV] ....... C=10, gamma=0.001, kernel=rbf, score=0.879, total=  26.2s\n",
      "[CV] C=10, gamma=0.001, kernel=rbf ...................................\n",
      "[CV] ....... C=10, gamma=0.001, kernel=rbf, score=0.868, total=  23.2s\n",
      "[CV] C=10, gamma=0.0001, kernel=rbf ..................................\n",
      "[CV] ...... C=10, gamma=0.0001, kernel=rbf, score=0.865, total=  22.9s\n",
      "[CV] C=10, gamma=0.0001, kernel=rbf ..................................\n",
      "[CV] ...... C=10, gamma=0.0001, kernel=rbf, score=0.889, total=  23.1s\n",
      "[CV] C=10, gamma=0.0001, kernel=rbf ..................................\n",
      "[CV] ...... C=10, gamma=0.0001, kernel=rbf, score=0.880, total=  22.8s\n",
      "[CV] C=10, gamma=0.0001, kernel=rbf ..................................\n",
      "[CV] ...... C=10, gamma=0.0001, kernel=rbf, score=0.879, total=  23.0s\n",
      "[CV] C=10, gamma=0.0001, kernel=rbf ..................................\n",
      "[CV] ...... C=10, gamma=0.0001, kernel=rbf, score=0.868, total=  22.5s\n",
      "[CV] C=100, gamma=1, kernel=rbf ......................................\n",
      "[CV] .......... C=100, gamma=1, kernel=rbf, score=0.865, total=  23.1s\n",
      "[CV] C=100, gamma=1, kernel=rbf ......................................\n",
      "[CV] .......... C=100, gamma=1, kernel=rbf, score=0.889, total=  22.9s\n",
      "[CV] C=100, gamma=1, kernel=rbf ......................................\n",
      "[CV] .......... C=100, gamma=1, kernel=rbf, score=0.880, total=  23.2s\n",
      "[CV] C=100, gamma=1, kernel=rbf ......................................\n",
      "[CV] .......... C=100, gamma=1, kernel=rbf, score=0.879, total=  23.6s\n",
      "[CV] C=100, gamma=1, kernel=rbf ......................................\n",
      "[CV] .......... C=100, gamma=1, kernel=rbf, score=0.868, total=  23.7s\n",
      "[CV] C=100, gamma=0.1, kernel=rbf ....................................\n",
      "[CV] ........ C=100, gamma=0.1, kernel=rbf, score=0.865, total=  23.4s\n",
      "[CV] C=100, gamma=0.1, kernel=rbf ....................................\n",
      "[CV] ........ C=100, gamma=0.1, kernel=rbf, score=0.889, total=  24.0s\n",
      "[CV] C=100, gamma=0.1, kernel=rbf ....................................\n",
      "[CV] ........ C=100, gamma=0.1, kernel=rbf, score=0.880, total=  23.2s\n",
      "[CV] C=100, gamma=0.1, kernel=rbf ....................................\n",
      "[CV] ........ C=100, gamma=0.1, kernel=rbf, score=0.879, total=  23.0s\n",
      "[CV] C=100, gamma=0.1, kernel=rbf ....................................\n",
      "[CV] ........ C=100, gamma=0.1, kernel=rbf, score=0.868, total=  22.7s\n",
      "[CV] C=100, gamma=0.01, kernel=rbf ...................................\n",
      "[CV] ....... C=100, gamma=0.01, kernel=rbf, score=0.865, total=  23.3s\n",
      "[CV] C=100, gamma=0.01, kernel=rbf ...................................\n",
      "[CV] ....... C=100, gamma=0.01, kernel=rbf, score=0.889, total=  23.1s\n",
      "[CV] C=100, gamma=0.01, kernel=rbf ...................................\n",
      "[CV] ....... C=100, gamma=0.01, kernel=rbf, score=0.880, total=  23.9s\n",
      "[CV] C=100, gamma=0.01, kernel=rbf ...................................\n",
      "[CV] ....... C=100, gamma=0.01, kernel=rbf, score=0.879, total=  23.6s\n",
      "[CV] C=100, gamma=0.01, kernel=rbf ...................................\n",
      "[CV] ....... C=100, gamma=0.01, kernel=rbf, score=0.868, total=  23.2s\n",
      "[CV] C=100, gamma=0.001, kernel=rbf ..................................\n",
      "[CV] ...... C=100, gamma=0.001, kernel=rbf, score=0.865, total=  23.5s\n",
      "[CV] C=100, gamma=0.001, kernel=rbf ..................................\n",
      "[CV] ...... C=100, gamma=0.001, kernel=rbf, score=0.889, total=  26.5s\n",
      "[CV] C=100, gamma=0.001, kernel=rbf ..................................\n",
      "[CV] ...... C=100, gamma=0.001, kernel=rbf, score=0.880, total=  24.2s\n",
      "[CV] C=100, gamma=0.001, kernel=rbf ..................................\n",
      "[CV] ...... C=100, gamma=0.001, kernel=rbf, score=0.879, total=  23.8s\n",
      "[CV] C=100, gamma=0.001, kernel=rbf ..................................\n",
      "[CV] ...... C=100, gamma=0.001, kernel=rbf, score=0.868, total=  23.3s\n",
      "[CV] C=100, gamma=0.0001, kernel=rbf .................................\n",
      "[CV] ..... C=100, gamma=0.0001, kernel=rbf, score=0.865, total=  22.7s\n",
      "[CV] C=100, gamma=0.0001, kernel=rbf .................................\n",
      "[CV] ..... C=100, gamma=0.0001, kernel=rbf, score=0.889, total=  23.5s\n",
      "[CV] C=100, gamma=0.0001, kernel=rbf .................................\n",
      "[CV] ..... C=100, gamma=0.0001, kernel=rbf, score=0.880, total=  23.2s\n",
      "[CV] C=100, gamma=0.0001, kernel=rbf .................................\n",
      "[CV] ..... C=100, gamma=0.0001, kernel=rbf, score=0.879, total=  23.6s\n",
      "[CV] C=100, gamma=0.0001, kernel=rbf .................................\n",
      "[CV] ..... C=100, gamma=0.0001, kernel=rbf, score=0.868, total=  24.6s\n",
      "[CV] C=1000, gamma=1, kernel=rbf .....................................\n",
      "[CV] ......... C=1000, gamma=1, kernel=rbf, score=0.865, total=  24.2s\n",
      "[CV] C=1000, gamma=1, kernel=rbf .....................................\n",
      "[CV] ......... C=1000, gamma=1, kernel=rbf, score=0.889, total=  25.0s\n",
      "[CV] C=1000, gamma=1, kernel=rbf .....................................\n",
      "[CV] ......... C=1000, gamma=1, kernel=rbf, score=0.880, total=  25.3s\n",
      "[CV] C=1000, gamma=1, kernel=rbf .....................................\n",
      "[CV] ......... C=1000, gamma=1, kernel=rbf, score=0.879, total=  25.8s\n",
      "[CV] C=1000, gamma=1, kernel=rbf .....................................\n",
      "[CV] ......... C=1000, gamma=1, kernel=rbf, score=0.868, total=  25.8s\n",
      "[CV] C=1000, gamma=0.1, kernel=rbf ...................................\n",
      "[CV] ....... C=1000, gamma=0.1, kernel=rbf, score=0.865, total=  24.8s\n",
      "[CV] C=1000, gamma=0.1, kernel=rbf ...................................\n",
      "[CV] ....... C=1000, gamma=0.1, kernel=rbf, score=0.889, total=  24.9s\n",
      "[CV] C=1000, gamma=0.1, kernel=rbf ...................................\n",
      "[CV] ....... C=1000, gamma=0.1, kernel=rbf, score=0.880, total=  23.6s\n",
      "[CV] C=1000, gamma=0.1, kernel=rbf ...................................\n",
      "[CV] ....... C=1000, gamma=0.1, kernel=rbf, score=0.879, total=  24.9s\n",
      "[CV] C=1000, gamma=0.1, kernel=rbf ...................................\n",
      "[CV] ....... C=1000, gamma=0.1, kernel=rbf, score=0.868, total=  24.5s\n",
      "[CV] C=1000, gamma=0.01, kernel=rbf ..................................\n",
      "[CV] ...... C=1000, gamma=0.01, kernel=rbf, score=0.865, total=  24.5s\n",
      "[CV] C=1000, gamma=0.01, kernel=rbf ..................................\n",
      "[CV] ...... C=1000, gamma=0.01, kernel=rbf, score=0.889, total=  25.0s\n",
      "[CV] C=1000, gamma=0.01, kernel=rbf ..................................\n",
      "[CV] ...... C=1000, gamma=0.01, kernel=rbf, score=0.880, total=  25.1s\n",
      "[CV] C=1000, gamma=0.01, kernel=rbf ..................................\n",
      "[CV] ...... C=1000, gamma=0.01, kernel=rbf, score=0.879, total=  25.6s\n",
      "[CV] C=1000, gamma=0.01, kernel=rbf ..................................\n",
      "[CV] ...... C=1000, gamma=0.01, kernel=rbf, score=0.868, total=  25.7s\n",
      "[CV] C=1000, gamma=0.001, kernel=rbf .................................\n",
      "[CV] ..... C=1000, gamma=0.001, kernel=rbf, score=0.865, total=  25.9s\n",
      "[CV] C=1000, gamma=0.001, kernel=rbf .................................\n",
      "[CV] ..... C=1000, gamma=0.001, kernel=rbf, score=0.889, total=  25.2s\n",
      "[CV] C=1000, gamma=0.001, kernel=rbf .................................\n",
      "[CV] ..... C=1000, gamma=0.001, kernel=rbf, score=0.880, total=  25.7s\n",
      "[CV] C=1000, gamma=0.001, kernel=rbf .................................\n"
     ]
    },
    {
     "name": "stdout",
     "output_type": "stream",
     "text": [
      "[CV] ..... C=1000, gamma=0.001, kernel=rbf, score=0.879, total=  29.7s\n",
      "[CV] C=1000, gamma=0.001, kernel=rbf .................................\n",
      "[CV] ..... C=1000, gamma=0.001, kernel=rbf, score=0.868, total=  32.3s\n",
      "[CV] C=1000, gamma=0.0001, kernel=rbf ................................\n",
      "[CV] .... C=1000, gamma=0.0001, kernel=rbf, score=0.865, total=  27.6s\n",
      "[CV] C=1000, gamma=0.0001, kernel=rbf ................................\n",
      "[CV] .... C=1000, gamma=0.0001, kernel=rbf, score=0.889, total=  26.5s\n",
      "[CV] C=1000, gamma=0.0001, kernel=rbf ................................\n",
      "[CV] .... C=1000, gamma=0.0001, kernel=rbf, score=0.880, total=  26.1s\n",
      "[CV] C=1000, gamma=0.0001, kernel=rbf ................................\n",
      "[CV] .... C=1000, gamma=0.0001, kernel=rbf, score=0.879, total=  25.2s\n",
      "[CV] C=1000, gamma=0.0001, kernel=rbf ................................\n",
      "[CV] .... C=1000, gamma=0.0001, kernel=rbf, score=0.868, total=  24.2s\n"
     ]
    },
    {
     "name": "stderr",
     "output_type": "stream",
     "text": [
      "[Parallel(n_jobs=1)]: Done 125 out of 125 | elapsed: 57.0min finished\n"
     ]
    },
    {
     "data": {
      "text/plain": [
       "GridSearchCV(estimator=SVC(),\n",
       "             param_grid={'C': [0.1, 1, 10, 100, 1000],\n",
       "                         'gamma': [1, 0.1, 0.01, 0.001, 0.0001],\n",
       "                         'kernel': ['rbf']},\n",
       "             verbose=3)"
      ]
     },
     "execution_count": 92,
     "metadata": {},
     "output_type": "execute_result"
    }
   ],
   "source": [
    "param_grid = {'C': [0.1,1, 10, 100, 1000], 'gamma': [1,0.1,0.01,0.001,0.0001], 'kernel': ['rbf']} \n",
    "grid_svm = GridSearchCV(SVC(),param_grid,refit=True,verbose=3)\n",
    "grid_svm.fit(X_train,y_train)"
   ]
  },
  {
   "cell_type": "code",
   "execution_count": 97,
   "metadata": {},
   "outputs": [
    {
     "name": "stdout",
     "output_type": "stream",
     "text": [
      "{'C': 0.1, 'gamma': 1, 'kernel': 'rbf'}\n",
      "SVC(C=0.1, gamma=1)\n"
     ]
    }
   ],
   "source": [
    "print(grid_svm.best_params_)\n",
    "print(grid_svm.best_estimator_)\n"
   ]
  },
  {
   "cell_type": "markdown",
   "metadata": {},
   "source": [
    "### 1.2 Training Standard SVM using best parameters found through CV on BALANCED DATA SET"
   ]
  },
  {
   "cell_type": "code",
   "execution_count": 101,
   "metadata": {},
   "outputs": [
    {
     "name": "stdout",
     "output_type": "stream",
     "text": [
      "Training  model takes 170.346 seconds\n",
      "Accuracy of SVM on test set: 0.872\n",
      "Predicting test data takes 8.872 seconds\n",
      "Classification error rate: 0.1279916753381894\n",
      "Classification report \n",
      "               precision    recall  f1-score   support\n",
      "\n",
      "           0       0.80      1.00      0.89       477\n",
      "           1       1.00      0.75      0.85       484\n",
      "\n",
      "    accuracy                           0.87       961\n",
      "   macro avg       0.90      0.87      0.87       961\n",
      "weighted avg       0.90      0.87      0.87       961\n",
      "\n",
      "Confusion Matrix \n",
      " [[477   0]\n",
      " [123 361]]\n",
      "AUC is: 0.8729\n"
     ]
    }
   ],
   "source": [
    "svm_best = SVC(C=0.1,gamma=1,kernel='rbf',probability=True) \n",
    "start_time=time.time()\n",
    "svm_best.fit(X_train, y_train)\n",
    "\n",
    "print(\"Training  model takes %s seconds\" % round((time.time() - start_time),3))\n",
    "print('Accuracy of SVM on test set: {:.3f}'.format(svm_best.score(X_test,y_test)))\n",
    "\n",
    "start = time.time()\n",
    "svm_pred = svm_best.predict(X_test)\n",
    "end = time.time()\n",
    "\n",
    "svm_predprob = svm_best.predict_proba(X_test)[:,1]\n",
    "\n",
    "print(\"Predicting test data takes %s seconds\" % round((end - start),3))\n",
    "print('Classification error rate:', np.mean(np.array(y_test)!= svm_pred))\n",
    "print('Classification report \\n', classification_report(y_test, svm_pred))\n",
    "\n",
    "print('Confusion Matrix \\n', confusion_matrix(y_test, svm_pred))\n",
    "print('AUC is: {:.4f}'.format(roc_auc_score(y_test, svm_predprob)))"
   ]
  },
  {
   "cell_type": "code",
   "execution_count": 136,
   "metadata": {},
   "outputs": [],
   "source": [
    "#Save trained SVM model\n",
    "pickle.dump(svm_best, open('../data/output/best_svm.p','wb'))\n",
    "\n",
    "#Load trained SVM model\n",
    "#pickle.load(open('../data/output/best_svm.p','rb'))"
   ]
  },
  {
   "cell_type": "markdown",
   "metadata": {},
   "source": [
    "## 2. Weighted SVM on ORIGINAL UNBALANCED DATA SET"
   ]
  },
  {
   "cell_type": "code",
   "execution_count": 135,
   "metadata": {},
   "outputs": [],
   "source": [
    "#Reference: https://machinelearningmastery.com/cost-sensitive-svm-for-imbalanced-classification\n",
    "\n",
    "weighted_svm = SVC(gamma = 'scale', class_weight = 'balanced')\n",
    "\n",
    "#CV Weighted SVM \n",
    "# cv = RepeatedStratifiedKFold(n_splits=10, n_repeats=3, random_state=1)\n",
    "# # evaluate model\n",
    "# scores = cross_val_score(weighted_svm, train_features, train_labels, scoring='roc_auc', cv=cv, n_jobs=-1)\n",
    "# # summarize performance\n",
    "# print('Mean ROC AUC: %.3f' % np.mean(scores))"
   ]
  },
  {
   "cell_type": "markdown",
   "metadata": {},
   "source": [
    "### 2.1 Cross Validation on Weighted SVM with different class_weights"
   ]
  },
  {
   "cell_type": "code",
   "execution_count": 56,
   "metadata": {},
   "outputs": [
    {
     "data": {
      "text/plain": [
       "SVC(class_weight={0: 598.0, 1: 2402.0})"
      ]
     },
     "execution_count": 56,
     "metadata": {},
     "output_type": "execute_result"
    }
   ],
   "source": [
    "#Grid Search on Weighted SVM\n",
    "# define grid\n",
    "balance = [{0:598.0, 1:2402.0},{0:1,1:100}, {0:1,1:10}, {0:1,1:1}, {0:10,1:1}, {0:100,1:1}]\n",
    "param_grid = dict(class_weight=balance)\n",
    "\n",
    "grid_weightedsvm = GridSearchCV(estimator=weighted_svm , param_grid=param_grid, n_jobs=-1, cv=cv, scoring='roc_auc')\n",
    "grid_weightedsvm.fit(train_features,train_labels)\n",
    "grid_weightedsvm.best_params_\n",
    "grid_weightedsvm.best_estimator_"
   ]
  },
  {
   "cell_type": "code",
   "execution_count": 71,
   "metadata": {},
   "outputs": [
    {
     "data": {
      "text/plain": [
       "SVC(class_weight={0: 598.0, 1: 2402.0})"
      ]
     },
     "execution_count": 71,
     "metadata": {},
     "output_type": "execute_result"
    }
   ],
   "source": [
    "grid_weightedsvm.best_params_\n",
    "grid_weightedsvm.best_estimator_"
   ]
  },
  {
   "cell_type": "code",
   "execution_count": 72,
   "metadata": {},
   "outputs": [
    {
     "name": "stdout",
     "output_type": "stream",
     "text": [
      "Best: 0.827847 using {'class_weight': {0: 598.0, 1: 2402.0}}\n",
      "0.827847 (0.029792) with: {'class_weight': {0: 598.0, 1: 2402.0}}\n",
      "0.794395 (0.034848) with: {'class_weight': {0: 1, 1: 100}}\n",
      "0.781602 (0.033008) with: {'class_weight': {0: 1, 1: 10}}\n",
      "0.797094 (0.025194) with: {'class_weight': {0: 1, 1: 1}}\n",
      "0.794015 (0.032520) with: {'class_weight': {0: 10, 1: 1}}\n",
      "0.794015 (0.032520) with: {'class_weight': {0: 100, 1: 1}}\n"
     ]
    }
   ],
   "source": [
    "# Report the best configuration\n",
    "print(\"Best: %f using %s\" % (grid_weightedsvm.best_score_, grid_weightedsvm.best_params_))\n",
    "# report all configurations\n",
    "means = grid_weightedsvm.cv_results_['mean_test_score']\n",
    "stds = grid_weightedsvm.cv_results_['std_test_score']\n",
    "params = grid_weightedsvm.cv_results_['params']\n",
    "for mean, stdev, param in zip(means, stds, params):\n",
    "    print(\"%f (%f) with: %r\" % (mean, stdev, param))"
   ]
  },
  {
   "cell_type": "markdown",
   "metadata": {},
   "source": [
    "### 2.2 Training weighted SVM using best parameters found above through CV on ORIGINAL DATA"
   ]
  },
  {
   "cell_type": "code",
   "execution_count": 75,
   "metadata": {},
   "outputs": [
    {
     "name": "stdout",
     "output_type": "stream",
     "text": [
      "Training  model takes 78.617 seconds\n",
      "Accuracy of weighted SVM on test set: 0.775\n",
      "[0 0 0 1 0]\n",
      "Predicting test data takes 3.401 seconds\n",
      "Classification error rate: 0.225\n",
      "Classification report \n",
      "               precision    recall  f1-score   support\n",
      "\n",
      "           0       0.88      0.82      0.85       461\n",
      "           1       0.51      0.62      0.56       139\n",
      "\n",
      "    accuracy                           0.78       600\n",
      "   macro avg       0.69      0.72      0.70       600\n",
      "weighted avg       0.79      0.78      0.78       600\n",
      "\n",
      "Confusion Matrix \n",
      " [[379  82]\n",
      " [ 53  86]]\n",
      "AUC is: 0.7883\n"
     ]
    }
   ],
   "source": [
    "weighted_svm_best = SVC(gamma = 'scale', class_weight ={0: 598.0, 1: 2402.0},probability=True)\n",
    "start_time=time.time()\n",
    "weighted_svm_best.fit(train_features, train_labels)\n",
    "print(\"Training  model takes %s seconds\" % round((time.time() - start_time),3))\n",
    "\n",
    "print('Accuracy of weighted SVM on test set: {:.3f}'.format(weighted_svm_best.score(test_features,test_labels)))\n",
    "\n",
    "start = time.time()\n",
    "weighted_svm_pred = weighted_svm_best.predict(test_features)\n",
    "end = time.time()\n",
    "print(weighted_svm_pred[0:5,])\n",
    "\n",
    "weighted_svm_predprob = weighted_svm_best.predict_proba(test_features)[:,1]\n",
    "\n",
    "print(\"Predicting test data takes %s seconds\" % round((end - start),3))\n",
    "print('Classification error rate:', np.mean(np.array(test_labels)!= weighted_svm_pred))\n",
    "print('Classification report \\n', classification_report(test_labels, weighted_svm_pred))\n",
    "\n",
    "print('Confusion Matrix \\n', confusion_matrix(test_labels, weighted_svm_pred))\n",
    "print('AUC is: {:.4f}'.format(roc_auc_score(test_labels, weighted_svm_predprob)))"
   ]
  },
  {
   "cell_type": "code",
   "execution_count": 137,
   "metadata": {},
   "outputs": [],
   "source": [
    "#Save trained weighted SVM model\n",
    "pickle.dump(weighted_svm_best, open('../data/output/best_weighted_svm.p','wb'))\n",
    "\n",
    "#Load trained weighted SVM model\n",
    "#pickle.load(open('../data/output/best_weighted_svm.p','rb'))"
   ]
  },
  {
   "cell_type": "markdown",
   "metadata": {},
   "source": [
    "## 3. KNN Classifier model using the BALANCED DATA SET "
   ]
  },
  {
   "cell_type": "markdown",
   "metadata": {},
   "source": [
    "### 3.1 Cross validation on KNN Classifier using different n_neighbors numbers"
   ]
  },
  {
   "cell_type": "code",
   "execution_count": 102,
   "metadata": {
    "scrolled": false
   },
   "outputs": [
    {
     "name": "stdout",
     "output_type": "stream",
     "text": [
      "Fitting 5 folds for each of 11 candidates, totalling 55 fits\n",
      "[CV] n_neighbors=1 ...................................................\n"
     ]
    },
    {
     "name": "stderr",
     "output_type": "stream",
     "text": [
      "[Parallel(n_jobs=1)]: Using backend SequentialBackend with 1 concurrent workers.\n"
     ]
    },
    {
     "name": "stdout",
     "output_type": "stream",
     "text": [
      "[CV] ....................... n_neighbors=1, score=0.499, total=   7.4s\n",
      "[CV] n_neighbors=1 ...................................................\n"
     ]
    },
    {
     "name": "stderr",
     "output_type": "stream",
     "text": [
      "[Parallel(n_jobs=1)]: Done   1 out of   1 | elapsed:    7.3s remaining:    0.0s\n"
     ]
    },
    {
     "name": "stdout",
     "output_type": "stream",
     "text": [
      "[CV] ....................... n_neighbors=1, score=0.888, total=   7.7s\n",
      "[CV] n_neighbors=1 ...................................................\n"
     ]
    },
    {
     "name": "stderr",
     "output_type": "stream",
     "text": [
      "[Parallel(n_jobs=1)]: Done   2 out of   2 | elapsed:   15.1s remaining:    0.0s\n"
     ]
    },
    {
     "name": "stdout",
     "output_type": "stream",
     "text": [
      "[CV] ....................... n_neighbors=1, score=0.499, total=   8.0s\n",
      "[CV] n_neighbors=1 ...................................................\n",
      "[CV] ....................... n_neighbors=1, score=0.879, total=   8.4s\n",
      "[CV] n_neighbors=1 ...................................................\n",
      "[CV] ....................... n_neighbors=1, score=0.868, total=   9.0s\n",
      "[CV] n_neighbors=5 ...................................................\n",
      "[CV] ....................... n_neighbors=5, score=0.865, total=   9.2s\n",
      "[CV] n_neighbors=5 ...................................................\n",
      "[CV] ....................... n_neighbors=5, score=0.888, total=   8.8s\n",
      "[CV] n_neighbors=5 ...................................................\n",
      "[CV] ....................... n_neighbors=5, score=0.880, total=   9.0s\n",
      "[CV] n_neighbors=5 ...................................................\n",
      "[CV] ....................... n_neighbors=5, score=0.879, total=   8.2s\n",
      "[CV] n_neighbors=5 ...................................................\n",
      "[CV] ....................... n_neighbors=5, score=0.868, total=   9.4s\n",
      "[CV] n_neighbors=9 ...................................................\n",
      "[CV] ....................... n_neighbors=9, score=0.865, total=  10.1s\n",
      "[CV] n_neighbors=9 ...................................................\n",
      "[CV] ....................... n_neighbors=9, score=0.888, total=  10.7s\n",
      "[CV] n_neighbors=9 ...................................................\n",
      "[CV] ....................... n_neighbors=9, score=0.880, total=   9.4s\n",
      "[CV] n_neighbors=9 ...................................................\n",
      "[CV] ....................... n_neighbors=9, score=0.879, total=   8.6s\n",
      "[CV] n_neighbors=9 ...................................................\n",
      "[CV] ....................... n_neighbors=9, score=0.868, total=   9.9s\n",
      "[CV] n_neighbors=13 ..................................................\n",
      "[CV] ...................... n_neighbors=13, score=0.865, total=   8.5s\n",
      "[CV] n_neighbors=13 ..................................................\n",
      "[CV] ...................... n_neighbors=13, score=0.888, total=   9.0s\n",
      "[CV] n_neighbors=13 ..................................................\n",
      "[CV] ...................... n_neighbors=13, score=0.880, total=   9.4s\n",
      "[CV] n_neighbors=13 ..................................................\n",
      "[CV] ...................... n_neighbors=13, score=0.879, total=   9.9s\n",
      "[CV] n_neighbors=13 ..................................................\n",
      "[CV] ...................... n_neighbors=13, score=0.868, total=   9.6s\n",
      "[CV] n_neighbors=17 ..................................................\n",
      "[CV] ...................... n_neighbors=17, score=0.865, total=   9.9s\n",
      "[CV] n_neighbors=17 ..................................................\n",
      "[CV] ...................... n_neighbors=17, score=0.888, total=   8.2s\n",
      "[CV] n_neighbors=17 ..................................................\n",
      "[CV] ...................... n_neighbors=17, score=0.880, total=  10.0s\n",
      "[CV] n_neighbors=17 ..................................................\n",
      "[CV] ...................... n_neighbors=17, score=0.879, total=   8.3s\n",
      "[CV] n_neighbors=17 ..................................................\n",
      "[CV] ...................... n_neighbors=17, score=0.868, total=   9.5s\n",
      "[CV] n_neighbors=21 ..................................................\n",
      "[CV] ...................... n_neighbors=21, score=0.865, total=   9.5s\n",
      "[CV] n_neighbors=21 ..................................................\n",
      "[CV] ...................... n_neighbors=21, score=0.888, total=   9.7s\n",
      "[CV] n_neighbors=21 ..................................................\n",
      "[CV] ...................... n_neighbors=21, score=0.880, total=   9.6s\n",
      "[CV] n_neighbors=21 ..................................................\n",
      "[CV] ...................... n_neighbors=21, score=0.879, total=   8.6s\n",
      "[CV] n_neighbors=21 ..................................................\n",
      "[CV] ...................... n_neighbors=21, score=0.868, total=   9.7s\n",
      "[CV] n_neighbors=25 ..................................................\n",
      "[CV] ...................... n_neighbors=25, score=0.865, total=   9.6s\n",
      "[CV] n_neighbors=25 ..................................................\n",
      "[CV] ...................... n_neighbors=25, score=0.888, total=   9.5s\n",
      "[CV] n_neighbors=25 ..................................................\n",
      "[CV] ...................... n_neighbors=25, score=0.880, total=  11.0s\n",
      "[CV] n_neighbors=25 ..................................................\n",
      "[CV] ...................... n_neighbors=25, score=0.879, total=   9.2s\n",
      "[CV] n_neighbors=25 ..................................................\n",
      "[CV] ...................... n_neighbors=25, score=0.868, total=   9.9s\n",
      "[CV] n_neighbors=29 ..................................................\n",
      "[CV] ...................... n_neighbors=29, score=0.865, total=   9.6s\n",
      "[CV] n_neighbors=29 ..................................................\n",
      "[CV] ...................... n_neighbors=29, score=0.888, total=   9.6s\n",
      "[CV] n_neighbors=29 ..................................................\n",
      "[CV] ...................... n_neighbors=29, score=0.880, total=   9.7s\n",
      "[CV] n_neighbors=29 ..................................................\n",
      "[CV] ...................... n_neighbors=29, score=0.879, total=   9.7s\n",
      "[CV] n_neighbors=29 ..................................................\n",
      "[CV] ...................... n_neighbors=29, score=0.868, total=  10.1s\n",
      "[CV] n_neighbors=33 ..................................................\n",
      "[CV] ...................... n_neighbors=33, score=0.865, total=   9.7s\n",
      "[CV] n_neighbors=33 ..................................................\n",
      "[CV] ...................... n_neighbors=33, score=0.888, total=   9.6s\n",
      "[CV] n_neighbors=33 ..................................................\n",
      "[CV] ...................... n_neighbors=33, score=0.880, total=   9.7s\n",
      "[CV] n_neighbors=33 ..................................................\n",
      "[CV] ...................... n_neighbors=33, score=0.879, total=   9.7s\n",
      "[CV] n_neighbors=33 ..................................................\n",
      "[CV] ...................... n_neighbors=33, score=0.868, total=   9.7s\n",
      "[CV] n_neighbors=37 ..................................................\n",
      "[CV] ...................... n_neighbors=37, score=0.865, total=  10.0s\n",
      "[CV] n_neighbors=37 ..................................................\n",
      "[CV] ...................... n_neighbors=37, score=0.888, total=   9.7s\n",
      "[CV] n_neighbors=37 ..................................................\n",
      "[CV] ...................... n_neighbors=37, score=0.880, total=   9.9s\n",
      "[CV] n_neighbors=37 ..................................................\n",
      "[CV] ...................... n_neighbors=37, score=0.879, total=   9.8s\n",
      "[CV] n_neighbors=37 ..................................................\n",
      "[CV] ...................... n_neighbors=37, score=0.868, total=   9.9s\n",
      "[CV] n_neighbors=41 ..................................................\n",
      "[CV] ...................... n_neighbors=41, score=0.865, total=   9.9s\n",
      "[CV] n_neighbors=41 ..................................................\n",
      "[CV] ...................... n_neighbors=41, score=0.888, total=   9.7s\n",
      "[CV] n_neighbors=41 ..................................................\n",
      "[CV] ...................... n_neighbors=41, score=0.879, total=   9.8s\n",
      "[CV] n_neighbors=41 ..................................................\n",
      "[CV] ...................... n_neighbors=41, score=0.879, total=   9.6s\n",
      "[CV] n_neighbors=41 ..................................................\n",
      "[CV] ...................... n_neighbors=41, score=0.868, total=   9.7s\n"
     ]
    },
    {
     "name": "stderr",
     "output_type": "stream",
     "text": [
      "[Parallel(n_jobs=1)]: Done  55 out of  55 | elapsed:  8.6min finished\n"
     ]
    },
    {
     "data": {
      "text/plain": [
       "GridSearchCV(estimator=KNeighborsClassifier(),\n",
       "             param_grid={'n_neighbors': array([ 1,  5,  9, 13, 17, 21, 25, 29, 33, 37, 41])},\n",
       "             verbose=3)"
      ]
     },
     "execution_count": 102,
     "metadata": {},
     "output_type": "execute_result"
    }
   ],
   "source": [
    "#Define KNN Classifier\n",
    "knn = KNeighborsClassifier()\n",
    "\n",
    "#CV on KNN\n",
    "param_grid = {'n_neighbors': np.arange(1,44,4)} \n",
    "grid_knn = GridSearchCV(knn,param_grid,refit=True,verbose=3)\n",
    "grid_knn.fit(X_train,y_train)\n"
   ]
  },
  {
   "cell_type": "code",
   "execution_count": 103,
   "metadata": {},
   "outputs": [
    {
     "name": "stdout",
     "output_type": "stream",
     "text": [
      "{'n_neighbors': 5}\n",
      "KNeighborsClassifier()\n"
     ]
    }
   ],
   "source": [
    "print(grid_knn.best_params_)\n",
    "print(grid_knn.best_estimator_)"
   ]
  },
  {
   "cell_type": "markdown",
   "metadata": {},
   "source": [
    "### 3.2 Training KNN classifier using best parameters found above through CV"
   ]
  },
  {
   "cell_type": "code",
   "execution_count": 104,
   "metadata": {
    "scrolled": true
   },
   "outputs": [
    {
     "name": "stdout",
     "output_type": "stream",
     "text": [
      "Training  model takes 2.027 seconds\n",
      "Accuracy of knn on test set: 0.872\n",
      "Predicting test data takes 10.658 seconds\n",
      "Classification error rate: 0.1279916753381894\n",
      "Classification report \n",
      "               precision    recall  f1-score   support\n",
      "\n",
      "           0       0.80      1.00      0.89       477\n",
      "           1       1.00      0.75      0.85       484\n",
      "\n",
      "    accuracy                           0.87       961\n",
      "   macro avg       0.90      0.87      0.87       961\n",
      "weighted avg       0.90      0.87      0.87       961\n",
      "\n",
      "Confusion Matrix \n",
      " [[477   0]\n",
      " [123 361]]\n",
      "AUC is: 0.8729\n"
     ]
    }
   ],
   "source": [
    "#Training standard KNN using best parameters found above through CV on BALANCED DATA SET\n",
    "\n",
    "knn_best = KNeighborsClassifier(n_neighbors=5) \n",
    "start_time=time.time()\n",
    "knn_best.fit(X_train, y_train)\n",
    "print(\"Training  model takes %s seconds\" % round((time.time() - start_time),3))\n",
    "\n",
    "#predictors=list(train_features)\n",
    "\n",
    "print('Accuracy of knn on test set: {:.3f}'.format(knn_best.score(X_test,y_test)))\n",
    "\n",
    "start = time.time()\n",
    "knn_pred = knn_best.predict(X_test)\n",
    "end = time.time()\n",
    "\n",
    "knn_predprob = knn_best.predict_proba(X_test)[:,1]\n",
    "\n",
    "print(\"Predicting test data takes %s seconds\" % round((end - start),3))\n",
    "print('Classification error rate:', np.mean(np.array(y_test)!= knn_pred))\n",
    "print('Classification report \\n', classification_report(y_test, knn_pred))\n",
    "\n",
    "print('Confusion Matrix \\n', confusion_matrix(y_test, knn_pred))\n",
    "print('AUC is: {:.4f}'.format(roc_auc_score(y_test, knn_predprob)))"
   ]
  },
  {
   "cell_type": "code",
   "execution_count": 138,
   "metadata": {},
   "outputs": [],
   "source": [
    "#Save trained KNN model\n",
    "pickle.dump(knn_best, open('../data/output/best_knn.p','wb'))\n",
    "\n",
    "#Load trained KNN model\n",
    "#pickle.load(open('../data/output/best_knn.p','rb'))"
   ]
  },
  {
   "cell_type": "code",
   "execution_count": null,
   "metadata": {},
   "outputs": [],
   "source": [
    "# Densely-connected Neural Network"
   ]
  },
  {
   "cell_type": "code",
   "execution_count": 151,
   "metadata": {},
   "outputs": [],
   "source": [
    "# input_shape = [3003] \n",
    "# input_layer = Input(input_shape)\n",
    "# x = BatchNormalization()(input_layer) \n",
    "# x = Dense(2*20,activation='relu',kernel_initializer=initializers.glorot_normal(seed=4))(x)\n",
    "# x = Dropout(0.25)(x)\n",
    "# x = BatchNormalization()(x) \n",
    "# x = Dense(2*10,activation='relu',kernel_initializer=initializers.glorot_normal(seed=4))(x)\n",
    "# x = Dropout(0.25)(x)\n",
    "# x = Dense(2*6,activation='relu',kernel_initializer=initializers.glorot_normal(seed=4))(x)\n",
    "# x = Dropout(0.25)(x)\n",
    "# x = Dense(2*2,activation='relu',kernel_initializer=initializers.glorot_normal(seed=4))(x)\n",
    "# output_layer = Dense(2,activation='softmax',kernel_initializer=initializers.glorot_normal(seed=4))(x) \n",
    "# model = Model(input_layer,output_layer)"
   ]
  },
  {
   "cell_type": "code",
   "execution_count": 153,
   "metadata": {},
   "outputs": [],
   "source": [
    "# start_time = time.time()\n",
    "# model.compile(loss='categorical_crossentropy',optimizer = Adam(lr=0.001),metrics=['accuracy'])\n",
    "# model_history = model.fit(X_train,y_train,epochs = 30, validation_data=[X_test,y_test])\n",
    "# print(\"training  model takes %s seconds\" % round((time.time() - start_time),3))"
   ]
  },
  {
   "cell_type": "code",
   "execution_count": null,
   "metadata": {},
   "outputs": [],
   "source": []
  }
 ],
 "metadata": {
  "kernelspec": {
   "display_name": "Python 3",
   "language": "python",
   "name": "python3"
  },
  "language_info": {
   "codemirror_mode": {
    "name": "ipython",
    "version": 3
   },
   "file_extension": ".py",
   "mimetype": "text/x-python",
   "name": "python",
   "nbconvert_exporter": "python",
   "pygments_lexer": "ipython3",
   "version": "3.7.9"
  }
 },
 "nbformat": 4,
 "nbformat_minor": 4
}
