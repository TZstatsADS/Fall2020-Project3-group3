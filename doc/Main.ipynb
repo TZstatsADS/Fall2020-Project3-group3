{
 "cells": [
  {
   "cell_type": "markdown",
   "metadata": {
    "id": "6_NHMkvjfHzt"
   },
   "source": [
    "# **Step 0 Import Required Packages**"
   ]
  },
  {
   "cell_type": "code",
   "execution_count": 35,
   "metadata": {
    "id": "naXV8-egcjbd"
   },
   "outputs": [],
   "source": [
    "import numpy as np\n",
    "import scipy.io\n",
    "import sklearn.metrics\n",
    "import sklearn \n",
    "import os\n",
    "import random\n",
    "import pandas as pd\n",
    "import time\n",
    "from sklearn.model_selection import train_test_split, GridSearchCV\n",
    "from sklearn.ensemble import GradientBoostingClassifier\n",
    "from sklearn.metrics import classification_report, confusion_matrix, roc_auc_score\n",
    "import pickle\n",
    "from sklearn.preprocessing import StandardScaler\n",
    "from keras import Sequential\n",
    "from keras.layers import Dense, Activation, Flatten, Input, Dropout, BatchNormalization\n",
    "from keras.models import Model\n",
    "from keras import initializers\n",
    "from keras.optimizers import Adam\n",
    "import matplotlib.pyplot as plt\n",
    "import tensorflow as tf"
   ]
  },
  {
   "cell_type": "markdown",
   "metadata": {
    "id": "Bsorsa-ab9Rk"
   },
   "source": [
    "# **Step 1 Read The Files**"
   ]
  },
  {
   "cell_type": "code",
   "execution_count": 2,
   "metadata": {
    "id": "f_bdPYyodHRs"
   },
   "outputs": [],
   "source": [
    "# When using Colab, you can upload train_set.zip in the content folder and run this kernel.\n",
    "!unzip -qq /content/train_set.zip "
   ]
  },
  {
   "cell_type": "code",
   "execution_count": 3,
   "metadata": {
    "id": "4AnQ8SB__v-u"
   },
   "outputs": [],
   "source": [
    "# Set your directory to read the data, default is the directory in colab.\n",
    "unzipped_folder_path = '/content/train_set'"
   ]
  },
  {
   "cell_type": "code",
   "execution_count": 4,
   "metadata": {
    "id": "EmDQUUOO_yT1"
   },
   "outputs": [],
   "source": [
    "def read_data(unzipped_folder_path):\n",
    "  \n",
    "  # read labels\n",
    "  labels = pd.read_csv(unzipped_folder_path+'/label.csv')\n",
    "  y= labels['label'].to_numpy()\n",
    "\n",
    "  # read points\n",
    "  n = 3000\n",
    "  for i in range(1,n+1):\n",
    "    p_path = str(i).zfill(4)+'.mat'\n",
    "    mat = scipy.io.loadmat(unzipped_folder_path+'/points/'+p_path)\n",
    "    if 'faceCoordinatesUnwarped' in mat:\n",
    "      cords = mat['faceCoordinatesUnwarped'] \n",
    "    else:\n",
    "      cords = mat['faceCoordinates2']\n",
    "\n",
    "    distance = sklearn.metrics.pairwise_distances(cords)       \n",
    "          # compute the pairwise distances in each mat\n",
    "    flatten_distance = distance[np.triu_indices(len(cords[:,0]), k = 1)]    \n",
    "          # stretch the upper triangle of the symmetric matrix \n",
    "          # to a long array with dimension 3003\n",
    "          # 3003 = (1+77)*78/2\n",
    "    if i==1:\n",
    "      distances = np.mat([flatten_distance])\n",
    "    else:\n",
    "      distances = np.append(distances, np.mat([flatten_distance]), axis = 0)\n",
    "  return (distances, y)"
   ]
  },
  {
   "cell_type": "code",
   "execution_count": 5,
   "metadata": {
    "colab": {
     "base_uri": "https://localhost:8080/"
    },
    "id": "j3sddESRgvbO",
    "outputId": "d6765a5f-dbce-42fc-b17c-4b1aa8daa835"
   },
   "outputs": [
    {
     "name": "stdout",
     "output_type": "stream",
     "text": [
      "Read the original dataset takes 46.157 seconds\n"
     ]
    }
   ],
   "source": [
    "read_time_start=time.time()\n",
    "Ori_X, Ori_Y = read_data(unzipped_folder_path)\n",
    "print(\"Read the original dataset takes %s seconds\" % round((time.time() - read_time_start),3))"
   ]
  },
  {
   "cell_type": "code",
   "execution_count": 6,
   "metadata": {
    "colab": {
     "base_uri": "https://localhost:8080/"
    },
    "id": "eM3m9Hi6_2f1",
    "outputId": "6c9c1aab-8239-4310-ab79-bb3bfae3f56f"
   },
   "outputs": [
    {
     "data": {
      "text/plain": [
       "((3000, 3003), (3000,))"
      ]
     },
     "execution_count": 6,
     "metadata": {
      "tags": []
     },
     "output_type": "execute_result"
    }
   ],
   "source": [
    "Ori_X.shape, Ori_Y.shape \n",
    "# should be (3000,3003) and (3000,) \n",
    "# which means 3000 number of cases \n",
    "# and 3003 numbers of pairwise distances\n",
    "# of 78 fiducial points. \n",
    "# 3003 = (1+77)*78/2"
   ]
  },
  {
   "cell_type": "markdown",
   "metadata": {
    "id": "wUfrQ1rTjBHs"
   },
   "source": [
    "# **Step 2 Data Preprocessing For the Imbalanced Dataset & Generate New Data to Improve Learning Accuracy** \n",
    "## From the following analysis, we found that the Original Dataset is unbalanced. So we decided to generate new data for the class with smaller number of original samples. By generating new data, we not only balanced the data with equal number of samples in different class, but also create new data to help improve the learning accuracy.\n",
    "\n",
    "* Because the number of Class 1 samples is less than the number of Class 0 samples, we decided to add more data in Class 1.\n",
    "* The way we generate more data is that we randomly select two original cordinates of fiducial points in Class 1 and average them to generate new data of fiducial points and then calculate its pairwise distances and give it the label of 1. \n",
    "* It would make sense cause our models believe that the fiducial points in the same class will generate similar distribution in pairwise distances."
   ]
  },
  {
   "cell_type": "code",
   "execution_count": 27,
   "metadata": {
    "colab": {
     "base_uri": "https://localhost:8080/"
    },
    "id": "Ef2jCi9po8Kn",
    "outputId": "a0ad0148-e3d6-4d88-c5f0-a2c06a47c045"
   },
   "outputs": [
    {
     "name": "stdout",
     "output_type": "stream",
     "text": [
      "The number of class 0 is 2402\n",
      "The number of class 1 is 598\n",
      "Only 19.93% of total dataset are class 1. \n",
      "So, it is an unbalanced dataset, we need to do some data preprocessing.\n",
      "Here, we are using oversampling to generate more class 1 datasets.\n"
     ]
    }
   ],
   "source": [
    "# Analyzing the data\n",
    "n = Ori_Y.shape[0]\n",
    "print('The number of class 0 is ' + str(n-sum(Ori_Y)))\n",
    "print('The number of class 1 is ' + str(sum(Ori_Y)))\n",
    "print('Only %.2f'% (sum(Ori_Y)/n*100) + '% of total dataset are class 1. ')\n",
    "print('So, it is an unbalanced dataset, we need to do some data preprocessing.')\n",
    "print('Here, we are using oversampling to generate more class 1 datasets.')"
   ]
  },
  {
   "cell_type": "code",
   "execution_count": 29,
   "metadata": {
    "id": "XZU3iWqS_XoL"
   },
   "outputs": [],
   "source": [
    "def data_preprocessing(Ori_X, Ori_Y, unzipped_folder_path):\n",
    "\n",
    "  # data preprocessing\n",
    "\n",
    "  distances = Ori_X\n",
    "  y = Ori_Y\n",
    "\n",
    "  n = y.shape[0]\n",
    "  mat_1 = np.add(np.where(y == 1),1)\n",
    "  n_oversample = (n-sum(y))-sum(y) \n",
    "    # how many samples do we need to generate\n",
    "\n",
    "  for i in range(n_oversample):\n",
    "    samples_index = random.sample(list(list(mat_1)[0]), 2)\n",
    "      # pick two random index of class 1 samples. \n",
    "\n",
    "    p_path = str(samples_index[0]).zfill(4)+'.mat'\n",
    "    mat = scipy.io.loadmat(unzipped_folder_path+'/points/'+p_path)\n",
    "    if 'faceCoordinatesUnwarped' in mat:\n",
    "      cords_0 = mat['faceCoordinatesUnwarped'] \n",
    "    else:\n",
    "      cords_0 = mat['faceCoordinates2']\n",
    "    \n",
    "    p_path = str(samples_index[1]).zfill(4)+'.mat'\n",
    "    mat = scipy.io.loadmat(unzipped_folder_path+'/points/'+p_path)\n",
    "    if 'faceCoordinatesUnwarped' in mat:\n",
    "      cords_1 = mat['faceCoordinatesUnwarped'] \n",
    "    else:\n",
    "      cords_1 = mat['faceCoordinates2']\n",
    "\n",
    "    cords_new = (cords_0 + cords_1) / 2 \n",
    "        # averaging two sets of cordinates to generate new set of cordinates\n",
    "    distance = sklearn.metrics.pairwise_distances(cords_new)\n",
    "        # compute the pairwise distances in each mat\n",
    "    flatten_distance = distance[np.triu_indices(len(cords_new[:,0]), k = 1)]\n",
    "        # stretch the upper triangle of the symmetric matrix \n",
    "        # to a long array with dimension 3003\n",
    "        # 3003 = (1+77)*78/2\n",
    "    \n",
    "    distances = np.append(distances, np.mat([flatten_distance]), axis = 0)\n",
    "    y = np.append(y,np.array(1))\n",
    "        # Append new data to the original dataset\n",
    "\n",
    "  return (distances, y) \n"
   ]
  },
  {
   "cell_type": "code",
   "execution_count": 30,
   "metadata": {
    "id": "YVZH9NK0xfIc"
   },
   "outputs": [],
   "source": [
    "Balanced_X, Blanced_Y = data_preprocessing(Ori_X, Ori_Y, unzipped_folder_path)"
   ]
  },
  {
   "cell_type": "code",
   "execution_count": 31,
   "metadata": {
    "colab": {
     "base_uri": "https://localhost:8080/"
    },
    "id": "EiKZwvM84VmY",
    "outputId": "034f5afe-96d4-47d6-f5ee-930b53208047"
   },
   "outputs": [
    {
     "data": {
      "text/plain": [
       "((4804, 3003), (4804,))"
      ]
     },
     "execution_count": 31,
     "metadata": {
      "tags": []
     },
     "output_type": "execute_result"
    }
   ],
   "source": [
    "Balanced_X.shape, Blanced_Y.shape"
   ]
  },
  {
   "cell_type": "markdown",
   "metadata": {
    "id": "dBZyFkijAMu9"
   },
   "source": [
    "# **Step 3 Baseline Model: GBM on Original Dataset**"
   ]
  },
  {
   "cell_type": "markdown",
   "metadata": {
    "id": "aAgx39etFH_x"
   },
   "source": [
    "## 1. Create train and test features and labels"
   ]
  },
  {
   "cell_type": "code",
   "execution_count": 13,
   "metadata": {
    "colab": {
     "base_uri": "https://localhost:8080/"
    },
    "id": "jNuz2M2TAMA1",
    "outputId": "405fbbd3-dc78-4c51-a142-877f5bc23c7e"
   },
   "outputs": [
    {
     "name": "stdout",
     "output_type": "stream",
     "text": [
      "(2400, 3003) (600, 3003) (2400,) (600,)\n"
     ]
    }
   ],
   "source": [
    "#Create train and test features and labels from Balanced Data set\n",
    "train_features, test_features, train_labels, test_labels = train_test_split(Ori_X,Ori_Y,test_size=0.2,random_state=42)\n",
    "print(train_features.shape,test_features.shape,train_labels.shape,test_labels.shape)"
   ]
  },
  {
   "cell_type": "markdown",
   "metadata": {
    "id": "2Vc82e2qFERp"
   },
   "source": [
    "## 2. Train a GBM model using random parameters on original data set"
   ]
  },
  {
   "cell_type": "code",
   "execution_count": 14,
   "metadata": {
    "colab": {
     "base_uri": "https://localhost:8080/"
    },
    "id": "1U68Iry3E3Ff",
    "outputId": "998dbdc7-4bdf-4aa8-e664-6301b4c0dae0"
   },
   "outputs": [
    {
     "name": "stdout",
     "output_type": "stream",
     "text": [
      "Training  model takes 169.413 seconds\n"
     ]
    }
   ],
   "source": [
    "gbm = GradientBoostingClassifier(learning_rate=0.1,max_depth=2,n_estimators=100) \n",
    "start_time=time.time()\n",
    "gbm.fit(train_features, train_labels)\n",
    "print(\"Training  model takes %s seconds\" % round((time.time() - start_time),3))"
   ]
  },
  {
   "cell_type": "code",
   "execution_count": 17,
   "metadata": {
    "colab": {
     "base_uri": "https://localhost:8080/"
    },
    "id": "SYDl_uyGFwrY",
    "outputId": "6959a75b-bbd3-4b1d-f04e-fa3572ac69fa"
   },
   "outputs": [
    {
     "name": "stdout",
     "output_type": "stream",
     "text": [
      "Accuracy of the GBM on test set: 0.797\n",
      "Predicting test data takes 0.008 seconds\n",
      "Classification error rate: 0.20333333333333334\n",
      "Classification report \n",
      "               precision    recall  f1-score   support\n",
      "\n",
      "           0       0.80      0.98      0.88       461\n",
      "           1       0.74      0.19      0.30       139\n",
      "\n",
      "    accuracy                           0.80       600\n",
      "   macro avg       0.77      0.58      0.59       600\n",
      "weighted avg       0.79      0.80      0.75       600\n",
      "\n",
      "Confusion Matrix \n",
      " [[452   9]\n",
      " [113  26]]\n",
      "AUC is: 0.7984\n"
     ]
    }
   ],
   "source": [
    "print('Accuracy of the GBM on test set: {:.3f}'.format(gbm.score(test_features,test_labels)))\n",
    "\n",
    "start = time.time()\n",
    "prediction = gbm.predict(test_features)\n",
    "end = time.time()\n",
    "\n",
    "predprob = gbm.predict_proba(test_features)[:,1]\n",
    "\n",
    "print(\"Predicting test data takes %s seconds\" % round((end - start),3))\n",
    "print('Classification error rate:', np.mean(np.array(test_labels)!= prediction))\n",
    "print('Classification report \\n', classification_report(test_labels, prediction))\n",
    "\n",
    "#Since the class distribution is imbalanced/ skewed, we should look at the confusion matrix and AUC\n",
    "print('Confusion Matrix \\n', confusion_matrix(test_labels, prediction))\n",
    "print('AUC is: {:.4f}'.format(roc_auc_score(test_labels, predprob)))"
   ]
  },
  {
   "cell_type": "markdown",
   "metadata": {
    "id": "IT_0fXg5GBtS"
   },
   "source": [
    "## 3.GBM Cross Validation and Parameter tuning"
   ]
  },
  {
   "cell_type": "markdown",
   "metadata": {
    "id": "USuSZrfmGH6J"
   },
   "source": [
    "### 3.1 Cross Validation on GBM learning rate and max_depth"
   ]
  },
  {
   "cell_type": "code",
   "execution_count": 18,
   "metadata": {
    "id": "RPtgklSNGEvq"
   },
   "outputs": [],
   "source": [
    "# param_grid = {'learning_rate':[0.05,0.1], 'max_depth': [1,2,3]}\n",
    "# grid = GridSearchCV(GradientBoostingClassifier(),param_grid,refit=True,verbose=3)\n",
    "# grid.fit(train_features,train_labels)"
   ]
  },
  {
   "cell_type": "code",
   "execution_count": null,
   "metadata": {
    "id": "8BNI204qHIfg"
   },
   "outputs": [],
   "source": [
    "# print(grid.best_params_)\n",
    "# print(grid.best_estimator_)"
   ]
  },
  {
   "cell_type": "markdown",
   "metadata": {
    "id": "hC5cvfNIKhOL"
   },
   "source": [
    "best_params: {'learning_rate': 0.1, 'max_depth': 2}"
   ]
  },
  {
   "cell_type": "markdown",
   "metadata": {
    "id": "EkmBpdLsHPBP"
   },
   "source": [
    "### 3.2 CrossValidation on GBM with n_estimators"
   ]
  },
  {
   "cell_type": "code",
   "execution_count": null,
   "metadata": {
    "id": "YOYfIICNHOdY"
   },
   "outputs": [],
   "source": [
    "# param_grid2 = {'n_estimators':[50,100,250,500]} \n",
    "# grid2 = GridSearchCV(GradientBoostingClassifier(learning_rate = 0.1, max_depth = 2),param_grid= param_grid2,refit=True,verbose=3)\n",
    "# grid2.fit(train_features,train_labels)"
   ]
  },
  {
   "cell_type": "code",
   "execution_count": null,
   "metadata": {
    "id": "8XzhNYDJHfqg"
   },
   "outputs": [],
   "source": [
    "# print(grid2.best_params_)\n",
    "# print(grid2.best_estimator_)\n",
    "# grid2_predictions = grid2.predict(test_features)\n",
    "# print(confusion_matrix(test_labels,grid2_predictions))\n",
    "# print(classification_report(test_labels,grid2_predictions))"
   ]
  },
  {
   "cell_type": "markdown",
   "metadata": {
    "id": "xSjrXdgzKtSJ"
   },
   "source": [
    "best_params: {'n_estimators': 500}"
   ]
  },
  {
   "cell_type": "markdown",
   "metadata": {
    "id": "o5xm0s7CHr-4"
   },
   "source": [
    "### 3.3 Best GBM Model\n",
    "* Final Parameter for baseline GBM set at: learning_rate=0.1, n_estimators=500, max_depth=2"
   ]
  },
  {
   "cell_type": "code",
   "execution_count": 20,
   "metadata": {
    "colab": {
     "base_uri": "https://localhost:8080/"
    },
    "id": "8VoEJXO9HqCR",
    "outputId": "1301c140-71cb-4afd-941a-208dfc74587a"
   },
   "outputs": [
    {
     "name": "stdout",
     "output_type": "stream",
     "text": [
      "Training  model takes 845.087 seconds\n"
     ]
    }
   ],
   "source": [
    "#Training baseline: GBM using best parameters found above through CV\n",
    "\n",
    "gbm_best = GradientBoostingClassifier(learning_rate=0.1,max_depth=2,n_estimators=500) \n",
    "start_time=time.time()\n",
    "gbm_best.fit(train_features, train_labels)\n",
    "print(\"Training  model takes %s seconds\" % round((time.time() - start_time),3))"
   ]
  },
  {
   "cell_type": "markdown",
   "metadata": {
    "id": "RXbML_3ZsT3N"
   },
   "source": [
    "### 3.4 Evaluate BGM Model"
   ]
  },
  {
   "cell_type": "code",
   "execution_count": 21,
   "metadata": {
    "colab": {
     "base_uri": "https://localhost:8080/"
    },
    "id": "GuPOFn3eIC5T",
    "outputId": "16984a50-f2b7-45ea-d600-275507c2ba9f"
   },
   "outputs": [
    {
     "name": "stdout",
     "output_type": "stream",
     "text": [
      "Accuracy of the GBM on test set: 0.817\n",
      "Predicting test data takes 0.014 seconds\n",
      "Classification error rate: 0.18333333333333332\n",
      "Classification report \n",
      "               precision    recall  f1-score   support\n",
      "\n",
      "           0       0.83      0.95      0.89       461\n",
      "           1       0.70      0.36      0.48       139\n",
      "\n",
      "    accuracy                           0.82       600\n",
      "   macro avg       0.77      0.66      0.68       600\n",
      "weighted avg       0.80      0.82      0.79       600\n",
      "\n",
      "Confusion Matrix \n",
      " [[440  21]\n",
      " [ 89  50]]\n",
      "AUC is: 0.8103\n"
     ]
    }
   ],
   "source": [
    "print('Accuracy of the GBM on test set: {:.3f}'.format(gbm_best.score(test_features,test_labels)))\n",
    "\n",
    "start = time.time()\n",
    "baseline_pred = gbm_best.predict(test_features)\n",
    "end = time.time()\n",
    "\n",
    "baseline_predprob = gbm_best.predict_proba(test_features)[:,1]\n",
    "\n",
    "print(\"Predicting test data takes %s seconds\" % round((end - start),3))\n",
    "print('Classification error rate:', np.mean(np.array(test_labels)!= baseline_pred))\n",
    "print('Classification report \\n', classification_report(test_labels, baseline_pred))\n",
    "\n",
    "#Since the class distribution is imbalanced/ skewed, we should look at the confusion matrix and AUC\n",
    "print('Confusion Matrix \\n', confusion_matrix(test_labels, baseline_pred))\n",
    "print('AUC is: {:.4f}'.format(roc_auc_score(test_labels, baseline_predprob)))"
   ]
  },
  {
   "cell_type": "markdown",
   "metadata": {
    "id": "YUwlGYsiIH_x"
   },
   "source": [
    "Cross validation improved accuracy from 0.797 to 0.82, and AUC from 0.797 to 0.81"
   ]
  },
  {
   "cell_type": "markdown",
   "metadata": {
    "id": "AZJG4kdfsZ0t"
   },
   "source": [
    "### 3.5 Save The Model"
   ]
  },
  {
   "cell_type": "code",
   "execution_count": 25,
   "metadata": {
    "id": "XJ2mrKM-IFG_"
   },
   "outputs": [],
   "source": [
    "# Save best gbm model\n",
    "# save_weights_path = '/content/' + 'baseline_gbm.p' \n",
    "save_weights_path = '../data/output/baseline_gbm.p'\n",
    "pickle.dump(gbm_best, open(save_weights_path,'wb'))\n",
    "\n",
    "# Load gbm model\n",
    "# pickle.load(open('../data/output/baseline_gbm.p,'rb'))"
   ]
  },
  {
   "cell_type": "markdown",
   "metadata": {
    "id": "Uny2vgwmNDxf"
   },
   "source": [
    "# **Step 4 Advanced Model -- Densely Connected Neural Network**\n",
    "* Based on the paper [Densely Connected Convolutional Networks](https://arxiv.org/abs/1608.06993) ,  Desely Connected Convolutional Neural Networks is a good model for image classification. With the improved data -- fiducial points, we will get a better accuracy and auc."
   ]
  },
  {
   "cell_type": "markdown",
   "metadata": {
    "id": "ZGpn1fclMdv7"
   },
   "source": [
    "### 4.1 Data Scaling On Balanced Dataset And Train Test Split"
   ]
  },
  {
   "cell_type": "code",
   "execution_count": 32,
   "metadata": {
    "id": "-Pa96PqUMc4b"
   },
   "outputs": [],
   "source": [
    "scaler = StandardScaler()\n",
    "scaler.fit(Balanced_X)\n",
    "distances_scale = scaler.transform(Balanced_X)"
   ]
  },
  {
   "cell_type": "code",
   "execution_count": 33,
   "metadata": {
    "id": "_Z3L1zUZUR36"
   },
   "outputs": [],
   "source": [
    "X_train, X_test, y_train, y_test = sklearn.model_selection.train_test_split(distances_scale, Blanced_Y, random_state=123)"
   ]
  },
  {
   "cell_type": "code",
   "execution_count": 36,
   "metadata": {
    "id": "NW9pAhpqM4Gy"
   },
   "outputs": [],
   "source": [
    "one_hot_test=tf.one_hot(y_test,depth=2)\n",
    "one_hot_train=tf.one_hot(y_train,depth=2)"
   ]
  },
  {
   "cell_type": "markdown",
   "metadata": {
    "id": "Umw0P6YOo2yL"
   },
   "source": [
    "### 4.2 Build The Architecture Of The Model"
   ]
  },
  {
   "cell_type": "code",
   "execution_count": 37,
   "metadata": {
    "id": "Px2SDjEzaDQg"
   },
   "outputs": [],
   "source": [
    "model = tf.keras.Sequential([\n",
    "        Input([3003]),\n",
    "        BatchNormalization(),\n",
    "        Dense(600,activation='relu',kernel_initializer=initializers.glorot_normal(seed=4)),\n",
    "        Dropout(0.25),\n",
    "        BatchNormalization(),\n",
    "        Dense(300,activation='relu',kernel_initializer=initializers.glorot_normal(seed=4)),\n",
    "        Dropout(0.25),\n",
    "        Dense(150,activation='relu',kernel_initializer=initializers.glorot_normal(seed=4)),\n",
    "        Dropout(0.25),\n",
    "        Dense(50,activation='relu',kernel_initializer=initializers.glorot_normal(seed=4)),\n",
    "        Dense(2,activation='softmax',kernel_initializer=initializers.glorot_normal(seed=4))\n",
    "])"
   ]
  },
  {
   "cell_type": "code",
   "execution_count": 38,
   "metadata": {
    "colab": {
     "base_uri": "https://localhost:8080/"
    },
    "id": "GqjraIOHa-lp",
    "outputId": "7253e834-2388-4ea6-b04b-ddc5f12ee8a2"
   },
   "outputs": [
    {
     "name": "stdout",
     "output_type": "stream",
     "text": [
      "Model: \"sequential\"\n",
      "_________________________________________________________________\n",
      "Layer (type)                 Output Shape              Param #   \n",
      "=================================================================\n",
      "batch_normalization (BatchNo (None, 3003)              12012     \n",
      "_________________________________________________________________\n",
      "dense (Dense)                (None, 600)               1802400   \n",
      "_________________________________________________________________\n",
      "dropout (Dropout)            (None, 600)               0         \n",
      "_________________________________________________________________\n",
      "batch_normalization_1 (Batch (None, 600)               2400      \n",
      "_________________________________________________________________\n",
      "dense_1 (Dense)              (None, 300)               180300    \n",
      "_________________________________________________________________\n",
      "dropout_1 (Dropout)          (None, 300)               0         \n",
      "_________________________________________________________________\n",
      "dense_2 (Dense)              (None, 150)               45150     \n",
      "_________________________________________________________________\n",
      "dropout_2 (Dropout)          (None, 150)               0         \n",
      "_________________________________________________________________\n",
      "dense_3 (Dense)              (None, 50)                7550      \n",
      "_________________________________________________________________\n",
      "dense_4 (Dense)              (None, 2)                 102       \n",
      "=================================================================\n",
      "Total params: 2,049,914\n",
      "Trainable params: 2,042,708\n",
      "Non-trainable params: 7,206\n",
      "_________________________________________________________________\n"
     ]
    }
   ],
   "source": [
    "model.summary()"
   ]
  },
  {
   "cell_type": "code",
   "execution_count": 39,
   "metadata": {
    "colab": {
     "base_uri": "https://localhost:8080/"
    },
    "id": "suzTZpjGGAu6",
    "outputId": "f65b23d9-fdab-4b4a-a776-1331bc94107c"
   },
   "outputs": [
    {
     "name": "stdout",
     "output_type": "stream",
     "text": [
      "Epoch 1/80\n",
      "113/113 [==============================] - 3s 25ms/step - loss: 0.6744 - accuracy: 0.6328\n",
      "Epoch 2/80\n",
      "113/113 [==============================] - 3s 25ms/step - loss: 0.5534 - accuracy: 0.7169\n",
      "Epoch 3/80\n",
      "113/113 [==============================] - 3s 25ms/step - loss: 0.5269 - accuracy: 0.7399\n",
      "Epoch 4/80\n",
      "113/113 [==============================] - 3s 25ms/step - loss: 0.4796 - accuracy: 0.7677\n",
      "Epoch 5/80\n",
      "113/113 [==============================] - 3s 24ms/step - loss: 0.4521 - accuracy: 0.7849\n",
      "Epoch 6/80\n",
      "113/113 [==============================] - 3s 25ms/step - loss: 0.4147 - accuracy: 0.8068\n",
      "Epoch 7/80\n",
      "113/113 [==============================] - 3s 25ms/step - loss: 0.4078 - accuracy: 0.8007\n",
      "Epoch 8/80\n",
      "113/113 [==============================] - 3s 25ms/step - loss: 0.3884 - accuracy: 0.8210\n",
      "Epoch 9/80\n",
      "113/113 [==============================] - 3s 25ms/step - loss: 0.3614 - accuracy: 0.8340\n",
      "Epoch 10/80\n",
      "113/113 [==============================] - 3s 25ms/step - loss: 0.3699 - accuracy: 0.8279\n",
      "Epoch 11/80\n",
      "113/113 [==============================] - 3s 25ms/step - loss: 0.3579 - accuracy: 0.8340\n",
      "Epoch 12/80\n",
      "113/113 [==============================] - 3s 25ms/step - loss: 0.3378 - accuracy: 0.8426\n",
      "Epoch 13/80\n",
      "113/113 [==============================] - 3s 25ms/step - loss: 0.3293 - accuracy: 0.8515\n",
      "Epoch 14/80\n",
      "113/113 [==============================] - 3s 27ms/step - loss: 0.3169 - accuracy: 0.8460\n",
      "Epoch 15/80\n",
      "113/113 [==============================] - 3s 25ms/step - loss: 0.3105 - accuracy: 0.8548\n",
      "Epoch 16/80\n",
      "113/113 [==============================] - 3s 25ms/step - loss: 0.3052 - accuracy: 0.8604\n",
      "Epoch 17/80\n",
      "113/113 [==============================] - 3s 25ms/step - loss: 0.2944 - accuracy: 0.8676\n",
      "Epoch 18/80\n",
      "113/113 [==============================] - 3s 25ms/step - loss: 0.2864 - accuracy: 0.8668\n",
      "Epoch 19/80\n",
      "113/113 [==============================] - 3s 25ms/step - loss: 0.2693 - accuracy: 0.8773\n",
      "Epoch 20/80\n",
      "113/113 [==============================] - 3s 24ms/step - loss: 0.2580 - accuracy: 0.8859\n",
      "Epoch 21/80\n",
      "113/113 [==============================] - 3s 26ms/step - loss: 0.2600 - accuracy: 0.8787\n",
      "Epoch 22/80\n",
      "113/113 [==============================] - 3s 27ms/step - loss: 0.2590 - accuracy: 0.8851\n",
      "Epoch 23/80\n",
      "113/113 [==============================] - 3s 26ms/step - loss: 0.2370 - accuracy: 0.8937\n",
      "Epoch 24/80\n",
      "113/113 [==============================] - 3s 27ms/step - loss: 0.2528 - accuracy: 0.8873\n",
      "Epoch 25/80\n",
      "113/113 [==============================] - 3s 25ms/step - loss: 0.2399 - accuracy: 0.8970\n",
      "Epoch 26/80\n",
      "113/113 [==============================] - 3s 26ms/step - loss: 0.2485 - accuracy: 0.8920\n",
      "Epoch 27/80\n",
      "113/113 [==============================] - 3s 26ms/step - loss: 0.2341 - accuracy: 0.8979\n",
      "Epoch 28/80\n",
      "113/113 [==============================] - 3s 26ms/step - loss: 0.2275 - accuracy: 0.8937\n",
      "Epoch 29/80\n",
      "113/113 [==============================] - 3s 25ms/step - loss: 0.2206 - accuracy: 0.9051\n",
      "Epoch 30/80\n",
      "113/113 [==============================] - 3s 24ms/step - loss: 0.2064 - accuracy: 0.9123\n",
      "Epoch 31/80\n",
      "113/113 [==============================] - 3s 24ms/step - loss: 0.2206 - accuracy: 0.9062\n",
      "Epoch 32/80\n",
      "113/113 [==============================] - 3s 24ms/step - loss: 0.2223 - accuracy: 0.9059\n",
      "Epoch 33/80\n",
      "113/113 [==============================] - 3s 25ms/step - loss: 0.2096 - accuracy: 0.9106\n",
      "Epoch 34/80\n",
      "113/113 [==============================] - 3s 25ms/step - loss: 0.2020 - accuracy: 0.9106\n",
      "Epoch 35/80\n",
      "113/113 [==============================] - 3s 24ms/step - loss: 0.2053 - accuracy: 0.9131\n",
      "Epoch 36/80\n",
      "113/113 [==============================] - 3s 25ms/step - loss: 0.1897 - accuracy: 0.9131\n",
      "Epoch 37/80\n",
      "113/113 [==============================] - 3s 25ms/step - loss: 0.1962 - accuracy: 0.9081\n",
      "Epoch 38/80\n",
      "113/113 [==============================] - 3s 25ms/step - loss: 0.1914 - accuracy: 0.9187\n",
      "Epoch 39/80\n",
      "113/113 [==============================] - 3s 25ms/step - loss: 0.1940 - accuracy: 0.9142\n",
      "Epoch 40/80\n",
      "113/113 [==============================] - 3s 26ms/step - loss: 0.1900 - accuracy: 0.9237\n",
      "Epoch 41/80\n",
      "113/113 [==============================] - 3s 26ms/step - loss: 0.1974 - accuracy: 0.9140\n",
      "Epoch 42/80\n",
      "113/113 [==============================] - 3s 26ms/step - loss: 0.1799 - accuracy: 0.9251\n",
      "Epoch 43/80\n",
      "113/113 [==============================] - 3s 25ms/step - loss: 0.1759 - accuracy: 0.9273\n",
      "Epoch 44/80\n",
      "113/113 [==============================] - 3s 26ms/step - loss: 0.1648 - accuracy: 0.9278\n",
      "Epoch 45/80\n",
      "113/113 [==============================] - 3s 26ms/step - loss: 0.1632 - accuracy: 0.9326\n",
      "Epoch 46/80\n",
      "113/113 [==============================] - 3s 26ms/step - loss: 0.1701 - accuracy: 0.9284\n",
      "Epoch 47/80\n",
      "113/113 [==============================] - 3s 26ms/step - loss: 0.1669 - accuracy: 0.9295\n",
      "Epoch 48/80\n",
      "113/113 [==============================] - 3s 25ms/step - loss: 0.1635 - accuracy: 0.9262\n",
      "Epoch 49/80\n",
      "113/113 [==============================] - 3s 25ms/step - loss: 0.1701 - accuracy: 0.9331\n",
      "Epoch 50/80\n",
      "113/113 [==============================] - 3s 26ms/step - loss: 0.1504 - accuracy: 0.9384\n",
      "Epoch 51/80\n",
      "113/113 [==============================] - 3s 25ms/step - loss: 0.1620 - accuracy: 0.9314\n",
      "Epoch 52/80\n",
      "113/113 [==============================] - 3s 25ms/step - loss: 0.1539 - accuracy: 0.9381\n",
      "Epoch 53/80\n",
      "113/113 [==============================] - 3s 25ms/step - loss: 0.1669 - accuracy: 0.9298\n",
      "Epoch 54/80\n",
      "113/113 [==============================] - 3s 25ms/step - loss: 0.1486 - accuracy: 0.9406\n",
      "Epoch 55/80\n",
      "113/113 [==============================] - 3s 25ms/step - loss: 0.1587 - accuracy: 0.9342\n",
      "Epoch 56/80\n",
      "113/113 [==============================] - 3s 25ms/step - loss: 0.1479 - accuracy: 0.9351\n",
      "Epoch 57/80\n",
      "113/113 [==============================] - 3s 25ms/step - loss: 0.1428 - accuracy: 0.9431\n",
      "Epoch 58/80\n",
      "113/113 [==============================] - 3s 25ms/step - loss: 0.1439 - accuracy: 0.9387\n",
      "Epoch 59/80\n",
      "113/113 [==============================] - 3s 25ms/step - loss: 0.1438 - accuracy: 0.9420\n",
      "Epoch 60/80\n",
      "113/113 [==============================] - 3s 25ms/step - loss: 0.1466 - accuracy: 0.9409\n",
      "Epoch 61/80\n",
      "113/113 [==============================] - 3s 25ms/step - loss: 0.1546 - accuracy: 0.9376\n",
      "Epoch 62/80\n",
      "113/113 [==============================] - 3s 25ms/step - loss: 0.1341 - accuracy: 0.9484\n",
      "Epoch 63/80\n",
      "113/113 [==============================] - 3s 25ms/step - loss: 0.1189 - accuracy: 0.9534\n",
      "Epoch 64/80\n",
      "113/113 [==============================] - 3s 25ms/step - loss: 0.1326 - accuracy: 0.9489\n",
      "Epoch 65/80\n",
      "113/113 [==============================] - 3s 25ms/step - loss: 0.1348 - accuracy: 0.9425\n",
      "Epoch 66/80\n",
      "113/113 [==============================] - 3s 25ms/step - loss: 0.1180 - accuracy: 0.9506\n",
      "Epoch 67/80\n",
      "113/113 [==============================] - 3s 25ms/step - loss: 0.1367 - accuracy: 0.9464\n",
      "Epoch 68/80\n",
      "113/113 [==============================] - 3s 25ms/step - loss: 0.1281 - accuracy: 0.9489\n",
      "Epoch 69/80\n",
      "113/113 [==============================] - 3s 25ms/step - loss: 0.1301 - accuracy: 0.9525\n",
      "Epoch 70/80\n",
      "113/113 [==============================] - 3s 25ms/step - loss: 0.1347 - accuracy: 0.9470\n",
      "Epoch 71/80\n",
      "113/113 [==============================] - 3s 26ms/step - loss: 0.1187 - accuracy: 0.9514\n",
      "Epoch 72/80\n",
      "113/113 [==============================] - 3s 25ms/step - loss: 0.1272 - accuracy: 0.9506\n",
      "Epoch 73/80\n",
      "113/113 [==============================] - 3s 25ms/step - loss: 0.1145 - accuracy: 0.9506\n",
      "Epoch 74/80\n",
      "113/113 [==============================] - 3s 25ms/step - loss: 0.1342 - accuracy: 0.9470\n",
      "Epoch 75/80\n",
      "113/113 [==============================] - 3s 25ms/step - loss: 0.1238 - accuracy: 0.9517\n",
      "Epoch 76/80\n",
      "113/113 [==============================] - 3s 26ms/step - loss: 0.1308 - accuracy: 0.9450\n",
      "Epoch 77/80\n",
      "113/113 [==============================] - 3s 25ms/step - loss: 0.1207 - accuracy: 0.9520\n",
      "Epoch 78/80\n",
      "113/113 [==============================] - 3s 25ms/step - loss: 0.1184 - accuracy: 0.9528\n",
      "Epoch 79/80\n",
      "113/113 [==============================] - 3s 26ms/step - loss: 0.1104 - accuracy: 0.9556\n",
      "Epoch 80/80\n",
      "113/113 [==============================] - 3s 26ms/step - loss: 0.1111 - accuracy: 0.9556\n",
      "training  model takes 231.188 seconds\n"
     ]
    }
   ],
   "source": [
    "start_time = time.time()\n",
    "model.compile(loss='binary_crossentropy',optimizer = Adam(lr=0.001),metrics=['accuracy'])\n",
    "model_history = model.fit(X_train,one_hot_train,epochs = 80)\n",
    "print(\"training  model takes %s seconds\" % round((time.time() - start_time),3))"
   ]
  },
  {
   "cell_type": "markdown",
   "metadata": {
    "id": "AXg36i7dr6Sn"
   },
   "source": [
    "### 4.3 Visualize The Training Process"
   ]
  },
  {
   "cell_type": "code",
   "execution_count": 40,
   "metadata": {
    "colab": {
     "base_uri": "https://localhost:8080/",
     "height": 282
    },
    "id": "NdVqiKQOq4EK",
    "outputId": "ee90f058-c96d-45a6-d992-027c9c6eae44"
   },
   "outputs": [
    {
     "data": {
      "text/plain": [
       "<matplotlib.legend.Legend at 0x7f4000d226d8>"
      ]
     },
     "execution_count": 40,
     "metadata": {
      "tags": []
     },
     "output_type": "execute_result"
    },
    {
     "data": {
      "image/png": "[encoded data removed]",
      "text/plain": [
       "<Figure size 432x288 with 1 Axes>"
      ]
     },
     "metadata": {
      "needs_background": "light",
      "tags": []
     },
     "output_type": "display_data"
    }
   ],
   "source": [
    "his_plot = pd.DataFrame(model_history.history)\n",
    "plt.plot(his_plot['accuracy'],label = 'Accuracy')\n",
    "plt.legend()"
   ]
  },
  {
   "cell_type": "code",
   "execution_count": 41,
   "metadata": {
    "colab": {
     "base_uri": "https://localhost:8080/",
     "height": 285
    },
    "id": "nJ7tV86PrGGc",
    "outputId": "3935361d-6454-439d-e61c-23857e6ce076"
   },
   "outputs": [
    {
     "data": {
      "text/plain": [
       "<matplotlib.legend.Legend at 0x7f3fc7f15f28>"
      ]
     },
     "execution_count": 41,
     "metadata": {
      "tags": []
     },
     "output_type": "execute_result"
    },
    {
     "data": {
      "image/png": "[encoded data removed]",
      "text/plain": [
       "<Figure size 432x288 with 1 Axes>"
      ]
     },
     "metadata": {
      "needs_background": "light",
      "tags": []
     },
     "output_type": "display_data"
    }
   ],
   "source": [
    "plt.plot(his_plot['loss'],label = 'loss')\n",
    "plt.legend()"
   ]
  },
  {
   "cell_type": "markdown",
   "metadata": {
    "id": "Hie-Srt8pYcP"
   },
   "source": [
    "### 4.4 Evaluate The Model On Test Accuracy and AUC"
   ]
  },
  {
   "cell_type": "code",
   "execution_count": 44,
   "metadata": {
    "colab": {
     "base_uri": "https://localhost:8080/"
    },
    "id": "kXf3zJ0pUNCh",
    "outputId": "897ba2e1-1ebb-4305-ca4b-71a97d978d92"
   },
   "outputs": [
    {
     "name": "stdout",
     "output_type": "stream",
     "text": [
      "Testing model on train_dataset takes 0.687 seconds\n",
      "Testing model on test_dataset takes 0.24 seconds\n",
      "Train dataset -- Accuracy:  0.99\n",
      "Train dataset -- AUC:  1.00\n",
      "Test dataset -- Accuracy:  0.91\n",
      "Test dataset -- AUC:  0.97\n"
     ]
    }
   ],
   "source": [
    "# Test on the balanced dataset\n",
    "start_time = time.time()\n",
    "y_fitprob = model.predict(X_train)\n",
    "y_fit = np.argmax(y_fitprob, axis=-1)\n",
    "print(\"Testing model on train_dataset takes %s seconds\" % round((time.time() - start_time),3))\n",
    "\n",
    "start_time = time.time()\n",
    "y_predprob = model.predict(X_test)\n",
    "y_pred = np.argmax(y_predprob, axis=-1)\n",
    "print(\"Testing model on test_dataset takes %s seconds\" % round((time.time() - start_time),3))\n",
    "\n",
    "print(\"Train dataset -- Accuracy:  %.2f\" % sklearn.metrics.accuracy_score(y_train, y_fit))\n",
    "print(\"Train dataset -- AUC:  %.2f\" % sklearn.metrics.roc_auc_score(one_hot_train, y_fitprob))\n",
    "print(\"Test dataset -- Accuracy:  %.2f\" % sklearn.metrics.accuracy_score(y_test,y_pred))\n",
    "print(\"Test dataset -- AUC:  %.2f\" % sklearn.metrics.roc_auc_score(one_hot_test, y_predprob))"
   ]
  },
  {
   "cell_type": "code",
   "execution_count": 45,
   "metadata": {
    "colab": {
     "base_uri": "https://localhost:8080/"
    },
    "id": "_ATMSr4UiQLj",
    "outputId": "270eb7b9-9902-4818-c5cb-1186ae248166"
   },
   "outputs": [
    {
     "name": "stdout",
     "output_type": "stream",
     "text": [
      "Testing model on original dataset takes 0.509 seconds\n",
      "Train dataset -- Accuracy:  0.91\n",
      "Train dataset -- AUC:  0.98\n"
     ]
    }
   ],
   "source": [
    "# Test on the original dataset\n",
    "\n",
    "scaler = StandardScaler()\n",
    "scaler.fit(Ori_X)\n",
    "ori_scale = scaler.transform(Ori_X)\n",
    "one_hot_o = tf.one_hot(Ori_Y,depth=2)\n",
    "\n",
    "start_time = time.time()\n",
    "y_fitprob_o = model.predict(ori_scale)\n",
    "y_fit = np.argmax(y_fitprob_o, axis=-1)\n",
    "print(\"Testing model on original dataset takes %s seconds\" % round((time.time() - start_time),3))\n",
    "\n",
    "print(\"Train dataset -- Accuracy:  %.2f\" % sklearn.metrics.accuracy_score(Ori_Y, y_fit))\n",
    "print(\"Train dataset -- AUC:  %.2f\" % sklearn.metrics.roc_auc_score(one_hot_o, y_fitprob_o))"
   ]
  },
  {
   "cell_type": "markdown",
   "metadata": {
    "id": "1vZWeqjFpfLs"
   },
   "source": [
    "We can see that the model have 0.9-0.91 Test Auccuracy and 0.97-0.98 AUC. It can generalize well."
   ]
  },
  {
   "cell_type": "markdown",
   "metadata": {
    "id": "WWo4A_visJzI"
   },
   "source": [
    "### 4.5 Save The Model"
   ]
  },
  {
   "cell_type": "code",
   "execution_count": null,
   "metadata": {
    "colab": {
     "base_uri": "https://localhost:8080/"
    },
    "id": "r0TfKYg7mV77",
    "outputId": "5396ef22-4320-45fc-f4aa-f3a45b85a258"
   },
   "outputs": [
    {
     "name": "stdout",
     "output_type": "stream",
     "text": [
      "WARNING:tensorflow:From /usr/local/lib/python3.6/dist-packages/tensorflow/python/training/tracking/tracking.py:111: Model.state_updates (from tensorflow.python.keras.engine.training) is deprecated and will be removed in a future version.\n",
      "Instructions for updating:\n",
      "This property should not be used in TensorFlow 2.0, as updates are applied automatically.\n",
      "WARNING:tensorflow:From /usr/local/lib/python3.6/dist-packages/tensorflow/python/training/tracking/tracking.py:111: Layer.updates (from tensorflow.python.keras.engine.base_layer) is deprecated and will be removed in a future version.\n",
      "Instructions for updating:\n",
      "This property should not be used in TensorFlow 2.0, as updates are applied automatically.\n",
      "INFO:tensorflow:Assets written to: /content/assets\n"
     ]
    }
   ],
   "source": [
    "# Save the model\n",
    "model.save(\"DNN\")"
   ]
  },
  {
   "cell_type": "markdown",
   "metadata": {
    "id": "NAwxO1c6sp2J"
   },
   "source": [
    "# **Step 5 Predict Test Data**\n",
    "* If you skip the previous steps and want to predict test data immediately, please import the required dataset."
   ]
  },
  {
   "cell_type": "code",
   "execution_count": null,
   "metadata": {
    "id": "2x3Szthov741"
   },
   "outputs": [],
   "source": [
    "import numpy as np\n",
    "import scipy.io\n",
    "import sklearn.metrics\n",
    "import sklearn \n",
    "import os\n",
    "import random\n",
    "import pandas as pd\n",
    "import time\n",
    "import pickle\n",
    "from sklearn.preprocessing import StandardScaler\n",
    "import keras.models\n",
    "import tensorflow as tf"
   ]
  },
  {
   "cell_type": "markdown",
   "metadata": {
    "id": "BzhiCvIDzOVG"
   },
   "source": [
    "* Run the function to read the test dataset"
   ]
  },
  {
   "cell_type": "code",
   "execution_count": null,
   "metadata": {
    "id": "EfkUDfpHspmT"
   },
   "outputs": [],
   "source": [
    "def read_test_data(unzipped_folder_path,n):\n",
    "\n",
    "  # read points\n",
    "  for i in range(1,n+1):\n",
    "    p_path = str(i).zfill(4)+'.mat'\n",
    "    mat = scipy.io.loadmat(unzipped_folder_path+'/points/'+p_path)\n",
    "    if 'faceCoordinatesUnwarped' in mat:\n",
    "      cords = mat['faceCoordinatesUnwarped'] \n",
    "    else:\n",
    "      cords = mat['faceCoordinates2']\n",
    "\n",
    "    distance = sklearn.metrics.pairwise_distances(cords)       \n",
    "          # compute the pairwise distances in each mat\n",
    "    flatten_distance = distance[np.triu_indices(len(cords[:,0]), k = 1)]    \n",
    "          # stretch the upper triangle of the symmetric matrix \n",
    "          # to a long array with dimension 3003\n",
    "          # 3003 = (1+77)*78/2\n",
    "    if i==1:\n",
    "      distances = np.mat([flatten_distance])\n",
    "    else:\n",
    "      distances = np.append(distances, np.mat([flatten_distance]), axis = 0)\n",
    "  return (distances)\n"
   ]
  },
  {
   "cell_type": "markdown",
   "metadata": {
    "id": "z7RGwo6OzUtA"
   },
   "source": [
    "* Set path to the unfolded test dataset and path to where you want to store the output csv file."
   ]
  },
  {
   "cell_type": "code",
   "execution_count": null,
   "metadata": {
    "id": "ynp2okyJuIiV"
   },
   "outputs": [],
   "source": [
    "test_data_path = ''\n",
    "output_labels_path = ''"
   ]
  },
  {
   "cell_type": "markdown",
   "metadata": {
    "id": "lXsjCEc-zn-_"
   },
   "source": [
    "* Read the data"
   ]
  },
  {
   "cell_type": "code",
   "execution_count": null,
   "metadata": {
    "id": "VH50Bg1NuTGF"
   },
   "outputs": [],
   "source": [
    "start_time = time.time()\n",
    "test_distances = read_test_data(test_data_path,n)\n",
    "print(\"Read the training dataset takes %s seconds\" % round((time.time() - start_time),3))"
   ]
  },
  {
   "cell_type": "markdown",
   "metadata": {
    "id": "IJb6hBSNz9AX"
   },
   "source": [
    "* Scale the data"
   ]
  },
  {
   "cell_type": "code",
   "execution_count": null,
   "metadata": {
    "id": "m3g4xF94vFX4"
   },
   "outputs": [],
   "source": [
    "# Scale the input distances\n",
    "scaler = StandardScaler()\n",
    "scaler.fit(test_distances)\n",
    "test_distances_scale = scaler.transform(test_distances)"
   ]
  },
  {
   "cell_type": "markdown",
   "metadata": {
    "id": "D3M3FVh_0A1X"
   },
   "source": [
    "* Load the model"
   ]
  },
  {
   "cell_type": "code",
   "execution_count": null,
   "metadata": {
    "id": "FEuf7c_htF-k"
   },
   "outputs": [],
   "source": [
    "# Load the model\n",
    "predict_model = keras.models.load_model(\"DNN\")"
   ]
  },
  {
   "cell_type": "markdown",
   "metadata": {
    "id": "QNFxGYHi0DKW"
   },
   "source": [
    " * Predict the labels"
   ]
  },
  {
   "cell_type": "code",
   "execution_count": null,
   "metadata": {
    "id": "NNGCQnrvzCaZ"
   },
   "outputs": [],
   "source": [
    "start_time = time.time()\n",
    "test_predprob = predict_model.predict(test_distances_scale)\n",
    "test_classes = np.argmax(test_predprob, axis=-1)\n",
    "print(\"Testing model on test dataset takes %s seconds\" % round((time.time() - start_time),3))"
   ]
  },
  {
   "cell_type": "markdown",
   "metadata": {
    "id": "RbGShZs403tx"
   },
   "source": [
    "* Write the labels to csv"
   ]
  },
  {
   "cell_type": "code",
   "execution_count": null,
   "metadata": {
    "id": "hf5-n5FV028p"
   },
   "outputs": [],
   "source": [
    "test_labels_pd = pd.DataFrame(test_classes) \n",
    "test_labels_pd.to_csv(output_labels_path)"
   ]
  }
 ],
 "metadata": {
  "colab": {
   "collapsed_sections": [],
   "name": "Main.ipynb",
   "provenance": []
  },
  "kernelspec": {
   "display_name": "Python 3",
   "language": "python",
   "name": "python3"
  },
  "language_info": {
   "codemirror_mode": {
    "name": "ipython",
    "version": 3
   },
   "file_extension": ".py",
   "mimetype": "text/x-python",
   "name": "python",
   "nbconvert_exporter": "python",
   "pygments_lexer": "ipython3",
   "version": "3.8.3"
  }
 },
 "nbformat": 4,
 "nbformat_minor": 1
}
