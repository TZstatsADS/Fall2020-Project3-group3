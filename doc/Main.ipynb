{
 "cells": [
  {
   "cell_type": "markdown",
   "metadata": {
    "id": "6_NHMkvjfHzt"
   },
   "source": [
    "# **Step 0 Import Required Packages**"
   ]
  },
  {
   "cell_type": "code",
   "execution_count": 27,
   "metadata": {
    "id": "naXV8-egcjbd"
   },
   "outputs": [],
   "source": [
    "import numpy as np\n",
    "import scipy.io\n",
    "import sklearn.metrics\n",
    "import sklearn \n",
    "import os\n",
    "import random\n",
    "import pandas as pd\n",
    "import time\n",
    "from sklearn.model_selection import train_test_split, GridSearchCV\n",
    "from sklearn.ensemble import GradientBoostingClassifier\n",
    "from sklearn.metrics import classification_report, confusion_matrix, roc_auc_score\n",
    "import pickle\n",
    "from sklearn.preprocessing import StandardScaler\n",
    "from keras import Sequential\n",
    "from keras.layers import Dense, Activation, Flatten, Input, Dropout, BatchNormalization\n",
    "from keras.models import Model\n",
    "from keras import initializers\n",
    "from keras.optimizers import Adam\n",
    "import matplotlib.pyplot as plt\n",
    "import tensorflow as tf"
   ]
  },
  {
   "cell_type": "markdown",
   "metadata": {
    "id": "Bsorsa-ab9Rk"
   },
   "source": [
    "# **Step 1 Read The Files**"
   ]
  },
  {
   "cell_type": "code",
   "execution_count": 2,
   "metadata": {
    "id": "f_bdPYyodHRs"
   },
   "outputs": [],
   "source": [
    "# When using Colab, you can upload train_set.zip in the content folder and run this kernel.\n",
    "# !unzip -qq /content/train_set.zip "
   ]
  },
  {
   "cell_type": "code",
   "execution_count": 28,
   "metadata": {
    "id": "4AnQ8SB__v-u"
   },
   "outputs": [],
   "source": [
    "# Set your directory to read the data, default is the directory in colab.\n",
    "unzipped_folder_path = 'C:/Users/wannian/Desktop/face/train_set'"
   ]
  },
  {
   "cell_type": "code",
   "execution_count": 29,
   "metadata": {
    "id": "EmDQUUOO_yT1"
   },
   "outputs": [],
   "source": [
    "def read_data(unzipped_folder_path):\n",
    "  \n",
    "  # read labels\n",
    "  labels = pd.read_csv(unzipped_folder_path+'/label.csv')\n",
    "  y= labels['label'].to_numpy()\n",
    "\n",
    "  # read points\n",
    "  n = 3000\n",
    "  for i in range(1,n+1):\n",
    "    p_path = str(i).zfill(4)+'.mat'\n",
    "    mat = scipy.io.loadmat(unzipped_folder_path+'/points/'+p_path)\n",
    "    if 'faceCoordinatesUnwarped' in mat:\n",
    "      cords = mat['faceCoordinatesUnwarped'] \n",
    "    else:\n",
    "      cords = mat['faceCoordinates2']\n",
    "\n",
    "    distance = sklearn.metrics.pairwise_distances(cords)       \n",
    "          # compute the pairwise distances in each mat\n",
    "    flatten_distance = distance[np.triu_indices(len(cords[:,0]), k = 1)]    \n",
    "          # stretch the upper triangle of the symmetric matrix \n",
    "          # to a long array with dimension 3003\n",
    "          # 3003 = (1+77)*78/2\n",
    "    if i==1:\n",
    "      distances = np.mat([flatten_distance])\n",
    "    else:\n",
    "      distances = np.append(distances, np.mat([flatten_distance]), axis = 0)\n",
    "  return (distances, y)"
   ]
  },
  {
   "cell_type": "code",
   "execution_count": 30,
   "metadata": {
    "colab": {
     "base_uri": "https://localhost:8080/"
    },
    "id": "j3sddESRgvbO",
    "outputId": "d6765a5f-dbce-42fc-b17c-4b1aa8daa835"
   },
   "outputs": [
    {
     "name": "stdout",
     "output_type": "stream",
     "text": [
      "Read the original dataset takes 78.222 seconds\n"
     ]
    }
   ],
   "source": [
    "read_time_start=time.time()\n",
    "Ori_X, Ori_Y = read_data(unzipped_folder_path)\n",
    "print(\"Read the original dataset takes %s seconds\" % round((time.time() - read_time_start),3))"
   ]
  },
  {
   "cell_type": "code",
   "execution_count": 31,
   "metadata": {
    "colab": {
     "base_uri": "https://localhost:8080/"
    },
    "id": "eM3m9Hi6_2f1",
    "outputId": "6c9c1aab-8239-4310-ab79-bb3bfae3f56f"
   },
   "outputs": [
    {
     "data": {
      "text/plain": [
       "((3000, 3003), (3000,))"
      ]
     },
     "execution_count": 31,
     "metadata": {},
     "output_type": "execute_result"
    }
   ],
   "source": [
    "Ori_X.shape, Ori_Y.shape \n",
    "# should be (3000,3003) and (3000,) \n",
    "# which means 3000 number of cases \n",
    "# and 3003 numbers of pairwise distances\n",
    "# of 78 fiducial points. \n",
    "# 3003 = (1+77)*78/2"
   ]
  },
  {
   "cell_type": "markdown",
   "metadata": {
    "id": "wUfrQ1rTjBHs"
   },
   "source": [
    "# **Step 2 Data Preprocessing For the Imbalanced Dataset & Generate New Data to Improve Learning Accuracy** \n",
    "## From the following analysis, we found that the Original Dataset is unbalanced. So we decided to generate new data for the class with smaller number of original samples. By generating new data, we not only balanced the data with equal number of samples in different class, but also create new data to help improve the learning accuracy.\n",
    "\n",
    "* Because the number of Class 1 samples is less than the number of Class 0 samples, we decided to add more data in Class 1.\n",
    "* The way we generate more data is that we randomly select two original cordinates of fiducial points in Class 1 and average them to generate new data of fiducial points and then calculate its pairwise distances and give it the label of 1. \n",
    "* It would make sense cause our models believe that the fiducial points in the same class will generate similar distribution in pairwise distances."
   ]
  },
  {
   "cell_type": "code",
   "execution_count": 32,
   "metadata": {
    "colab": {
     "base_uri": "https://localhost:8080/"
    },
    "id": "Ef2jCi9po8Kn",
    "outputId": "a0ad0148-e3d6-4d88-c5f0-a2c06a47c045"
   },
   "outputs": [
    {
     "name": "stdout",
     "output_type": "stream",
     "text": [
      "The number of class 0 is 2402\n",
      "The number of class 1 is 598\n",
      "Only 19.93% of total dataset are class 1. \n",
      "So, it is an unbalanced dataset, we need to do some data preprocessing.\n",
      "Here, we are using oversampling to generate more class 1 datasets.\n"
     ]
    }
   ],
   "source": [
    "# Analyzing the data\n",
    "n = Ori_Y.shape[0]\n",
    "print('The number of class 0 is ' + str(n-sum(Ori_Y)))\n",
    "print('The number of class 1 is ' + str(sum(Ori_Y)))\n",
    "print('Only %.2f'% (sum(Ori_Y)/n*100) + '% of total dataset are class 1. ')\n",
    "print('So, it is an unbalanced dataset, we need to do some data preprocessing.')\n",
    "print('Here, we are using oversampling to generate more class 1 datasets.')"
   ]
  },
  {
   "cell_type": "code",
   "execution_count": 33,
   "metadata": {
    "id": "XZU3iWqS_XoL"
   },
   "outputs": [],
   "source": [
    "def data_preprocessing(Ori_X, Ori_Y, unzipped_folder_path):\n",
    "\n",
    "  # data preprocessing\n",
    "\n",
    "  distances = Ori_X\n",
    "  y = Ori_Y\n",
    "\n",
    "  n = y.shape[0]\n",
    "  mat_1 = np.add(np.where(y == 1),1)\n",
    "  n_oversample = (n-sum(y))-sum(y) \n",
    "    # how many samples do we need to generate\n",
    "\n",
    "  for i in range(n_oversample):\n",
    "    samples_index = random.sample(list(list(mat_1)[0]), 2)\n",
    "      # pick two random index of class 1 samples. \n",
    "\n",
    "    p_path = str(samples_index[0]).zfill(4)+'.mat'\n",
    "    mat = scipy.io.loadmat(unzipped_folder_path+'/points/'+p_path)\n",
    "    if 'faceCoordinatesUnwarped' in mat:\n",
    "      cords_0 = mat['faceCoordinatesUnwarped'] \n",
    "    else:\n",
    "      cords_0 = mat['faceCoordinates2']\n",
    "    \n",
    "    p_path = str(samples_index[1]).zfill(4)+'.mat'\n",
    "    mat = scipy.io.loadmat(unzipped_folder_path+'/points/'+p_path)\n",
    "    if 'faceCoordinatesUnwarped' in mat:\n",
    "      cords_1 = mat['faceCoordinatesUnwarped'] \n",
    "    else:\n",
    "      cords_1 = mat['faceCoordinates2']\n",
    "\n",
    "    cords_new = (cords_0 + cords_1) / 2 \n",
    "        # averaging two sets of cordinates to generate new set of cordinates\n",
    "    distance = sklearn.metrics.pairwise_distances(cords_new)\n",
    "        # compute the pairwise distances in each mat\n",
    "    flatten_distance = distance[np.triu_indices(len(cords_new[:,0]), k = 1)]\n",
    "        # stretch the upper triangle of the symmetric matrix \n",
    "        # to a long array with dimension 3003\n",
    "        # 3003 = (1+77)*78/2\n",
    "    \n",
    "    distances = np.append(distances, np.mat([flatten_distance]), axis = 0)\n",
    "    y = np.append(y,np.array(1))\n",
    "        # Append new data to the original dataset\n",
    "\n",
    "  return (distances, y) \n"
   ]
  },
  {
   "cell_type": "code",
   "execution_count": 34,
   "metadata": {
    "id": "YVZH9NK0xfIc"
   },
   "outputs": [],
   "source": [
    "Balanced_X, Blanced_Y = data_preprocessing(Ori_X, Ori_Y, unzipped_folder_path)"
   ]
  },
  {
   "cell_type": "code",
   "execution_count": 35,
   "metadata": {
    "colab": {
     "base_uri": "https://localhost:8080/"
    },
    "id": "EiKZwvM84VmY",
    "outputId": "034f5afe-96d4-47d6-f5ee-930b53208047"
   },
   "outputs": [
    {
     "data": {
      "text/plain": [
       "((4804, 3003), (4804,))"
      ]
     },
     "execution_count": 35,
     "metadata": {},
     "output_type": "execute_result"
    }
   ],
   "source": [
    "Balanced_X.shape, Blanced_Y.shape"
   ]
  },
  {
   "cell_type": "markdown",
   "metadata": {
    "id": "dBZyFkijAMu9"
   },
   "source": [
    "# **Step 3 Baseline Model: GBM on Original Dataset**"
   ]
  },
  {
   "cell_type": "markdown",
   "metadata": {
    "id": "aAgx39etFH_x"
   },
   "source": [
    "## 1. Create train and test features and labels"
   ]
  },
  {
   "cell_type": "code",
   "execution_count": 9,
   "metadata": {
    "colab": {
     "base_uri": "https://localhost:8080/"
    },
    "id": "jNuz2M2TAMA1",
    "outputId": "405fbbd3-dc78-4c51-a142-877f5bc23c7e"
   },
   "outputs": [
    {
     "name": "stdout",
     "output_type": "stream",
     "text": [
      "(2400, 3003) (600, 3003) (2400,) (600,)\n"
     ]
    }
   ],
   "source": [
    "#Create train and test features and labels from Balanced Data set\n",
    "train_features, test_features, train_labels, test_labels = train_test_split(Ori_X,Ori_Y,test_size=0.2,random_state=42)\n",
    "print(train_features.shape,test_features.shape,train_labels.shape,test_labels.shape)"
   ]
  },
  {
   "cell_type": "markdown",
   "metadata": {
    "id": "2Vc82e2qFERp"
   },
   "source": [
    "## 2. Train a GBM model using random parameters on original data set"
   ]
  },
  {
   "cell_type": "code",
   "execution_count": 10,
   "metadata": {
    "colab": {
     "base_uri": "https://localhost:8080/"
    },
    "id": "1U68Iry3E3Ff",
    "outputId": "998dbdc7-4bdf-4aa8-e664-6301b4c0dae0"
   },
   "outputs": [
    {
     "name": "stdout",
     "output_type": "stream",
     "text": [
      "Training  model takes 209.637 seconds\n"
     ]
    }
   ],
   "source": [
    "gbm = GradientBoostingClassifier(learning_rate=0.1,max_depth=2,n_estimators=100) \n",
    "start_time=time.time()\n",
    "gbm.fit(train_features, train_labels)\n",
    "print(\"Training  model takes %s seconds\" % round((time.time() - start_time),3))"
   ]
  },
  {
   "cell_type": "code",
   "execution_count": 11,
   "metadata": {
    "colab": {
     "base_uri": "https://localhost:8080/"
    },
    "id": "SYDl_uyGFwrY",
    "outputId": "6959a75b-bbd3-4b1d-f04e-fa3572ac69fa"
   },
   "outputs": [
    {
     "name": "stdout",
     "output_type": "stream",
     "text": [
      "Accuracy of the GBM on test set: 0.797\n",
      "Predicting test data takes 0.014 seconds\n",
      "Classification error rate: 0.20333333333333334\n",
      "Classification report \n",
      "               precision    recall  f1-score   support\n",
      "\n",
      "           0       0.80      0.98      0.88       461\n",
      "           1       0.74      0.19      0.30       139\n",
      "\n",
      "    accuracy                           0.80       600\n",
      "   macro avg       0.77      0.58      0.59       600\n",
      "weighted avg       0.79      0.80      0.75       600\n",
      "\n",
      "Confusion Matrix \n",
      " [[452   9]\n",
      " [113  26]]\n",
      "AUC is: 0.7992\n"
     ]
    }
   ],
   "source": [
    "print('Accuracy of the GBM on test set: {:.3f}'.format(gbm.score(test_features,test_labels)))\n",
    "\n",
    "start = time.time()\n",
    "prediction = gbm.predict(test_features)\n",
    "end = time.time()\n",
    "\n",
    "predprob = gbm.predict_proba(test_features)[:,1]\n",
    "\n",
    "print(\"Predicting test data takes %s seconds\" % round((end - start),3))\n",
    "print('Classification error rate:', np.mean(np.array(test_labels)!= prediction))\n",
    "print('Classification report \\n', classification_report(test_labels, prediction))\n",
    "\n",
    "#Since the class distribution is imbalanced/ skewed, we should look at the confusion matrix and AUC\n",
    "print('Confusion Matrix \\n', confusion_matrix(test_labels, prediction))\n",
    "print('AUC is: {:.4f}'.format(roc_auc_score(test_labels, predprob)))"
   ]
  },
  {
   "cell_type": "markdown",
   "metadata": {
    "id": "IT_0fXg5GBtS"
   },
   "source": [
    "## 3.GBM Cross Validation and Parameter tuning"
   ]
  },
  {
   "cell_type": "markdown",
   "metadata": {
    "id": "USuSZrfmGH6J"
   },
   "source": [
    "### 3.1 Cross Validation on GBM learning rate and max_depth"
   ]
  },
  {
   "cell_type": "code",
   "execution_count": 18,
   "metadata": {
    "id": "RPtgklSNGEvq"
   },
   "outputs": [],
   "source": [
    "# param_grid = {'learning_rate':[0.05,0.1], 'max_depth': [1,2,3]}\n",
    "# grid = GridSearchCV(GradientBoostingClassifier(),param_grid,refit=True,verbose=3)\n",
    "# grid.fit(train_features,train_labels)"
   ]
  },
  {
   "cell_type": "code",
   "execution_count": null,
   "metadata": {
    "id": "8BNI204qHIfg"
   },
   "outputs": [],
   "source": [
    "# print(grid.best_params_)\n",
    "# print(grid.best_estimator_)"
   ]
  },
  {
   "cell_type": "markdown",
   "metadata": {
    "id": "hC5cvfNIKhOL"
   },
   "source": [
    "best_params: {'learning_rate': 0.1, 'max_depth': 2}"
   ]
  },
  {
   "cell_type": "markdown",
   "metadata": {
    "id": "EkmBpdLsHPBP"
   },
   "source": [
    "### 3.2 CrossValidation on GBM with n_estimators"
   ]
  },
  {
   "cell_type": "code",
   "execution_count": null,
   "metadata": {
    "id": "YOYfIICNHOdY"
   },
   "outputs": [],
   "source": [
    "# param_grid2 = {'n_estimators':[50,100,250,500]} \n",
    "# grid2 = GridSearchCV(GradientBoostingClassifier(learning_rate = 0.1, max_depth = 2),param_grid= param_grid2,refit=True,verbose=3)\n",
    "# grid2.fit(train_features,train_labels)"
   ]
  },
  {
   "cell_type": "code",
   "execution_count": null,
   "metadata": {
    "id": "8XzhNYDJHfqg"
   },
   "outputs": [],
   "source": [
    "# print(grid2.best_params_)\n",
    "# print(grid2.best_estimator_)\n",
    "# grid2_predictions = grid2.predict(test_features)\n",
    "# print(confusion_matrix(test_labels,grid2_predictions))\n",
    "# print(classification_report(test_labels,grid2_predictions))"
   ]
  },
  {
   "cell_type": "markdown",
   "metadata": {
    "id": "xSjrXdgzKtSJ"
   },
   "source": [
    "best_params: {'n_estimators': 500}"
   ]
  },
  {
   "cell_type": "markdown",
   "metadata": {
    "id": "o5xm0s7CHr-4"
   },
   "source": [
    "### 3.3 Best GBM Model\n",
    "* Final Parameter for baseline GBM set at: learning_rate=0.1, n_estimators=500, max_depth=2"
   ]
  },
  {
   "cell_type": "code",
   "execution_count": 12,
   "metadata": {
    "colab": {
     "base_uri": "https://localhost:8080/"
    },
    "id": "8VoEJXO9HqCR",
    "outputId": "1301c140-71cb-4afd-941a-208dfc74587a"
   },
   "outputs": [
    {
     "name": "stdout",
     "output_type": "stream",
     "text": [
      "Training  model takes 1058.803 seconds\n"
     ]
    }
   ],
   "source": [
    "#Training baseline: GBM using best parameters found above through CV\n",
    "\n",
    "gbm_best = GradientBoostingClassifier(learning_rate=0.1,max_depth=2,n_estimators=500) \n",
    "start_time=time.time()\n",
    "gbm_best.fit(train_features, train_labels)\n",
    "print(\"Training  model takes %s seconds\" % round((time.time() - start_time),3))"
   ]
  },
  {
   "cell_type": "markdown",
   "metadata": {
    "id": "RXbML_3ZsT3N"
   },
   "source": [
    "### 3.4 Evaluate BGM Model"
   ]
  },
  {
   "cell_type": "code",
   "execution_count": 13,
   "metadata": {
    "colab": {
     "base_uri": "https://localhost:8080/"
    },
    "id": "GuPOFn3eIC5T",
    "outputId": "16984a50-f2b7-45ea-d600-275507c2ba9f"
   },
   "outputs": [
    {
     "name": "stdout",
     "output_type": "stream",
     "text": [
      "Accuracy of the GBM on test set: 0.817\n",
      "Predicting test data takes 0.031 seconds\n",
      "Classification error rate: 0.18333333333333332\n",
      "Classification report \n",
      "               precision    recall  f1-score   support\n",
      "\n",
      "           0       0.83      0.96      0.89       461\n",
      "           1       0.71      0.35      0.47       139\n",
      "\n",
      "    accuracy                           0.82       600\n",
      "   macro avg       0.77      0.65      0.68       600\n",
      "weighted avg       0.80      0.82      0.79       600\n",
      "\n",
      "Confusion Matrix \n",
      " [[441  20]\n",
      " [ 90  49]]\n",
      "AUC is: 0.8091\n"
     ]
    }
   ],
   "source": [
    "print('Accuracy of the GBM on test set: {:.3f}'.format(gbm_best.score(test_features,test_labels)))\n",
    "\n",
    "start = time.time()\n",
    "baseline_pred = gbm_best.predict(test_features)\n",
    "end = time.time()\n",
    "\n",
    "baseline_predprob = gbm_best.predict_proba(test_features)[:,1]\n",
    "\n",
    "print(\"Predicting test data takes %s seconds\" % round((end - start),3))\n",
    "print('Classification error rate:', np.mean(np.array(test_labels)!= baseline_pred))\n",
    "print('Classification report \\n', classification_report(test_labels, baseline_pred))\n",
    "\n",
    "#Since the class distribution is imbalanced/ skewed, we should look at the confusion matrix and AUC\n",
    "print('Confusion Matrix \\n', confusion_matrix(test_labels, baseline_pred))\n",
    "print('AUC is: {:.4f}'.format(roc_auc_score(test_labels, baseline_predprob)))"
   ]
  },
  {
   "cell_type": "markdown",
   "metadata": {
    "id": "YUwlGYsiIH_x"
   },
   "source": [
    "Cross validation improved accuracy from 0.797 to 0.82, and AUC from 0.797 to 0.81"
   ]
  },
  {
   "cell_type": "markdown",
   "metadata": {
    "id": "AZJG4kdfsZ0t"
   },
   "source": [
    "### 3.5 Save The Model"
   ]
  },
  {
   "cell_type": "code",
   "execution_count": 16,
   "metadata": {
    "id": "XJ2mrKM-IFG_"
   },
   "outputs": [],
   "source": [
    "# Save best gbm model\n",
    "save_weights_path = '../output/baseline_gbm.p'\n",
    "pickle.dump(gbm_best, open(save_weights_path,'wb'))"
   ]
  },
  {
   "cell_type": "markdown",
   "metadata": {
    "id": "Uny2vgwmNDxf"
   },
   "source": [
    "# **Step 4 Advanced Model -- Densely Connected Neural Network**\n",
    "* Based on the paper [Densely Connected Convolutional Networks](https://arxiv.org/abs/1608.06993) ,  Desely Connected Convolutional Neural Networks is a good model for image classification. With the improved data -- fiducial points, we will get a better accuracy and auc."
   ]
  },
  {
   "cell_type": "markdown",
   "metadata": {
    "id": "ZGpn1fclMdv7"
   },
   "source": [
    "### 4.1 Data Scaling On Balanced Dataset And Train Test Split"
   ]
  },
  {
   "cell_type": "code",
   "execution_count": 36,
   "metadata": {
    "id": "-Pa96PqUMc4b"
   },
   "outputs": [],
   "source": [
    "scaler = StandardScaler()\n",
    "scaler.fit(Balanced_X)\n",
    "distances_scale = scaler.transform(Balanced_X)"
   ]
  },
  {
   "cell_type": "code",
   "execution_count": 37,
   "metadata": {
    "id": "_Z3L1zUZUR36"
   },
   "outputs": [],
   "source": [
    "X_train, X_test, y_train, y_test = sklearn.model_selection.train_test_split(distances_scale, Blanced_Y, random_state=123)"
   ]
  },
  {
   "cell_type": "code",
   "execution_count": 38,
   "metadata": {
    "id": "NW9pAhpqM4Gy"
   },
   "outputs": [],
   "source": [
    "one_hot_test=tf.one_hot(y_test,depth=2)\n",
    "one_hot_train=tf.one_hot(y_train,depth=2)"
   ]
  },
  {
   "cell_type": "markdown",
   "metadata": {
    "id": "Umw0P6YOo2yL"
   },
   "source": [
    "### 4.2 Build The Architecture Of The Model"
   ]
  },
  {
   "cell_type": "code",
   "execution_count": 39,
   "metadata": {
    "id": "Px2SDjEzaDQg"
   },
   "outputs": [],
   "source": [
    "model = tf.keras.Sequential([\n",
    "        Input([3003]),\n",
    "        BatchNormalization(),\n",
    "        Dense(600,activation='relu',kernel_initializer=initializers.glorot_normal(seed=4)),\n",
    "        Dropout(0.25),\n",
    "        BatchNormalization(),\n",
    "        Dense(300,activation='relu',kernel_initializer=initializers.glorot_normal(seed=4)),\n",
    "        Dropout(0.25),\n",
    "        Dense(150,activation='relu',kernel_initializer=initializers.glorot_normal(seed=4)),\n",
    "        Dropout(0.25),\n",
    "        Dense(50,activation='relu',kernel_initializer=initializers.glorot_normal(seed=4)),\n",
    "        Dense(2,activation='softmax',kernel_initializer=initializers.glorot_normal(seed=4))\n",
    "])"
   ]
  },
  {
   "cell_type": "code",
   "execution_count": 40,
   "metadata": {
    "colab": {
     "base_uri": "https://localhost:8080/"
    },
    "id": "GqjraIOHa-lp",
    "outputId": "7253e834-2388-4ea6-b04b-ddc5f12ee8a2"
   },
   "outputs": [
    {
     "name": "stdout",
     "output_type": "stream",
     "text": [
      "Model: \"sequential\"\n",
      "_________________________________________________________________\n",
      "Layer (type)                 Output Shape              Param #   \n",
      "=================================================================\n",
      "batch_normalization (BatchNo (None, 3003)              12012     \n",
      "_________________________________________________________________\n",
      "dense (Dense)                (None, 600)               1802400   \n",
      "_________________________________________________________________\n",
      "dropout (Dropout)            (None, 600)               0         \n",
      "_________________________________________________________________\n",
      "batch_normalization_1 (Batch (None, 600)               2400      \n",
      "_________________________________________________________________\n",
      "dense_1 (Dense)              (None, 300)               180300    \n",
      "_________________________________________________________________\n",
      "dropout_1 (Dropout)          (None, 300)               0         \n",
      "_________________________________________________________________\n",
      "dense_2 (Dense)              (None, 150)               45150     \n",
      "_________________________________________________________________\n",
      "dropout_2 (Dropout)          (None, 150)               0         \n",
      "_________________________________________________________________\n",
      "dense_3 (Dense)              (None, 50)                7550      \n",
      "_________________________________________________________________\n",
      "dense_4 (Dense)              (None, 2)                 102       \n",
      "=================================================================\n",
      "Total params: 2,049,914\n",
      "Trainable params: 2,042,708\n",
      "Non-trainable params: 7,206\n",
      "_________________________________________________________________\n"
     ]
    }
   ],
   "source": [
    "model.summary()"
   ]
  },
  {
   "cell_type": "code",
   "execution_count": 41,
   "metadata": {
    "colab": {
     "base_uri": "https://localhost:8080/"
    },
    "id": "suzTZpjGGAu6",
    "outputId": "f65b23d9-fdab-4b4a-a776-1331bc94107c"
   },
   "outputs": [
    {
     "name": "stdout",
     "output_type": "stream",
     "text": [
      "Epoch 1/80\n",
      "113/113 [==============================] - 3s 26ms/step - loss: 0.6487 - accuracy: 0.6531\n",
      "Epoch 2/80\n",
      "113/113 [==============================] - 3s 26ms/step - loss: 0.5531 - accuracy: 0.7238\n",
      "Epoch 3/80\n",
      "113/113 [==============================] - 3s 27ms/step - loss: 0.5005 - accuracy: 0.7560\n",
      "Epoch 4/80\n",
      "113/113 [==============================] - 3s 27ms/step - loss: 0.4647 - accuracy: 0.7785\n",
      "Epoch 5/80\n",
      "113/113 [==============================] - 3s 26ms/step - loss: 0.4408 - accuracy: 0.7893\n",
      "Epoch 6/80\n",
      "113/113 [==============================] - 3s 27ms/step - loss: 0.4197 - accuracy: 0.8007\n",
      "Epoch 7/80\n",
      "113/113 [==============================] - 3s 26ms/step - loss: 0.3887 - accuracy: 0.8213 2s - los\n",
      "Epoch 8/80\n",
      "113/113 [==============================] - 3s 27ms/step - loss: 0.3916 - accuracy: 0.8224\n",
      "Epoch 9/80\n",
      "113/113 [==============================] - 3s 28ms/step - loss: 0.3587 - accuracy: 0.8349\n",
      "Epoch 10/80\n",
      "113/113 [==============================] - 3s 26ms/step - loss: 0.3591 - accuracy: 0.8368\n",
      "Epoch 11/80\n",
      "113/113 [==============================] - 3s 26ms/step - loss: 0.3475 - accuracy: 0.8429 0s - loss: 0\n",
      "Epoch 12/80\n",
      "113/113 [==============================] - 3s 24ms/step - loss: 0.3316 - accuracy: 0.8551\n",
      "Epoch 13/80\n",
      "113/113 [==============================] - 3s 24ms/step - loss: 0.3117 - accuracy: 0.8609\n",
      "Epoch 14/80\n",
      "113/113 [==============================] - 3s 25ms/step - loss: 0.3058 - accuracy: 0.8615\n",
      "Epoch 15/80\n",
      "113/113 [==============================] - 3s 25ms/step - loss: 0.2925 - accuracy: 0.8757\n",
      "Epoch 16/80\n",
      "113/113 [==============================] - 3s 24ms/step - loss: 0.3041 - accuracy: 0.8648\n",
      "Epoch 17/80\n",
      "113/113 [==============================] - 2s 22ms/step - loss: 0.2830 - accuracy: 0.8737\n",
      "Epoch 18/80\n",
      "113/113 [==============================] - 2s 22ms/step - loss: 0.2698 - accuracy: 0.8823\n",
      "Epoch 19/80\n",
      "113/113 [==============================] - 2s 22ms/step - loss: 0.2830 - accuracy: 0.8712\n",
      "Epoch 20/80\n",
      "113/113 [==============================] - 3s 23ms/step - loss: 0.2709 - accuracy: 0.8804 0s - loss: 0.275\n",
      "Epoch 21/80\n",
      "113/113 [==============================] - 2s 21ms/step - loss: 0.2721 - accuracy: 0.8740\n",
      "Epoch 22/80\n",
      "113/113 [==============================] - 2s 20ms/step - loss: 0.2544 - accuracy: 0.8879\n",
      "Epoch 23/80\n",
      "113/113 [==============================] - 2s 20ms/step - loss: 0.2493 - accuracy: 0.8893\n",
      "Epoch 24/80\n",
      "113/113 [==============================] - 2s 20ms/step - loss: 0.2467 - accuracy: 0.8926\n",
      "Epoch 25/80\n",
      "113/113 [==============================] - 2s 20ms/step - loss: 0.2405 - accuracy: 0.8890 0s - loss: 0.2407 - accura\n",
      "Epoch 26/80\n",
      "113/113 [==============================] - 2s 20ms/step - loss: 0.2584 - accuracy: 0.8859\n",
      "Epoch 27/80\n",
      "113/113 [==============================] - 2s 21ms/step - loss: 0.2333 - accuracy: 0.8959\n",
      "Epoch 28/80\n",
      "113/113 [==============================] - 2s 20ms/step - loss: 0.2369 - accuracy: 0.8945\n",
      "Epoch 29/80\n",
      "113/113 [==============================] - 2s 22ms/step - loss: 0.2307 - accuracy: 0.9009\n",
      "Epoch 30/80\n",
      "113/113 [==============================] - 2s 20ms/step - loss: 0.2197 - accuracy: 0.9009\n",
      "Epoch 31/80\n",
      "113/113 [==============================] - 2s 20ms/step - loss: 0.2302 - accuracy: 0.8954\n",
      "Epoch 32/80\n",
      "113/113 [==============================] - 2s 20ms/step - loss: 0.2222 - accuracy: 0.9045\n",
      "Epoch 33/80\n",
      "113/113 [==============================] - 2s 20ms/step - loss: 0.2142 - accuracy: 0.9059 0s - loss: 0.2231 - accura - ETA: 0s - loss: 0.2179 - accuracy\n",
      "Epoch 34/80\n",
      "113/113 [==============================] - 2s 21ms/step - loss: 0.2246 - accuracy: 0.9076\n",
      "Epoch 35/80\n",
      "113/113 [==============================] - 2s 20ms/step - loss: 0.2015 - accuracy: 0.9178\n",
      "Epoch 36/80\n",
      "113/113 [==============================] - 2s 20ms/step - loss: 0.2024 - accuracy: 0.9159\n",
      "Epoch 37/80\n",
      "113/113 [==============================] - 2s 20ms/step - loss: 0.1912 - accuracy: 0.9153\n",
      "Epoch 38/80\n",
      "113/113 [==============================] - 3s 25ms/step - loss: 0.1925 - accuracy: 0.9187\n",
      "Epoch 39/80\n",
      "113/113 [==============================] - 2s 21ms/step - loss: 0.1911 - accuracy: 0.9192\n",
      "Epoch 40/80\n",
      "113/113 [==============================] - 2s 20ms/step - loss: 0.1885 - accuracy: 0.9170\n",
      "Epoch 41/80\n",
      "113/113 [==============================] - 2s 21ms/step - loss: 0.1892 - accuracy: 0.9203\n",
      "Epoch 42/80\n",
      "113/113 [==============================] - 2s 20ms/step - loss: 0.1896 - accuracy: 0.9278\n",
      "Epoch 43/80\n",
      "113/113 [==============================] - 2s 21ms/step - loss: 0.1729 - accuracy: 0.9301\n",
      "Epoch 44/80\n",
      "113/113 [==============================] - 2s 20ms/step - loss: 0.1888 - accuracy: 0.9234\n",
      "Epoch 45/80\n",
      "113/113 [==============================] - 2s 21ms/step - loss: 0.1679 - accuracy: 0.9292 0s\n",
      "Epoch 46/80\n",
      "113/113 [==============================] - 3s 23ms/step - loss: 0.1581 - accuracy: 0.9326\n",
      "Epoch 47/80\n",
      "113/113 [==============================] - 3s 23ms/step - loss: 0.1698 - accuracy: 0.9262\n",
      "Epoch 48/80\n",
      "113/113 [==============================] - 3s 23ms/step - loss: 0.1726 - accuracy: 0.9265\n",
      "Epoch 49/80\n",
      "113/113 [==============================] - 3s 22ms/step - loss: 0.1598 - accuracy: 0.9339\n",
      "Epoch 50/80\n",
      "113/113 [==============================] - 3s 23ms/step - loss: 0.1619 - accuracy: 0.9320\n",
      "Epoch 51/80\n",
      "113/113 [==============================] - 3s 23ms/step - loss: 0.1660 - accuracy: 0.9348\n",
      "Epoch 52/80\n",
      "113/113 [==============================] - 3s 23ms/step - loss: 0.1562 - accuracy: 0.9381\n",
      "Epoch 53/80\n",
      "113/113 [==============================] - 2s 22ms/step - loss: 0.1597 - accuracy: 0.9345 0s - loss: 0.1588 - accuracy: 0.\n",
      "Epoch 54/80\n",
      "113/113 [==============================] - 2s 20ms/step - loss: 0.1389 - accuracy: 0.9414\n",
      "Epoch 55/80\n",
      "113/113 [==============================] - 2s 19ms/step - loss: 0.1617 - accuracy: 0.9348\n",
      "Epoch 56/80\n",
      "113/113 [==============================] - 2s 19ms/step - loss: 0.1462 - accuracy: 0.9392\n",
      "Epoch 57/80\n",
      "113/113 [==============================] - 2s 19ms/step - loss: 0.1649 - accuracy: 0.9331\n",
      "Epoch 58/80\n",
      "113/113 [==============================] - 2s 19ms/step - loss: 0.1509 - accuracy: 0.9417\n",
      "Epoch 59/80\n",
      "113/113 [==============================] - 2s 20ms/step - loss: 0.1350 - accuracy: 0.9498\n",
      "Epoch 60/80\n",
      "113/113 [==============================] - 2s 21ms/step - loss: 0.1467 - accuracy: 0.9412\n",
      "Epoch 61/80\n",
      "113/113 [==============================] - 3s 24ms/step - loss: 0.1421 - accuracy: 0.9414\n",
      "Epoch 62/80\n",
      "113/113 [==============================] - 3s 25ms/step - loss: 0.1285 - accuracy: 0.9495\n",
      "Epoch 63/80\n",
      "113/113 [==============================] - 3s 26ms/step - loss: 0.1372 - accuracy: 0.9462\n",
      "Epoch 64/80\n",
      "113/113 [==============================] - 2s 21ms/step - loss: 0.1284 - accuracy: 0.9462\n",
      "Epoch 65/80\n",
      "113/113 [==============================] - 3s 23ms/step - loss: 0.1388 - accuracy: 0.9467\n",
      "Epoch 66/80\n",
      "113/113 [==============================] - 2s 21ms/step - loss: 0.1421 - accuracy: 0.9459 \n",
      "Epoch 67/80\n",
      "113/113 [==============================] - 2s 21ms/step - loss: 0.1350 - accuracy: 0.9478\n",
      "Epoch 68/80\n",
      "113/113 [==============================] - 2s 20ms/step - loss: 0.1258 - accuracy: 0.9512\n",
      "Epoch 69/80\n",
      "113/113 [==============================] - 2s 21ms/step - loss: 0.1215 - accuracy: 0.9517\n",
      "Epoch 70/80\n",
      "113/113 [==============================] - 2s 21ms/step - loss: 0.1204 - accuracy: 0.9509 0s - loss: 0.1198 - accuracy: \n",
      "Epoch 71/80\n",
      "113/113 [==============================] - 2s 22ms/step - loss: 0.1229 - accuracy: 0.9517\n",
      "Epoch 72/80\n",
      "113/113 [==============================] - 2s 20ms/step - loss: 0.1107 - accuracy: 0.9534\n",
      "Epoch 73/80\n",
      "113/113 [==============================] - 2s 20ms/step - loss: 0.1124 - accuracy: 0.9548\n",
      "Epoch 74/80\n",
      "113/113 [==============================] - 2s 20ms/step - loss: 0.1138 - accuracy: 0.9520\n",
      "Epoch 75/80\n",
      "113/113 [==============================] - 2s 21ms/step - loss: 0.1153 - accuracy: 0.9520\n",
      "Epoch 76/80\n",
      "113/113 [==============================] - 2s 21ms/step - loss: 0.1077 - accuracy: 0.9567\n",
      "Epoch 77/80\n",
      "113/113 [==============================] - 2s 21ms/step - loss: 0.1061 - accuracy: 0.9567\n",
      "Epoch 78/80\n",
      "113/113 [==============================] - 2s 21ms/step - loss: 0.1191 - accuracy: 0.9520\n",
      "Epoch 79/80\n",
      "113/113 [==============================] - 2s 22ms/step - loss: 0.1079 - accuracy: 0.9589\n",
      "Epoch 80/80\n",
      "113/113 [==============================] - 2s 22ms/step - loss: 0.1211 - accuracy: 0.9536\n",
      "training  model takes 204.233 seconds\n"
     ]
    }
   ],
   "source": [
    "start_time = time.time()\n",
    "model.compile(loss='binary_crossentropy',optimizer = Adam(lr=0.001),metrics=['accuracy'])\n",
    "model_history = model.fit(X_train,one_hot_train,epochs = 80)\n",
    "print(\"training  model takes %s seconds\" % round((time.time() - start_time),3))"
   ]
  },
  {
   "cell_type": "markdown",
   "metadata": {
    "id": "AXg36i7dr6Sn"
   },
   "source": [
    "### 4.3 Visualize The Training Process"
   ]
  },
  {
   "cell_type": "code",
   "execution_count": 42,
   "metadata": {
    "colab": {
     "base_uri": "https://localhost:8080/",
     "height": 282
    },
    "id": "NdVqiKQOq4EK",
    "outputId": "ee90f058-c96d-45a6-d992-027c9c6eae44"
   },
   "outputs": [
    {
     "data": {
      "text/plain": [
       "<matplotlib.legend.Legend at 0x2292f4c4850>"
      ]
     },
     "execution_count": 42,
     "metadata": {},
     "output_type": "execute_result"
    },
    {
     "data": {
      "image/png": "[encoded data removed]",
      "text/plain": [
       "<Figure size 432x288 with 1 Axes>"
      ]
     },
     "metadata": {
      "needs_background": "light"
     },
     "output_type": "display_data"
    }
   ],
   "source": [
    "his_plot = pd.DataFrame(model_history.history)\n",
    "plt.plot(his_plot['accuracy'],label = 'Accuracy')\n",
    "plt.legend()"
   ]
  },
  {
   "cell_type": "code",
   "execution_count": 43,
   "metadata": {
    "colab": {
     "base_uri": "https://localhost:8080/",
     "height": 285
    },
    "id": "nJ7tV86PrGGc",
    "outputId": "3935361d-6454-439d-e61c-23857e6ce076"
   },
   "outputs": [
    {
     "data": {
      "text/plain": [
       "<matplotlib.legend.Legend at 0x2293a80fee0>"
      ]
     },
     "execution_count": 43,
     "metadata": {},
     "output_type": "execute_result"
    },
    {
     "data": {
      "image/png": "[encoded data removed]",
      "text/plain": [
       "<Figure size 432x288 with 1 Axes>"
      ]
     },
     "metadata": {
      "needs_background": "light"
     },
     "output_type": "display_data"
    }
   ],
   "source": [
    "plt.plot(his_plot['loss'],label = 'loss')\n",
    "plt.legend()"
   ]
  },
  {
   "cell_type": "markdown",
   "metadata": {
    "id": "Hie-Srt8pYcP"
   },
   "source": [
    "### 4.4 Evaluate The Model On Test Accuracy and AUC"
   ]
  },
  {
   "cell_type": "code",
   "execution_count": 44,
   "metadata": {
    "colab": {
     "base_uri": "https://localhost:8080/"
    },
    "id": "kXf3zJ0pUNCh",
    "outputId": "897ba2e1-1ebb-4305-ca4b-71a97d978d92"
   },
   "outputs": [
    {
     "name": "stdout",
     "output_type": "stream",
     "text": [
      "Testing model on train_dataset takes 1.308 seconds\n",
      "Testing model on test_dataset takes 0.231 seconds\n",
      "Train dataset -- Accuracy:  0.99\n",
      "Train dataset -- AUC:  1.00\n",
      "Test dataset -- Accuracy:  0.90\n",
      "Test dataset -- AUC:  0.98\n"
     ]
    }
   ],
   "source": [
    "# Test on the balanced dataset\n",
    "start_time = time.time()\n",
    "y_fitprob = model.predict(X_train)\n",
    "y_fit = np.argmax(y_fitprob, axis=-1)\n",
    "print(\"Testing model on train_dataset takes %s seconds\" % round((time.time() - start_time),3))\n",
    "\n",
    "start_time = time.time()\n",
    "y_predprob = model.predict(X_test)\n",
    "y_pred = np.argmax(y_predprob, axis=-1)\n",
    "print(\"Testing model on test_dataset takes %s seconds\" % round((time.time() - start_time),3))\n",
    "\n",
    "print(\"Train dataset -- Accuracy:  %.2f\" % sklearn.metrics.accuracy_score(y_train, y_fit))\n",
    "print(\"Train dataset -- AUC:  %.2f\" % sklearn.metrics.roc_auc_score(one_hot_train, y_fitprob))\n",
    "print(\"Test dataset -- Accuracy:  %.2f\" % sklearn.metrics.accuracy_score(y_test,y_pred))\n",
    "print(\"Test dataset -- AUC:  %.2f\" % sklearn.metrics.roc_auc_score(one_hot_test, y_predprob))"
   ]
  },
  {
   "cell_type": "code",
   "execution_count": 45,
   "metadata": {
    "colab": {
     "base_uri": "https://localhost:8080/"
    },
    "id": "_ATMSr4UiQLj",
    "outputId": "270eb7b9-9902-4818-c5cb-1186ae248166"
   },
   "outputs": [
    {
     "name": "stdout",
     "output_type": "stream",
     "text": [
      "Testing model on original dataset takes 0.458 seconds\n",
      "Train dataset -- Accuracy:  0.85\n",
      "Train dataset -- AUC:  0.98\n"
     ]
    }
   ],
   "source": [
    "# Test on the original dataset\n",
    "\n",
    "scaler = StandardScaler()\n",
    "scaler.fit(Ori_X)\n",
    "ori_scale = scaler.transform(Ori_X)\n",
    "one_hot_o = tf.one_hot(Ori_Y,depth=2)\n",
    "\n",
    "start_time = time.time()\n",
    "y_fitprob_o = model.predict(ori_scale)\n",
    "y_fit = np.argmax(y_fitprob_o, axis=-1)\n",
    "print(\"Testing model on original dataset takes %s seconds\" % round((time.time() - start_time),3))\n",
    "\n",
    "print(\"Train dataset -- Accuracy:  %.2f\" % sklearn.metrics.accuracy_score(Ori_Y, y_fit))\n",
    "print(\"Train dataset -- AUC:  %.2f\" % sklearn.metrics.roc_auc_score(one_hot_o, y_fitprob_o))"
   ]
  },
  {
   "cell_type": "markdown",
   "metadata": {
    "id": "1vZWeqjFpfLs"
   },
   "source": [
    "We can see that the model have 0.9-0.91 Test Auccuracy and 0.97-0.98 AUC. It can generalize well."
   ]
  },
  {
   "cell_type": "markdown",
   "metadata": {
    "id": "WWo4A_visJzI"
   },
   "source": [
    "### 4.5 Save The Model"
   ]
  },
  {
   "cell_type": "code",
   "execution_count": 46,
   "metadata": {
    "colab": {
     "base_uri": "https://localhost:8080/"
    },
    "id": "r0TfKYg7mV77",
    "outputId": "5396ef22-4320-45fc-f4aa-f3a45b85a258"
   },
   "outputs": [
    {
     "name": "stdout",
     "output_type": "stream",
     "text": [
      "WARNING:tensorflow:From C:\\ProgramData\\Anaconda3\\lib\\site-packages\\tensorflow\\python\\training\\tracking\\tracking.py:111: Model.state_updates (from tensorflow.python.keras.engine.training) is deprecated and will be removed in a future version.\n",
      "Instructions for updating:\n",
      "This property should not be used in TensorFlow 2.0, as updates are applied automatically.\n",
      "WARNING:tensorflow:From C:\\ProgramData\\Anaconda3\\lib\\site-packages\\tensorflow\\python\\training\\tracking\\tracking.py:111: Layer.updates (from tensorflow.python.keras.engine.base_layer) is deprecated and will be removed in a future version.\n",
      "Instructions for updating:\n",
      "This property should not be used in TensorFlow 2.0, as updates are applied automatically.\n",
      "INFO:tensorflow:Assets written to: ../output/DNN\\assets\n"
     ]
    }
   ],
   "source": [
    "# Save the model\n",
    "model.save(\"../output/DNN\")"
   ]
  },
  {
   "cell_type": "markdown",
   "metadata": {
    "id": "NAwxO1c6sp2J"
   },
   "source": [
    "# **Step 5 Predict Test Data**\n",
    "* If you skip the previous steps and want to predict test data immediately, please import the required dataset."
   ]
  },
  {
   "cell_type": "code",
   "execution_count": 1,
   "metadata": {
    "id": "2x3Szthov741"
   },
   "outputs": [],
   "source": [
    "import numpy as np\n",
    "import scipy.io\n",
    "import sklearn.metrics\n",
    "import sklearn \n",
    "import os\n",
    "import random\n",
    "import pandas as pd\n",
    "import time\n",
    "import pickle\n",
    "from sklearn.preprocessing import StandardScaler\n",
    "import keras.models\n",
    "import tensorflow as tf"
   ]
  },
  {
   "cell_type": "markdown",
   "metadata": {
    "id": "BzhiCvIDzOVG"
   },
   "source": [
    "* Run the function to read the test dataset"
   ]
  },
  {
   "cell_type": "code",
   "execution_count": 2,
   "metadata": {
    "id": "EfkUDfpHspmT"
   },
   "outputs": [],
   "source": [
    "def read_test_data(unzipped_folder_path,n):\n",
    "\n",
    "  # read points\n",
    "  for i in range(1,n+1):\n",
    "    p_path = str(i).zfill(4)+'.mat'\n",
    "    mat = scipy.io.loadmat(unzipped_folder_path+'/points/'+p_path)\n",
    "    if 'faceCoordinatesUnwarped' in mat:\n",
    "      cords = mat['faceCoordinatesUnwarped'] \n",
    "    else:\n",
    "      cords = mat['faceCoordinates2']\n",
    "\n",
    "    distance = sklearn.metrics.pairwise_distances(cords)       \n",
    "          # compute the pairwise distances in each mat\n",
    "    flatten_distance = distance[np.triu_indices(len(cords[:,0]), k = 1)]    \n",
    "          # stretch the upper triangle of the symmetric matrix \n",
    "          # to a long array with dimension 3003\n",
    "          # 3003 = (1+77)*78/2\n",
    "    if i==1:\n",
    "      distances = np.mat([flatten_distance])\n",
    "    else:\n",
    "      distances = np.append(distances, np.mat([flatten_distance]), axis = 0)\n",
    "  return (distances)\n"
   ]
  },
  {
   "cell_type": "markdown",
   "metadata": {
    "id": "z7RGwo6OzUtA"
   },
   "source": [
    "* Set path to the unzipped test dataset and path to where you want to store the output csv file."
   ]
  },
  {
   "cell_type": "code",
   "execution_count": 8,
   "metadata": {
    "id": "ynp2okyJuIiV"
   },
   "outputs": [],
   "source": [
    "test_data_path = 'C:/Users/wannian/Desktop/face/train_set'\n",
    "output_labels_path = 'C:/Users/wannian/Desktop/face/train_set/label_prediction.csv'\n",
    "save_weights_path = '../output/baseline_gbm.p'"
   ]
  },
  {
   "cell_type": "markdown",
   "metadata": {
    "id": "lXsjCEc-zn-_"
   },
   "source": [
    "* Read the data"
   ]
  },
  {
   "cell_type": "code",
   "execution_count": 4,
   "metadata": {
    "id": "VH50Bg1NuTGF"
   },
   "outputs": [
    {
     "name": "stdout",
     "output_type": "stream",
     "text": [
      "Read the training dataset takes 36.417 seconds\n"
     ]
    }
   ],
   "source": [
    "start_time = time.time()\n",
    "n=2000\n",
    "test_distances = read_test_data(test_data_path,n)\n",
    "print(\"Read the training dataset takes %s seconds\" % round((time.time() - start_time),3))"
   ]
  },
  {
   "cell_type": "code",
   "execution_count": 5,
   "metadata": {},
   "outputs": [
    {
     "data": {
      "text/plain": [
       "(2000, 3003)"
      ]
     },
     "execution_count": 5,
     "metadata": {},
     "output_type": "execute_result"
    }
   ],
   "source": [
    "test_distances.shape"
   ]
  },
  {
   "cell_type": "markdown",
   "metadata": {
    "id": "IJb6hBSNz9AX"
   },
   "source": [
    "* Scale the data"
   ]
  },
  {
   "cell_type": "code",
   "execution_count": 6,
   "metadata": {
    "id": "m3g4xF94vFX4"
   },
   "outputs": [],
   "source": [
    "# Scale the input distances\n",
    "scaler = StandardScaler()\n",
    "scaler.fit(test_distances)\n",
    "test_distances_scale = scaler.transform(test_distances)"
   ]
  },
  {
   "cell_type": "markdown",
   "metadata": {
    "id": "D3M3FVh_0A1X"
   },
   "source": [
    "* Load the model"
   ]
  },
  {
   "cell_type": "code",
   "execution_count": 47,
   "metadata": {
    "id": "FEuf7c_htF-k"
   },
   "outputs": [],
   "source": [
    "# Load DNN model\n",
    "predict_model = keras.models.load_model(\"../output/DNN\")\n",
    "# Load gbm model\n",
    "predict_model_baseline=pickle.load(open(save_weights_path,'rb'))"
   ]
  },
  {
   "cell_type": "markdown",
   "metadata": {
    "id": "QNFxGYHi0DKW"
   },
   "source": [
    " * Predict the labels"
   ]
  },
  {
   "cell_type": "code",
   "execution_count": 16,
   "metadata": {
    "id": "NNGCQnrvzCaZ"
   },
   "outputs": [
    {
     "name": "stdout",
     "output_type": "stream",
     "text": [
      "Testing model on test dataset takes 0.587 seconds\n"
     ]
    }
   ],
   "source": [
    "start_time = time.time()\n",
    "test_predprob = predict_model.predict(test_distances_scale)\n",
    "test_classes = np.argmax(test_predprob, axis=-1)\n",
    "test_classes_baseline = predict_model_baseline.predict(test_distances)\n",
    "print(\"Testing model on test dataset takes %s seconds\" % round((time.time() - start_time),3))"
   ]
  },
  {
   "cell_type": "markdown",
   "metadata": {
    "id": "RbGShZs403tx"
   },
   "source": [
    "* Write the labels to csv"
   ]
  },
  {
   "cell_type": "code",
   "execution_count": 25,
   "metadata": {},
   "outputs": [],
   "source": [
    "df=pd.DataFrame(np.array(range(1,n+1)),columns=['Index'])\n",
    "df['Baseline']=pd.DataFrame(test_classes_baseline)\n",
    "df['Advanced']=pd.DataFrame(test_classes)"
   ]
  },
  {
   "cell_type": "code",
   "execution_count": 26,
   "metadata": {
    "id": "hf5-n5FV028p"
   },
   "outputs": [],
   "source": [
    "df.to_csv(output_labels_path)"
   ]
  },
  {
   "cell_type": "code",
   "execution_count": null,
   "metadata": {},
   "outputs": [],
   "source": []
  }
 ],
 "metadata": {
  "colab": {
   "collapsed_sections": [],
   "name": "Main.ipynb",
   "provenance": []
  },
  "kernelspec": {
   "display_name": "Python 3",
   "language": "python",
   "name": "python3"
  },
  "language_info": {
   "codemirror_mode": {
    "name": "ipython",
    "version": 3
   },
   "file_extension": ".py",
   "mimetype": "text/x-python",
   "name": "python",
   "nbconvert_exporter": "python",
   "pygments_lexer": "ipython3",
   "version": "3.7.4"
  }
 },
 "nbformat": 4,
 "nbformat_minor": 1
}
