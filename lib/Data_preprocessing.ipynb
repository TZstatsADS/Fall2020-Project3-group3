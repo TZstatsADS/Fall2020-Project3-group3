{
  "nbformat": 4,
  "nbformat_minor": 0,
  "metadata": {
    "colab": {
      "name": "Data_preprocessing.ipynb",
      "provenance": [],
      "collapsed_sections": []
    },
    "kernelspec": {
      "name": "python3",
      "display_name": "Python 3"
    }
  },
  "cells": [
    {
      "cell_type": "code",
      "metadata": {
        "id": "CAMr80-b-5Xb"
      },
      "source": [
        "!unzip /content/train_set.zip"
      ],
      "execution_count": null,
      "outputs": []
    },
    {
      "cell_type": "code",
      "metadata": {
        "id": "_3CDqNYB_QBN"
      },
      "source": [
        "import numpy as np\n",
        "import scipy.io\n",
        "import sklearn.metrics\n",
        "import sklearn \n",
        "import pandas as pd\n",
        "import os\n",
        "import sklearn.model_selection\n",
        "import random"
      ],
      "execution_count": null,
      "outputs": []
    },
    {
      "cell_type": "code",
      "metadata": {
        "id": "_ohevZ6P_T2D"
      },
      "source": [
        "# read labels\n",
        "labels = pd.read_csv('/content/train_set/label.csv')\n",
        "y= labels['label'].to_numpy()\n",
        "\n",
        "# read points\n",
        "n = 3000\n",
        "for i in range(1,n+1):\n",
        "  p_path = str(i).zfill(4)+'.mat'\n",
        "  points_path = os.path.join('/content/train_set/points/', p_path)\n",
        "  mat = scipy.io.loadmat(points_path)\n",
        "  if 'faceCoordinatesUnwarped' in mat:\n",
        "    cords = mat['faceCoordinatesUnwarped'] \n",
        "  else:\n",
        "    cords = mat['faceCoordinates2']\n",
        "\n",
        "  distance = sklearn.metrics.pairwise_distances(cords)\n",
        "  flatten_distance = distance[np.triu_indices(len(cords[:,0]), k = 1)]\n",
        "  if i==1:\n",
        "    distances = np.mat([flatten_distance])\n",
        "  else:\n",
        "    distances = np.append(distances, np.mat([flatten_distance]), axis = 0)\n",
        "    "
      ],
      "execution_count": null,
      "outputs": []
    },
    {
      "cell_type": "code",
      "metadata": {
        "id": "XZU3iWqS_XoL"
      },
      "source": [
        "# data preprocessing\n",
        "\n",
        "print('The number of class 0 is ' + str(n-sum(y)))\n",
        "print('The number of class 1 is ' + str(sum(y)))\n",
        "print('Only %.2f'% (sum(y)/n*100) + '% of total dataset are class 1. ')\n",
        "print('So, it is an unbalanced dataset, we need to do some data preprocessing.')\n",
        "print('Here, we are using oversampling to generate more class 1 datasets.')\n",
        "\n",
        "mat_1 = np.add(np.where(y == 1),1)\n",
        "n_oversample = (n-sum(y))-sum(y)\n",
        "\n",
        "for i in range(n_oversample):\n",
        "  samples_index = random.sample(list(list(mat_1)[0]), 2)\n",
        "\n",
        "  p_path = str(samples_index[0]).zfill(4)+'.mat'\n",
        "  points_path = os.path.join('/content/train_set/points/', p_path)\n",
        "  mat = scipy.io.loadmat(points_path)\n",
        "  if 'faceCoordinatesUnwarped' in mat:\n",
        "    cords_0 = mat['faceCoordinatesUnwarped'] \n",
        "  else:\n",
        "    cords_0 = mat['faceCoordinates2']\n",
        "  \n",
        "  p_path = str(samples_index[1]).zfill(4)+'.mat'\n",
        "  points_path = os.path.join('/content/train_set/points/', p_path)\n",
        "  mat = scipy.io.loadmat(points_path)\n",
        "  if 'faceCoordinatesUnwarped' in mat:\n",
        "    cords_1 = mat['faceCoordinatesUnwarped'] \n",
        "  else:\n",
        "    cords_1 = mat['faceCoordinates2']\n",
        "\n",
        "  cords_new = (cords_0 + cords_1) / 2\n",
        "  distance = sklearn.metrics.pairwise_distances(cords_new)\n",
        "  flatten_distance = distance[np.triu_indices(len(cords_new[:,0]), k = 1)]\n",
        "  distances = np.append(distances, np.mat([flatten_distance]), axis = 0)\n",
        "  y = np.append(y,np.array(1))\n"
      ],
      "execution_count": null,
      "outputs": []
    }
  ]
}